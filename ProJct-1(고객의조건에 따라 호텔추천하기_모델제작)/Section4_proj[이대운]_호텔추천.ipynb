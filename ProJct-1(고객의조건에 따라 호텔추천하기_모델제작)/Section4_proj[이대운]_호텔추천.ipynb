{
 "cells": [
  {
   "cell_type": "markdown",
   "metadata": {
    "id": "8ZqSfcBnr03u"
   },
   "source": [
    "## 데이터 소개"
   ]
  },
  {
   "cell_type": "markdown",
   "metadata": {
    "id": "peakHLber6Gf"
   },
   "source": [
    "### 데이터 내용\n",
    "- 해당 데이터는 캐글의 [515K Hotel Reviews Data in Europe](https://www.kaggle.com/jiashenliu/515k-hotel-reviews-data-in-europe)\n",
    "에서 받아왔습니다.\n",
    "\n",
    "- 위 페이지에서 소개하기로는 Booking.com에서 스크랩 되었다고 하며, 유럽의 1493개의 럭셔리호텔들에 대한 515,000개의 리뷰를 데이터로 가지고 있습니다.\n",
    "\n",
    "- 515,000개의 데이터 중 \n",
    "Spain의 Barcelona에 있는 호텔들의 2016~2017년 데이터로만 프로젝트를 진행함"
   ]
  },
  {
   "cell_type": "markdown",
   "metadata": {
    "id": "__TDLTuGs_jg"
   },
   "source": [
    "### 칼럼\n",
    "- Hotel_Address: 호텔주소\n",
    "- Review_Date: 리뷰한 날짜\n",
    "- Average_Score: 호텔의 평균 점수(지난해 최신 코멘트를 기반으로 계산됨)\n",
    "- Hotel_Name: 호텔이름\n",
    "- Reviewer_Nationality: 리뷰어의 국적\n",
    "- Negative_Review: 부정적 리뷰. 없을 경우 'No Negative'로 표기\n",
    "- ReviewTotalNegativeWordCounts: 부정적 리뷰에 사용된 총 단어의 수\n",
    "- Positive_Review: 긍정적 리뷰. 없을 경우 'No Positive'로 표기\n",
    "- ReviewTotalPositiveWordCounts: 긍정적 리뷰에 사용된 총 단어의 수\n",
    "- Reviewer_Score: 리뷰 점수\n",
    "- TotalNumberofReviewsReviewerHasGiven: 리뷰어의 지난 리뷰들의 갯수\n",
    "- TotalNumberof_Reviews: 호텔이 가진 리뷰의 수\n",
    "- Tags: 리뷰어가 호텔에 단 태그\n",
    "- dayssincereview: 검토 날짜와 스크래핑 날짜 사이의 기간입니다.\n",
    "- AdditionalNumberof_Scoring: 투숙객들에 의한 호텔의 평가점수(리뷰를 작성하지 않은 평가자도 존재)\n",
    "- lat: 호텔의 위도\n",
    "- lng: 호텔의 경도\n",
    "\n",
    "------------------------------\n",
    "### 사용할 칼럼\n",
    "Hotel_Address, Hotel_Name, Negative_Review, Positive_Review, Tags"
   ]
  },
  {
   "cell_type": "markdown",
   "metadata": {
    "id": "dsQu40zpQ5DM"
   },
   "source": [
    "### 데이터 선정이유\n",
    "\n",
    "해당 데이터를 통해 고객들이 원하는 호텔은 추천하고자 한다.\n",
    "\n",
    " 사용자는 호텔의 유형 즉 여행목적, 룸컨디션 등을 선택하고 자신이 찾고자 하는 호텔 혹은 가고싶지 않은 호텔의 조건을 추가적으로 기입하여 이전 리뷰에 해당 조건이 존재한다면, 제외하거나 추천하여 사용자들이 필요로 하는 호텔을 적극적으로 추천한다.\n",
    "\n",
    "- \"어떤 회사에서 높이 살 수 있을까?\"\n",
    "   - 해당 데이터가 '호텔'에 국한되어 있지만, 고객에게 제품을 판매하거나, 고객의 요구를 파악하여 추천하는 서비스를 제공하고자 하는 회사라면 비슷한 데이터를 가지고 있을경우 사용될 수 있을 것이라 생각한다. \n",
    "\n",
    "\n",
    "- \"어디 회사의 어느부분에 적용해 볼 수 있을까\"\n",
    "  - \"호텔예약서비스를 제공하는 회사의 호텔추천 서비스, 유통판매업의 같은 상품류 별 추천상품을 제공하는 서비스 등\"\n"
   ]
  },
  {
   "cell_type": "markdown",
   "metadata": {
    "id": "t2PVYpFdxMDf"
   },
   "source": [
    "### 테이터를 이용한 가설\n",
    "사람들의 리뷰를 자연어처리를 통해 모델을 학습하고,"
   ]
  },
  {
   "cell_type": "code",
   "execution_count": 2,
   "metadata": {
    "id": "yvRBvbfHqefc"
   },
   "outputs": [],
   "source": [
    "# # kaggle api\n",
    "# !pip install kaggle\n",
    "# from google.colab import files\n",
    "# files.upload()"
   ]
  },
  {
   "cell_type": "code",
   "execution_count": 3,
   "metadata": {
    "id": "EADddFsJqqBz"
   },
   "outputs": [],
   "source": [
    "# !mkdir -p ~/.kaggle\n",
    "# !cp kaggle.json ~/.kaggle/\n",
    "# # Permission Warning이 발생하지 않도록 해줍니다.\n",
    "# !chmod 600 ~/.kaggle/kaggle.json"
   ]
  },
  {
   "cell_type": "code",
   "execution_count": 4,
   "metadata": {
    "id": "QvTjUYLTrSXg"
   },
   "outputs": [],
   "source": [
    "# ! kaggle datasets download -d jiashenliu/515k-hotel-reviews-data-in-europe"
   ]
  },
  {
   "cell_type": "code",
   "execution_count": 5,
   "metadata": {
    "id": "OMielVlRrWk1"
   },
   "outputs": [],
   "source": [
    "# !ls"
   ]
  },
  {
   "cell_type": "code",
   "execution_count": 6,
   "metadata": {
    "id": "SO3kd_aGrYBL"
   },
   "outputs": [],
   "source": [
    "# !unzip 515k-hotel-reviews-data-in-europe.zip"
   ]
  },
  {
   "cell_type": "markdown",
   "metadata": {
    "id": "CAD4qmCvKfDE"
   },
   "source": [
    "## 데이터 분석"
   ]
  },
  {
   "cell_type": "code",
   "execution_count": 7,
   "metadata": {
    "id": "oZAJurOSaCDY"
   },
   "outputs": [],
   "source": [
    "# !pip install squarify"
   ]
  },
  {
   "cell_type": "code",
   "execution_count": 16,
   "metadata": {
    "id": "TvbkmJvYKksz"
   },
   "outputs": [],
   "source": [
    "import pandas as pd\n",
    "import numpy as np\n",
    "import tensorflow as tf\n",
    "import matplotlib.pyplot as plt\n",
    "import seaborn as sns\n",
    "import spacy\n",
    "import re\n",
    "\n",
    "from tensorflow.keras.preprocessing.text import Tokenizer"
   ]
  },
  {
   "cell_type": "code",
   "execution_count": 17,
   "metadata": {
    "id": "99JPff5rK5jb"
   },
   "outputs": [
    {
     "name": "stdout",
     "output_type": "stream",
     "text": [
      "df_shape:(60149, 5)\n"
     ]
    },
    {
     "data": {
      "text/html": [
       "<div>\n",
       "<style scoped>\n",
       "    .dataframe tbody tr th:only-of-type {\n",
       "        vertical-align: middle;\n",
       "    }\n",
       "\n",
       "    .dataframe tbody tr th {\n",
       "        vertical-align: top;\n",
       "    }\n",
       "\n",
       "    .dataframe thead th {\n",
       "        text-align: right;\n",
       "    }\n",
       "</style>\n",
       "<table border=\"1\" class=\"dataframe\">\n",
       "  <thead>\n",
       "    <tr style=\"text-align: right;\">\n",
       "      <th></th>\n",
       "      <th>Hotel_Address</th>\n",
       "      <th>Hotel_Name</th>\n",
       "      <th>Negative_Review</th>\n",
       "      <th>Positive_Review</th>\n",
       "      <th>Tags</th>\n",
       "    </tr>\n",
       "  </thead>\n",
       "  <tbody>\n",
       "    <tr>\n",
       "      <th>0</th>\n",
       "      <td>234 Diputacio Eixample 08007 Barcelona Spain</td>\n",
       "      <td>Sansi Diputacio</td>\n",
       "      <td>First room the air conditioner wasn t working...</td>\n",
       "      <td>Restaurant across the street opens at 6am and...</td>\n",
       "      <td>[' Leisure trip ', ' Couple ', ' Double Room '...</td>\n",
       "    </tr>\n",
       "    <tr>\n",
       "      <th>1</th>\n",
       "      <td>234 Diputacio Eixample 08007 Barcelona Spain</td>\n",
       "      <td>Sansi Diputacio</td>\n",
       "      <td>No Negative</td>\n",
       "      <td>The value for money was the greatest I ve see...</td>\n",
       "      <td>[' Leisure trip ', ' Couple ', ' Double Room '...</td>\n",
       "    </tr>\n",
       "    <tr>\n",
       "      <th>2</th>\n",
       "      <td>234 Diputacio Eixample 08007 Barcelona Spain</td>\n",
       "      <td>Sansi Diputacio</td>\n",
       "      <td>Seems like the cleaning personal misunderstoo...</td>\n",
       "      <td>I like the area its close to passeig de graci...</td>\n",
       "      <td>[' Leisure trip ', ' Family with young childre...</td>\n",
       "    </tr>\n",
       "    <tr>\n",
       "      <th>3</th>\n",
       "      <td>234 Diputacio Eixample 08007 Barcelona Spain</td>\n",
       "      <td>Sansi Diputacio</td>\n",
       "      <td>Having a Pool would have been better I felt t...</td>\n",
       "      <td>Location was good as very central</td>\n",
       "      <td>[' Leisure trip ', ' Couple ', ' Double Room '...</td>\n",
       "    </tr>\n",
       "    <tr>\n",
       "      <th>4</th>\n",
       "      <td>234 Diputacio Eixample 08007 Barcelona Spain</td>\n",
       "      <td>Sansi Diputacio</td>\n",
       "      <td>to be asked to forward my booking com booking...</td>\n",
       "      <td>location smiley staff</td>\n",
       "      <td>[' Business trip ', ' Solo traveler ', ' Doubl...</td>\n",
       "    </tr>\n",
       "  </tbody>\n",
       "</table>\n",
       "</div>"
      ],
      "text/plain": [
       "                                  Hotel_Address       Hotel_Name  \\\n",
       "0  234 Diputacio Eixample 08007 Barcelona Spain  Sansi Diputacio   \n",
       "1  234 Diputacio Eixample 08007 Barcelona Spain  Sansi Diputacio   \n",
       "2  234 Diputacio Eixample 08007 Barcelona Spain  Sansi Diputacio   \n",
       "3  234 Diputacio Eixample 08007 Barcelona Spain  Sansi Diputacio   \n",
       "4  234 Diputacio Eixample 08007 Barcelona Spain  Sansi Diputacio   \n",
       "\n",
       "                                     Negative_Review  \\\n",
       "0   First room the air conditioner wasn t working...   \n",
       "1                                        No Negative   \n",
       "2   Seems like the cleaning personal misunderstoo...   \n",
       "3   Having a Pool would have been better I felt t...   \n",
       "4   to be asked to forward my booking com booking...   \n",
       "\n",
       "                                     Positive_Review  \\\n",
       "0   Restaurant across the street opens at 6am and...   \n",
       "1   The value for money was the greatest I ve see...   \n",
       "2   I like the area its close to passeig de graci...   \n",
       "3                 Location was good as very central    \n",
       "4                              location smiley staff   \n",
       "\n",
       "                                                Tags  \n",
       "0  [' Leisure trip ', ' Couple ', ' Double Room '...  \n",
       "1  [' Leisure trip ', ' Couple ', ' Double Room '...  \n",
       "2  [' Leisure trip ', ' Family with young childre...  \n",
       "3  [' Leisure trip ', ' Couple ', ' Double Room '...  \n",
       "4  [' Business trip ', ' Solo traveler ', ' Doubl...  "
      ]
     },
     "execution_count": 17,
     "metadata": {},
     "output_type": "execute_result"
    }
   ],
   "source": [
    "# 데이터 읽어와서 스페인의 16-17년 정보만 남기기\n",
    "data = pd.read_csv('Hotel_Reviews.csv')\n",
    "data2017_16 = data[data['Review_Date'].str.split('/').str[2] >= '2016']\n",
    "spain2016_17 = data[data['Hotel_Address'].str.split().str[-1] == 'Spain']\n",
    "df = spain2016_17[['Hotel_Address', 'Hotel_Name', 'Negative_Review', 'Positive_Review', 'Tags']].reset_index(drop=True)\n",
    "print(f\"df_shape:{df.shape}\")\n",
    "df.head()"
   ]
  },
  {
   "cell_type": "markdown",
   "metadata": {
    "id": "zEcvcLifXEU1"
   },
   "source": [
    "### 전처리\n",
    "- 'Hotel_Address' 피처에서 국가와 도시 분리하기\n",
    "- 'Tags' 피처에서 숙박목적, 인원, 방규모 분리하기\n",
    "    - 인원, 방규모는 데이터가 너무 지저분 하여 제외함\n",
    "  - 특성의 전처리: 소문자화, 알파벳과 숫자 ' , '빼고 삭제\n",
    "  - ' , '기준으로 구분짓고 새로운 특성으로 생성 후 기존 'Tags'삭제\n",
    "- 리뷰들의 토큰화\n",
    "  - 소문자화 및 불용어처리\n",
    "  - 표제어추출"
   ]
  },
  {
   "cell_type": "code",
   "execution_count": 18,
   "metadata": {
    "id": "1MxGoZeGlUoA"
   },
   "outputs": [],
   "source": [
    "nlp = spacy.load(\"en_core_web_sm\")\n",
    "STOP_WORDS_union = nlp.Defaults.stop_words.union(['negative', 't', 'hotel', 'didn', ' '])"
   ]
  },
  {
   "cell_type": "code",
   "execution_count": 19,
   "metadata": {
    "id": "_s8I4hTlLBRI"
   },
   "outputs": [],
   "source": [
    " # # 국가-도시 분리 - 스페인만 할때는 불필요함\n",
    "# def split_country_city(data):\n",
    "#   try:\n",
    "#     data['City'] = data['Hotel_Name'].str.split(' ').str[-2]\n",
    "#     data['Country'] = data['Hotel_Address'].str.split(' ').str[-1]\n",
    "#     data = data.drop('Hotel_Address', axis=1)\n",
    "#     data = data[['Country', 'City', 'Hotel_Name', 'Negative_Review', 'Positive_Review', 'Tags']]\n",
    "#     print(\"split_city_country: Done!\")\n",
    "#   except:\n",
    "#     print(\"split_city_country: already Done Or Not found [Hotel_Address]\")\n",
    "#   return data\n",
    "\n",
    "# 같은 호텔리뷰 합쳐서 호텔들의 리뷰 리스트로 만들기\n",
    "def split_hotel_review(data, review_category):\n",
    "  try:\n",
    "    reviews = []\n",
    "    hotel_list = data['Hotel_Name'].unique()\n",
    "    for i in hotel_list:\n",
    "      review = ''\n",
    "      hotel1 = data[data['Hotel_Name'] == i]\n",
    "      for i in hotel1[review_category]:\n",
    "        review = review +'. '+ i\n",
    "      reviews.append(review)\n",
    "    print(\"split_hotel_review: Done\")\n",
    "  except:\n",
    "    print(\"split_hotel_review: already Done Or Not found [Hotel_Name]\")\n",
    "  return reviews\n",
    "\n",
    "# ['Tags'] 전처리용 \n",
    "def tags_preprocessing(data):\n",
    "  for idx, text in enumerate(data):\n",
    "    text = text.lower()\n",
    "    text = re.sub(r\"[^a-z0-9,]\", '', text)\n",
    "    text = text.replace('\\n', ' ')\n",
    "    data[idx] = text\n",
    "  print('tags_preprocessing: Done!')\n",
    "  return data\n",
    "\n",
    "# 리뷰 토큰화\n",
    "def get_lemmas(data):\n",
    "  tokenizer = spacy.tokenizer.Tokenizer(nlp.vocab)\n",
    "  tokens = []\n",
    "  for doc in tokenizer.pipe(data):\n",
    "    lemmas = []\n",
    "    for token in doc: \n",
    "      if token.text.lower() not in STOP_WORDS_union:\n",
    "        if ((token.is_stop == False) and (token.is_punct == False)) and (token.pos_ != 'PRON'):\n",
    "          lemmas.append(token.lemma_.lower())\n",
    "    tokens.append(lemmas)\n",
    "  print(\"get_lemmas: Done!\")\n",
    "  return tokens\n",
    "\n",
    "# 태그 분류하기\n",
    "def split_Tags(data):\n",
    "  count = 0\n",
    "  try:\n",
    "    data['travel_perpos'] = data['Tags'].str.split(',').str[0]\n",
    "    # data['traveler_category'] = data['Tags'].str.split(',').str[1]\n",
    "    # data['room_condition'] = data['Tags'].str.split(',').str[2]\n",
    "    data = data.drop('Tags', axis=1)\n",
    "    print(\"split_Tags: Done, Without Submitted_from_mobiledevice!\")\n",
    "  except:\n",
    "    print(\"split_Tags: already Done Or Not found [Tags]\")\n",
    "  return data"
   ]
  },
  {
   "cell_type": "code",
   "execution_count": 20,
   "metadata": {
    "id": "LTG3KWDvfoDn"
   },
   "outputs": [
    {
     "name": "stdout",
     "output_type": "stream",
     "text": [
      "tags_preprocessing: Done!\n",
      "split_Tags: Done, Without Submitted_from_mobiledevice!\n",
      "split_hotel_review: Done\n",
      "split_hotel_review: Done\n",
      "get_lemmas: Done!\n",
      "get_lemmas: Done!\n"
     ]
    }
   ],
   "source": [
    "# df = split_city_country(df)\n",
    "df['Tags'] = tags_preprocessing(df['Tags'])\n",
    "df = split_Tags(df)\n",
    "\n",
    "Negative_Review = split_hotel_review(df, 'Negative_Review')\n",
    "Positive_Review = split_hotel_review(df, 'Positive_Review')\n",
    "\n",
    "df['Negative_Review'] = get_lemmas(df['Negative_Review'])\n",
    "df['Positive_Review'] = get_lemmas(df['Positive_Review'])"
   ]
  },
  {
   "cell_type": "code",
   "execution_count": 21,
   "metadata": {
    "id": "a9UTGBeMj-z6"
   },
   "outputs": [],
   "source": [
    "from collections import Counter\n",
    "def word_count(docs):\n",
    "    \"\"\" 토큰화된 문서들을 입력받아 토큰을 카운트 하고 관련된 속성을 가진 데이터프레임을 리턴합니다.\n",
    "    Args:\n",
    "        docs (series or list): 토큰화된 문서가 들어있는 list\n",
    "    Returns:\n",
    "        list: Dataframe\n",
    "    \"\"\"\n",
    "    # 전체 코퍼스에서 단어 빈도 카운트\n",
    "    word_counts = Counter()\n",
    "\n",
    "    # 단어가 존재하는 문서의 빈도 카운트, 단어가 한 번 이상 존재하면 +1\n",
    "    word_in_docs = Counter()\n",
    "\n",
    "    # 전체 문서의 갯수\n",
    "    total_docs = len(docs)\n",
    "\n",
    "    for doc in docs:\n",
    "        word_counts.update(doc)\n",
    "        word_in_docs.update(set(doc))\n",
    "\n",
    "    temp = zip(word_counts.keys(), word_counts.values())\n",
    "\n",
    "    wc = pd.DataFrame(temp, columns = ['word', 'count'])\n",
    "\n",
    "    # 단어의 순위\n",
    "    # method='first': 같은 값의 경우 먼저나온 요소를 우선\n",
    "    wc['rank'] = wc['count'].rank(method='first', ascending=False)\n",
    "    total = wc['count'].sum()\n",
    "\n",
    "    # 코퍼스 내 단어의 비율\n",
    "    wc['percent'] = wc['count'].apply(lambda x: x / total)\n",
    "\n",
    "    wc = wc.sort_values(by='rank')\n",
    "\n",
    "    # 누적 비율\n",
    "    # cumsum() : cumulative sum\n",
    "    wc['cul_percent'] = wc['percent'].cumsum()\n",
    "\n",
    "    temp2 = zip(word_in_docs.keys(), word_in_docs.values())\n",
    "    ac = pd.DataFrame(temp2, columns=['word', 'word_in_docs'])\n",
    "    wc = ac.merge(wc, on='word')\n",
    "    \n",
    "    # 전체 문서 중 존재하는 비율\n",
    "    wc['word_in_docs_percent'] = wc['word_in_docs'].apply(lambda x: x / total_docs)\n",
    "\n",
    "    return wc.sort_values(by='rank')"
   ]
  },
  {
   "cell_type": "code",
   "execution_count": 24,
   "metadata": {
    "id": "4rkxn3dxzayh"
   },
   "outputs": [
    {
     "name": "stdout",
     "output_type": "stream",
     "text": [
      "Negative_Review_word_top10\n"
     ]
    },
    {
     "data": {
      "image/png": "[encoded data removed]",
      "text/plain": [
       "<Figure size 432x288 with 1 Axes>"
      ]
     },
     "metadata": {},
     "output_type": "display_data"
    },
    {
     "data": {
      "text/html": [
       "<div>\n",
       "<style scoped>\n",
       "    .dataframe tbody tr th:only-of-type {\n",
       "        vertical-align: middle;\n",
       "    }\n",
       "\n",
       "    .dataframe tbody tr th {\n",
       "        vertical-align: top;\n",
       "    }\n",
       "\n",
       "    .dataframe thead th {\n",
       "        text-align: right;\n",
       "    }\n",
       "</style>\n",
       "<table border=\"1\" class=\"dataframe\">\n",
       "  <thead>\n",
       "    <tr style=\"text-align: right;\">\n",
       "      <th></th>\n",
       "      <th>word</th>\n",
       "      <th>word_in_docs</th>\n",
       "      <th>count</th>\n",
       "      <th>rank</th>\n",
       "      <th>percent</th>\n",
       "      <th>cul_percent</th>\n",
       "      <th>word_in_docs_percent</th>\n",
       "    </tr>\n",
       "  </thead>\n",
       "  <tbody>\n",
       "    <tr>\n",
       "      <th>0</th>\n",
       "      <td></td>\n",
       "      <td>40986</td>\n",
       "      <td>453876</td>\n",
       "      <td>1.0</td>\n",
       "      <td>1.0</td>\n",
       "      <td>1.0</td>\n",
       "      <td>0.681408</td>\n",
       "    </tr>\n",
       "  </tbody>\n",
       "</table>\n",
       "</div>"
      ],
      "text/plain": [
       "  word  word_in_docs   count  rank  percent  cul_percent  word_in_docs_percent\n",
       "0              40986  453876   1.0      1.0          1.0              0.681408"
      ]
     },
     "execution_count": 24,
     "metadata": {},
     "output_type": "execute_result"
    }
   ],
   "source": [
    "import squarify\n",
    "Negative_Review_wc = word_count(df['Negative_Review'])\n",
    "Negative_Review_wc_top10 = Negative_Review_wc[Negative_Review_wc['rank'] <= 10]\n",
    "print(\"Negative_Review_word_top10\")\n",
    "squarify.plot(sizes=Negative_Review_wc_top10['percent'], label=Negative_Review_wc_top10['word'], alpha=0.6 )\n",
    "plt.axis('off')\n",
    "plt.show()\n",
    "Negative_Review_wc_top10"
   ]
  },
  {
   "cell_type": "code",
   "execution_count": 25,
   "metadata": {
    "id": "oCvMOON9lXQq"
   },
   "outputs": [
    {
     "name": "stdout",
     "output_type": "stream",
     "text": [
      "Positive_Review_word_top10\n"
     ]
    },
    {
     "data": {
      "image/png": "[encoded data removed]",
      "text/plain": [
       "<Figure size 432x288 with 1 Axes>"
      ]
     },
     "metadata": {},
     "output_type": "display_data"
    },
    {
     "data": {
      "text/html": [
       "<div>\n",
       "<style scoped>\n",
       "    .dataframe tbody tr th:only-of-type {\n",
       "        vertical-align: middle;\n",
       "    }\n",
       "\n",
       "    .dataframe tbody tr th {\n",
       "        vertical-align: top;\n",
       "    }\n",
       "\n",
       "    .dataframe thead th {\n",
       "        text-align: right;\n",
       "    }\n",
       "</style>\n",
       "<table border=\"1\" class=\"dataframe\">\n",
       "  <thead>\n",
       "    <tr style=\"text-align: right;\">\n",
       "      <th></th>\n",
       "      <th>word</th>\n",
       "      <th>word_in_docs</th>\n",
       "      <th>count</th>\n",
       "      <th>rank</th>\n",
       "      <th>percent</th>\n",
       "      <th>cul_percent</th>\n",
       "      <th>word_in_docs_percent</th>\n",
       "    </tr>\n",
       "  </thead>\n",
       "  <tbody>\n",
       "    <tr>\n",
       "      <th>0</th>\n",
       "      <td></td>\n",
       "      <td>59498</td>\n",
       "      <td>582961</td>\n",
       "      <td>1.0</td>\n",
       "      <td>1.0</td>\n",
       "      <td>1.0</td>\n",
       "      <td>0.989177</td>\n",
       "    </tr>\n",
       "  </tbody>\n",
       "</table>\n",
       "</div>"
      ],
      "text/plain": [
       "  word  word_in_docs   count  rank  percent  cul_percent  word_in_docs_percent\n",
       "0              59498  582961   1.0      1.0          1.0              0.989177"
      ]
     },
     "execution_count": 25,
     "metadata": {},
     "output_type": "execute_result"
    }
   ],
   "source": [
    "Positive_Review_wc = word_count(df['Positive_Review'])\n",
    "Positive_Review_wc_top10 = Positive_Review_wc[Positive_Review_wc['rank'] <= 10]\n",
    "print(\"Positive_Review_word_top10\")\n",
    "squarify.plot(sizes=Positive_Review_wc_top10['percent'], label=Positive_Review_wc_top10['word'], alpha=0.6 )\n",
    "plt.axis('off')\n",
    "plt.show()\n",
    "Positive_Review_wc_top10"
   ]
  },
  {
   "cell_type": "markdown",
   "metadata": {
    "id": "PL0zSH_utxuQ"
   },
   "source": [
    "### 리뷰 벡터화(TF-IDF)"
   ]
  },
  {
   "cell_type": "code",
   "execution_count": 26,
   "metadata": {
    "id": "if9iYATiuXa_"
   },
   "outputs": [],
   "source": [
    "from sklearn.feature_extraction.text import TfidfVectorizer"
   ]
  },
  {
   "cell_type": "code",
   "execution_count": 27,
   "metadata": {
    "id": "a1Tc0q2M2vnm"
   },
   "outputs": [],
   "source": [
    "# plot 스타일과 폰트 크기를 설정합니다.\n",
    "sns.set(style='whitegrid', font_scale=1.15)\n",
    "\n",
    "# 문서별 단어의 수 분포도 그리는 함수\n",
    "def plot_text_length_dist(text_list):\n",
    "\n",
    "    # 문장이 요소인 리스트를 받아 각 문서의 단어 수를 가진 리스트를 만듭니다\n",
    "    num_words = [len(doc.split()) for doc in text_list]\n",
    "    \n",
    "    sns.displot(num_words)\n",
    "    plt.title('# of words per documents')\n",
    "    plt.xlabel('Number of words')\n",
    "    plt.ylabel('Number of documents')\n",
    "    plt.show()"
   ]
  },
  {
   "cell_type": "code",
   "execution_count": 28,
   "metadata": {
    "id": "58PrBKnRiwhy"
   },
   "outputs": [
    {
     "data": {
      "image/png": "[encoded data removed]",
      "text/plain": [
       "<Figure size 360x360 with 1 Axes>"
      ]
     },
     "metadata": {},
     "output_type": "display_data"
    }
   ],
   "source": [
    "plot_text_length_dist(Positive_Review)"
   ]
  },
  {
   "cell_type": "code",
   "execution_count": 29,
   "metadata": {
    "id": "2U0zWGrA2xJi"
   },
   "outputs": [
    {
     "data": {
      "image/png": "[encoded data removed]",
      "text/plain": [
       "<Figure size 360x360 with 1 Axes>"
      ]
     },
     "metadata": {},
     "output_type": "display_data"
    }
   ],
   "source": [
    "plot_text_length_dist(Negative_Review)"
   ]
  },
  {
   "cell_type": "code",
   "execution_count": 30,
   "metadata": {
    "id": "09Vjb7KF38H_"
   },
   "outputs": [],
   "source": [
    "# spacy tokenizer 함수\n",
    "def tokenize(document):\n",
    "    \n",
    "    doc = nlp(document)\n",
    "    # punctuations: !\"#$%&'()*+,-./:;<=>?@[\\]^_`{|}~\n",
    "    return [token.lemma_.strip() for token in doc if (token.is_stop != True) and (token.is_punct != True) and (token.is_alpha == True)]"
   ]
  },
  {
   "cell_type": "code",
   "execution_count": 31,
   "metadata": {},
   "outputs": [],
   "source": [
    "import warnings\n",
    "warnings.filterwarnings(\"ignore\")"
   ]
  },
  {
   "cell_type": "code",
   "execution_count": 32,
   "metadata": {
    "id": "bvWQPtqGlzDc"
   },
   "outputs": [
    {
     "name": "stdout",
     "output_type": "stream",
     "text": [
      "    ab  abandon  ability  abit      able  able access  able change  \\\n",
      "0  0.0      0.0      0.0   0.0  0.000000          0.0          0.0   \n",
      "1  0.0      0.0      0.0   0.0  0.020229          0.0          0.0   \n",
      "2  0.0      0.0      0.0   0.0  0.015139          0.0          0.0   \n",
      "3  0.0      0.0      0.0   0.0  0.000000          0.0          0.0   \n",
      "4  0.0      0.0      0.0   0.0  0.008793          0.0          0.0   \n",
      "\n",
      "   able check  able close  able coffee  ...  young people  youngster  youth  \\\n",
      "0         0.0         0.0          0.0  ...           0.0        0.0    0.0   \n",
      "1         0.0         0.0          0.0  ...           0.0        0.0    0.0   \n",
      "2         0.0         0.0          0.0  ...           0.0        0.0    0.0   \n",
      "3         0.0         0.0          0.0  ...           0.0        0.0    0.0   \n",
      "4         0.0         0.0          0.0  ...           0.0        0.0    0.0   \n",
      "\n",
      "    yr  yuk    z      zero  zero sound  zip      zone  \n",
      "0  0.0  0.0  0.0  0.000000         0.0  0.0  0.000000  \n",
      "1  0.0  0.0  0.0  0.000000         0.0  0.0  0.000000  \n",
      "2  0.0  0.0  0.0  0.000000         0.0  0.0  0.000000  \n",
      "3  0.0  0.0  0.0  0.000000         0.0  0.0  0.000000  \n",
      "4  0.0  0.0  0.0  0.016122         0.0  0.0  0.019255  \n",
      "\n",
      "[5 rows x 20000 columns]\n",
      "   abd  ability  abit      able  able accommodate  able answer  able assist  \\\n",
      "0  0.0      0.0   0.0  0.000000               0.0          0.0     0.000000   \n",
      "1  0.0      0.0   0.0  0.015727               0.0          0.0     0.049365   \n",
      "2  0.0      0.0   0.0  0.000000               0.0          0.0     0.000000   \n",
      "3  0.0      0.0   0.0  0.020980               0.0          0.0     0.000000   \n",
      "4  0.0      0.0   0.0  0.000000               0.0          0.0     0.000000   \n",
      "\n",
      "   able check  able communicate  able drink  ...  yr old  yum     yummy  \\\n",
      "0         0.0               0.0         0.0  ...     0.0  0.0  0.000000   \n",
      "1         0.0               0.0         0.0  ...     0.0  0.0  0.000000   \n",
      "2         0.0               0.0         0.0  ...     0.0  0.0  0.000000   \n",
      "3         0.0               0.0         0.0  ...     0.0  0.0  0.000000   \n",
      "4         0.0               0.0         0.0  ...     0.0  0.0  0.008699   \n",
      "\n",
      "   yummy breakfast    z  zara  zen  zero      zone  zoo  \n",
      "0              0.0  0.0   0.0  0.0   0.0  0.000000  0.0  \n",
      "1              0.0  0.0   0.0  0.0   0.0  0.000000  0.0  \n",
      "2              0.0  0.0   0.0  0.0   0.0  0.000000  0.0  \n",
      "3              0.0  0.0   0.0  0.0   0.0  0.000000  0.0  \n",
      "4              0.0  0.0   0.0  0.0   0.0  0.010461  0.0  \n",
      "\n",
      "[5 rows x 20000 columns]\n"
     ]
    }
   ],
   "source": [
    "# NearestNeighbor (K-NN, K-최근접 이웃)\n",
    "N_tfidf = TfidfVectorizer(stop_words='english'\n",
    "                        ,tokenizer=tokenize\n",
    "                        ,ngram_range=(1,2)\n",
    "                        ,max_df=.7\n",
    "                        ,min_df=3\n",
    "                        ,max_features = 20000\n",
    "                       )\n",
    "P_tfidf = TfidfVectorizer(stop_words='english'\n",
    "                        ,tokenizer=tokenize\n",
    "                        ,ngram_range=(1,2)\n",
    "                        ,max_df=.7\n",
    "                        ,min_df=3\n",
    "                        ,max_features = 20000\n",
    "                       )\n",
    "Negative_Review_dtm = N_tfidf.fit_transform(Negative_Review)\n",
    "Negative_Review_dtm = pd.DataFrame(Negative_Review_dtm.todense(), columns=N_tfidf.get_feature_names())\n",
    "print(Negative_Review_dtm.head())\n",
    "\n",
    "Positive_Review_dtm = P_tfidf.fit_transform(Positive_Review)\n",
    "Positive_Review_dtm = pd.DataFrame(Positive_Review_dtm.todense(), columns=P_tfidf.get_feature_names())\n",
    "print(Positive_Review_dtm.head())"
   ]
  },
  {
   "cell_type": "markdown",
   "metadata": {
    "id": "MPHBbsf2kHNa"
   },
   "source": [
    "### 유사도를 이용한 문서검색(NearestNeighbor (K-NN, K-최근접 이웃))"
   ]
  },
  {
   "cell_type": "code",
   "execution_count": 33,
   "metadata": {
    "id": "YOBsEfsH3-In"
   },
   "outputs": [
    {
     "data": {
      "text/plain": [
       "NearestNeighbors(algorithm='kd_tree')"
      ]
     },
     "execution_count": 33,
     "metadata": {},
     "output_type": "execute_result"
    }
   ],
   "source": [
    "from sklearn.neighbors import NearestNeighbors\n",
    "\n",
    "# dtm을 사용히 NN 모델을 학습시킵니다. (디폴트)최근접 5 이웃.\n",
    "Negative_Review_nn = NearestNeighbors(n_neighbors=5, algorithm='kd_tree')\n",
    "Negative_Review_nn.fit(Negative_Review_dtm)\n",
    "\n",
    "Positive_Review_nn = NearestNeighbors(n_neighbors=5, algorithm='kd_tree')\n",
    "Positive_Review_nn.fit(Positive_Review_dtm)"
   ]
  },
  {
   "cell_type": "code",
   "execution_count": 34,
   "metadata": {
    "id": "jTGsJh0N4hdK"
   },
   "outputs": [
    {
     "data": {
      "text/plain": [
       "(array([[0.        , 1.29045742, 1.29911656, 1.30106376, 1.30255274]]),\n",
       " array([[  0,  80,  20,  31, 146]]))"
      ]
     },
     "execution_count": 34,
     "metadata": {},
     "output_type": "execute_result"
    }
   ],
   "source": [
    "Negative_Review_nn.kneighbors([Negative_Review_dtm.iloc[0].values])"
   ]
  },
  {
   "cell_type": "code",
   "execution_count": 35,
   "metadata": {
    "id": "lBbGGb__joKG"
   },
   "outputs": [
    {
     "data": {
      "text/plain": [
       "(array([[0.        , 1.32190539, 1.32801265, 1.33103839, 1.33420492]]),\n",
       " array([[  0, 101,  41,  68,  40]]))"
      ]
     },
     "execution_count": 35,
     "metadata": {},
     "output_type": "execute_result"
    }
   ],
   "source": [
    "Positive_Review_nn.kneighbors([Positive_Review_dtm.iloc[0].values])"
   ]
  },
  {
   "cell_type": "markdown",
   "metadata": {
    "id": "OmS62jV_BZRy"
   },
   "source": [
    "기능추가"
   ]
  },
  {
   "cell_type": "code",
   "execution_count": 36,
   "metadata": {
    "id": "-GIa8qHy_2UZ"
   },
   "outputs": [],
   "source": [
    "# ['travel_perpos']을 통해서 해당 유형에서 가장 많이 예약된 상위 5개의 호텔 알려주기\n",
    "def top5_hotel_by_travel_perpos(data, travel_perpos):\n",
    "  travel_perpos_ls = data['travel_perpos'].unique()\n",
    "  hotel_list = data['Hotel_Name'].unique()\n",
    "  dic = {}\n",
    "  for i in hotel_list:\n",
    "    s = data[data['Hotel_Name']==i]['travel_perpos']=='travel_perpos'\n",
    "    dic[i]=s.count()\n",
    "  top5 = sorted(dic.items(), key=lambda x: x[1], reverse=True)[0:5]\n",
    "  print(f\"입력된 숙박목적은 '{travel_perpos}'이며, 해당 목적으로 가장많이 이용된 상위5개 호텔과 이용자 수 는 다음과 같습니다. \")\n",
    "  return top5\n",
    "\n",
    "# 사용자의 추가적인 조건에 따라 호텔 추천하기\n",
    "def kneighbors(Negative, Positive):\n",
    "  hotel_list = data['Hotel_Name'].unique()\n",
    "  test_N = N_tfidf.transform(Negative)\n",
    "  test_P = P_tfidf.transform(Positive)\n",
    "  Negative_kneighbors=Negative_Review_nn.kneighbors(test_N.todense())[1][0]\n",
    "  Positive_kneighbors=Positive_Review_nn.kneighbors(test_P.todense())[1][0]\n",
    "  print(f\"입력된 싫어하는 호텔조건은\\n {Negative}\\n이며, 입력된 조건과 비슷한 리뷰가 있는 호텔은 다음과 같습니다.\")\n",
    "  for i in hotel_list[Negative_kneighbors]:\n",
    "    print(i)\n",
    "  print(\"\\n\")\n",
    "  print(f\"입력된 선호하는 호텔조건은\\n {Positive}\\n이며, 입력된 조건과 비슷한 리뷰가 있는 호텔은 다음과 같습니다.\")\n",
    "  for i in hotel_list[Positive_kneighbors]:\n",
    "    print(i)\n",
    "  return"
   ]
  },
  {
   "cell_type": "markdown",
   "metadata": {
    "id": "ZjItE40PlFGt"
   },
   "source": [
    "## 결과 알려주기\n",
    "- ['travel_perpos']을 통해서 해당 유형에서 숙박리뷰가 가장 많은 호텔 알려주기\n",
    "- 싫어하는 호텔조건을 통해 비슷한 네거티브리뷰가 있는 호텔 알려주\n",
    "- 좋아하는 호텔조건을 통해 비슷한 포지티브리뷰가 있는 호텔 알려주기"
   ]
  },
  {
   "cell_type": "code",
   "execution_count": 37,
   "metadata": {
    "id": "9_WkDznxpWtg"
   },
   "outputs": [],
   "source": [
    "# ['travel_perpos']의 종류\n",
    "travel_perpos = ['leisuretrip', 'businesstrip', 'couple', 'solotraveler',\n",
    "       'familywithyoungchildren', 'withapet', 'group',\n",
    "       'travelerswithfriends', 'familywitholderchildren']"
   ]
  },
  {
   "cell_type": "code",
   "execution_count": 38,
   "metadata": {
    "id": "tr8gFKr9E4wt"
   },
   "outputs": [],
   "source": [
    "# 'n1'=[\"\"\".  Breakfast should be better is not 4 star hotel level Music in the hallway was too loud and annoying No possibility of opening the room window .  The staff was unacceptable Especially Aylin We were precharged for parking and by the time we arrived they said they no longer have a parking place so they sent us to another one for which we also paid 61 50 The problem is we still didn t get our 72 60 that we had prepaid And it s been 2 weeks since our stay Aslo a week before our stay they had sent us an e mail telling us that there had been something wrong with the payment but the bank said they had already got the money weeks ago Nothing like that has ever happened to me before and I am traveling a lot They still haven t paid me back for the parking they don t even have Barcelona is amazing Just choose another hotel .  Not sure how this is a 4 star hotel No coffee machine No safety box Check in took 20 minutes No isolation between bathroom and room Your kid will wake up if you take a shower.  it s not a bad experience but if you choose this hotel for your holiday inform them that you want a room with city view Our room had a view of air well and it was lack of sunshine I asked them to change the room but the hotel was full at that time .  AIR CONDITIONING WAS NOT GOOD AND STUFF HAD NO SOLUTION FOR IT THE LIFT IS OLD WHEN IN USE STRANGE NOISES WERE COMING.  I have seen two stars hotels with better facilities then this four stars hotel Anyway good value for money considering the location . No Negative. No Negative. No Negative.  They like to copy creditcard. No Negative.  One negative noisy cleaners very early in the morning due to thin walls . No Negative.  There is some one of the housekepers take my watch when he cleaned my room.  bathroom needs to be refurbished\"\"\"],\n",
    "# 'p1'=[\"\"\".  Staff is nice and always smiling Ideal position .  location.  Location is nice .  Debonair staff trying to help you all the time clean non smoking rooms good breakfast good location .  GOOD LOCATION NICE AMBIANCE HELPFUL STAFF AT LEAST TRIED THERE BEST .  Good location reasonably priced .  Value for stay close to La Ramblas Staff assist and hospitality.  Staff was very serviceminded.  Staff were excellent polite and accommodating Location was excellent . No Positive.  Extremly helpful and friendly staff Ideally situated .  Great location Modern decor Good value for money .  Location just walking distance to Rambla St.  The resiption staff location.  everything else was quite good\"\"\"]"
   ]
  },
  {
   "cell_type": "code",
   "execution_count": null,
   "metadata": {
    "id": "vmvhHs17DV7K"
   },
   "outputs": [],
   "source": [
    "user1 = {\n",
    "    'travel_perpos':str(input(\"travel_perpos?:\")),\n",
    "    'n1':[input(\"negative_r?: \")],\n",
    "    'p1':[input(\"positive_r?: \")]\n",
    "    }"
   ]
  },
  {
   "cell_type": "code",
   "execution_count": 40,
   "metadata": {
    "id": "U1ql-mEpAx-w"
   },
   "outputs": [
    {
     "name": "stdout",
     "output_type": "stream",
     "text": [
      "입력된 숙박목적은 'businesstrip'이며, 해당 목적으로 가장많이 이용된 상위5개 호텔과 이용자 수 는 다음과 같습니다. \n"
     ]
    },
    {
     "data": {
      "text/plain": [
       "[('Eurostars Grand Marina Hotel GL', 1082),\n",
       " ('Catalonia Atenas', 1061),\n",
       " ('Catalonia Plaza Catalunya', 964),\n",
       " ('Catalonia Barcelona Plaza', 932),\n",
       " ('Barcelona Princess', 897)]"
      ]
     },
     "execution_count": 40,
     "metadata": {},
     "output_type": "execute_result"
    }
   ],
   "source": [
    "top5_hotel_by_travel_perpos(df, user1['travel_perpos'])"
   ]
  },
  {
   "cell_type": "code",
   "execution_count": 41,
   "metadata": {
    "id": "Suy7HQBRFi71"
   },
   "outputs": [
    {
     "name": "stdout",
     "output_type": "stream",
     "text": [
      "입력된 싫어하는 호텔조건은\n",
      " ['Breakfast should be better is not 4 star hotel level Music in the hallway was too loud and annoying No possibility of opening the room window .  The staff was unacceptable Especially Aylin We were precharged for parking and by the time we arrived they said they no longer have a parking place so they sent us to another one for which we also paid 61 50 The problem is we still didn t get our 72 60 that we had prepaid And it s been 2 weeks since our stay Aslo a week before our stay they had sent us an e mail telling us that there had been something wrong with the payment but the bank said they had already got the money weeks ago Nothing like that has ever happened to me before and I am traveling a lot They still haven t paid me back for the parking they don t even have Barcelona is amazing Just choose another hotel .  Not sure how this is a 4 star hotel No coffee machine No safety box Check in took 20 minutes No isolation between bathroom and room Your kid will wake up if you take a shower.  it s not a bad experience but if you choose this hotel for your holiday inform them that you want a room with city view Our room had a view of air well and it was lack of sunshine I asked them to change the room but the hotel was full at that time .  AIR CONDITIONING WAS NOT GOOD AND STUFF HAD NO SOLUTION FOR IT THE LIFT IS OLD WHEN IN USE STRANGE NOISES WERE COMING.  I have seen two stars hotels with better facilities then this four stars hotel Anyway good value for money considering the location . No Negative. No Negative. No Negative.  They like to copy creditcard. No Negative.  One negative noisy cleaners very early in the morning due to thin walls . No Negative.  There is some one of the housekepers take my watch when he cleaned my room.  bathroom needs to be refurbished']\n",
      "이며, 입력된 조건과 비슷한 리뷰가 있는 호텔은 다음과 같습니다.\n",
      "Hotel Arena\n",
      "The Montague On The Gardens\n",
      "Hotel Indigo London Paddington\n",
      "H tel Westminster\n",
      "Hotel Panache\n",
      "\n",
      "\n",
      "입력된 선호하는 호텔조건은\n",
      " ['Staff is nice and always smiling Ideal position .  location.  Location is nice .  Debonair staff trying to help you all the time clean non smoking rooms good breakfast good location .  GOOD LOCATION NICE AMBIANCE HELPFUL STAFF AT LEAST TRIED THERE BEST .  Good location reasonably priced .  Value for stay close to La Ramblas Staff assist and hospitality.  Staff was very serviceminded.  Staff were excellent polite and accommodating Location was excellent . No Positive.  Extremly helpful and friendly staff Ideally situated .  Great location Modern decor Good value for money .  Location just walking distance to Rambla St.  The resiption staff location.  everything else was quite good']\n",
      "이며, 입력된 조건과 비슷한 리뷰가 있는 호텔은 다음과 같습니다.\n",
      "Hotel Arena\n",
      "Best Western Mornington Hotel Hyde Park\n",
      "Batty Langley s\n",
      "Hotel Odeon Saint Germain\n",
      "H tel de Jos phine BONAPARTE\n"
     ]
    }
   ],
   "source": [
    "kneighbors(user1['n1'], user1['p1'])"
   ]
  },
  {
   "cell_type": "code",
   "execution_count": null,
   "metadata": {
    "id": "RsPxg9RWyDL4"
   },
   "outputs": [],
   "source": []
  }
 ],
 "metadata": {
  "accelerator": "GPU",
  "colab": {
   "collapsed_sections": [],
   "name": "Section4_proj[이대운]_호텔추천.ipynb",
   "private_outputs": true,
   "provenance": []
  },
  "kernelspec": {
   "display_name": "Python 3 (ipykernel)",
   "language": "python",
   "name": "python3"
  },
  "language_info": {
   "codemirror_mode": {
    "name": "ipython",
    "version": 3
   },
   "file_extension": ".py",
   "mimetype": "text/x-python",
   "name": "python",
   "nbconvert_exporter": "python",
   "pygments_lexer": "ipython3",
   "version": "3.8.10"
  }
 },
 "nbformat": 4,
 "nbformat_minor": 4
}
