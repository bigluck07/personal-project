{
 "cells": [
  {
   "cell_type": "markdown",
   "source": [
    "# 데이터 선택이유\n",
    "해당데이터는 타겟피쳐가 따로 정의되어 있지 않은 데이터셋으로, 현업에서 사용자들이 무엇을 선호할지 알지못하고 사용자들의 선호도를 예측해야하는 상황에서 도움을 줄 수 있는 경험이 될 것이라 생각했습니다. 또한 애니는 개인의 선호도를 명확하게 구분지을 수 있는 데이터라 생각했습니다.\n",
    "추가적으로 애니 추천과 비슷하게 어떠한 물품이나, 서비스, 등과 같은 사용자의 선호도를 예측하여 추천을 해야하는 직무에 도움이 될것이라 생각하여 선택하게 되었습니다.\n",
    "\n",
    "# 데이터 정보\n",
    "- 출처: https://www.kaggle.com/hernan4444/anime-recommendation-database-2020?select=watching_status.csv\n",
    "\n",
    "## 소개\n",
    "17.562개의 애니에 대한 정보와 325.772명의 다른 사용자가 선호하는 정보가 포함되어 있습니다.\n",
    "\n",
    "## 특이점\n",
    "이 데이터 세트에는 성인용 애니(헨타이)에 대한 정보가 포함되어 있습니다.\n",
    "\n",
    "## 콘텐츠\n",
    "### animelist.csv\n",
    "- 사용자가 각 점수와 함께 등록한 모든 애니 목록, 시청 현황 및 시청 회수\n",
    "- 사용자별 애니 목록입니다. 중단, 완료, 시청 계획, 현재 시청 및 보류를 포함합니다.\n",
    "  - user_id: 사용자 ID\n",
    "  - anime_id: 애니의 ID\n",
    "  - score: 사용자가 부여한 1에서 10 사이의 점수. 사용자가 점수를 할당하지 않은 경우 0\n",
    "  - watch_status: 사용자의 애니 목록에 있는 이 애니의 상태.\n",
    "  - Watched_episodes: 사용자가 본 에피소드 수.\n",
    "\n",
    "### watching_status.csv\n",
    "- animelist.csv의 watching_status에 해당하는 시청상태를 설명\n",
    "  - status: 상태분류\n",
    "  - description: 상태내용\n",
    "\n",
    "### rating_complete.csv\n",
    "- 사용자가 watching_status==2(완료)를 가진 애니에 부여한 등급 목록을 포함하는 CSV\n",
    "- 사용자가 완전히 본 애니에 대해 부여한 등급입니다.\n",
    "  - user_id: 사용자 ID\n",
    "  - anime_id: 사용자가 평가한 애니 ID\n",
    "  - rating: 사용자가 할당한 등급입니다.\n",
    "\n",
    "### anime_with_synopsis.csv\n",
    "- 장르 열에 Hentai가 포함되지 않은 애니 개요가 포함된 CSV\n",
    "  - sypnopsis: 개요\n",
    "  - 이외 칼럼은 anime.csv 파일과 중복됨\n",
    "\n",
    "### anime.csv \n",
    "- 모든 애니에 대한 일반 정보를 포함합니다.\n",
    "- 장르, 통계, 스튜디오 등과 같은 애니에 대한 정보\n",
    "  - MAL_ID: 애니의 ID\n",
    "  - Name: 애니의 전체 이름\n",
    "  - Score: 모든 사용자가 제공한 애니의 평균 점수\n",
    "  - Genres: 애니의 쉼표로 구분된 장르 목록 (예: 액션, 어드벤처, 코미디, 드라마, 공상과학, 우주)\n",
    "  - English name: 애니의 영어로 된 전체 이름\n",
    "  - Japanese name : 애니의 일본어로 된 전체 이름\n",
    "  - Type': TV, 영화, OVA 등\n",
    "  - Episodes': 챕터 수.\n",
    "  - Aired : 방송일. \n",
    "  - Premiered: 시즌 초연. \n",
    "  - Producers: 쉼표로 구분된 제작자 목록\n",
    "  - Licensors: 쉼표로 구분된 라이선스 제공자 \n",
    "  - Studios: 쉼표로 구분된 스튜디오 목록\n",
    "  - Source: 출처(만화, 라이트 노벨, 책 등)\n",
    "  - Duration: 에피소드당 애니 길이\n",
    "  - Rating: 연령등급(예: R - 17+(폭력 및 욕설))\n",
    "  - Ranked: 점수에 따른 순위. (예: 28)\n",
    "  - Popularity: 목록에 애니를 추가한 사용자 수에 따른 순위\n",
    "  - Members: 이 애니의 \"그룹\"에 있는 커뮤니티 회원 수 (예: 1251960)\n",
    "  - Favorites: 애니를 \"즐겨찾기\"로 보유한 사용자 수. (예: 61,971)\n",
    "  - Watching: 애니를 보고 있는 사용자 수입니다. (예: 105808)\n",
    "  - Completed: 애니를 완료한 사용자 수입니다. (예: 718161)\n",
    "  - On-Hold: 애니를 보류 중인 사용자 수입니다. (예: 71513)\n",
    "  - Dropped: 애니를 삭제한 사용자 수입니다. (예: 26678)\n",
    "  - Plan to Watch': 애니를 시청할 계획인 사용자 수. (예: 329800)\n",
    "  - Score-10': 10을 기록한 사용자 수(예: 229170)\n",
    "  - Score-9': 9를 기록한 사용자 수(예: 182126)\n",
    "  - Score-8': 8을 기록한 사용자 수(예: 131625)\n",
    "  - Score-7': 7을 기록한 사용자 수(예: 62330)\n",
    "  - Score-6': 6을 기록한 사용자 수(예: 20688)\n",
    "  - Score-5': 5점을 받은 사용자 수(예: 8904)\n",
    "  - Score-4': 4점을 받은 사용자 수(예: 3184)\n",
    "  - Score-3': 3을 기록한 사용자 수(예: 1357)\n",
    "  - Score-2': 2를 기록한 사용자 수(예: 741)\n",
    "  - Score-1': 1을 기록한 사용자 수(예: 1580)\n",
    "\n",
    "## 확인해볼만한 사항\n",
    "### 데이터 확인 및 분석\n",
    "- Popularity를 기준으로 상위 데이터를 나누고, 범주형 데이터들을 시각화를 해서 데이터를 분석함\n",
    "\n",
    "### 가설\n",
    "- 사용자들이 비슷한 내용을 좋아한다면, 시놉시스를 통해 비슷한 내용을 갖는 애니를 추천하면 좋을것이다.\n",
    "\n",
    "- 상위데이터들의 시각화자료들을 분석하여 도출된 결과들은 모델로 예측한 값과 비슷할 것이다. "
   ],
   "metadata": {}
  },
  {
   "cell_type": "markdown",
   "source": [
    "# 데이터 확인 및 분석\n",
    "csv형식의 데이터를 불러와 테이블형으로 바꿔주고, 해당 데이터를 어떻게 사용할지 확인해본다.\n",
    "\n",
    "## 데이터 불러오기, 데이터 확인, 약간의 전처리"
   ],
   "metadata": {}
  },
  {
   "cell_type": "code",
   "execution_count": null,
   "source": [
    "data_folder = \"/Users/daenymac/Desktop/personal-project/ProJct-4(애니메이션 추천)/AI_02_이대운\" # 파일 저장 위치\n",
    "# 파일 저장 위치 + 파일명\n",
    "data1 = data_folder+\"/anime.csv\"\n",
    "data2 = data_folder+\"/anime_with_synopsis.csv\"\n",
    "data3 = data_folder+\"/animelist.csv\"\n",
    "data4 = data_folder+\"/rating_complete.csv\"\n",
    "data5 = data_folder+\"/watching_status.csv\""
   ],
   "outputs": [],
   "metadata": {}
  },
  {
   "cell_type": "code",
   "execution_count": 2,
   "source": [
    "import numpy as np\n",
    "import pandas as pd\n",
    "\n",
    "# Name을 기준으로 병합이 가능, 하지만 시놉시스 하나만 병합하면 되는데\n",
    "# 추천에서는 자연어처리를 통해서 사용해야 해서, 아직은 병합하지 않음 \n",
    "# 추후 자연어처리로 새로운 인사이트가 창출 될 수 있는 지 확인 후 사용\n",
    "df_anime = pd.read_csv(data1)\n",
    "df_anime_with_synopsis = pd.read_csv(data2)\n",
    "\n",
    "# df_rating_complete은 df_animelist에 종속된다 = 병합필요가 없다\n",
    "# 사용할 가치가 있다면 사용하면되지 굳이 사용할 필요는 없다.\n",
    "df_animelist = pd.read_csv(data3)\n",
    "df_rating_complete = pd.read_csv(data4)\n",
    "\n",
    "# df_animelist의 watching_status를 뉴메릭하게 바꾼 기준\n",
    "df_watching_status = pd.read_csv(data5)\n",
    "\n",
    "# 따라서 사용할만한 df는 df_anime, df_animelist 이다."
   ],
   "outputs": [],
   "metadata": {}
  },
  {
   "cell_type": "code",
   "execution_count": 3,
   "source": [
    "df_anime.dtypes"
   ],
   "outputs": [
    {
     "output_type": "execute_result",
     "data": {
      "text/plain": [
       "MAL_ID            int64\n",
       "Name             object\n",
       "Score            object\n",
       "Genres           object\n",
       "English name     object\n",
       "Japanese name    object\n",
       "Type             object\n",
       "Episodes         object\n",
       "Aired            object\n",
       "Premiered        object\n",
       "Producers        object\n",
       "Licensors        object\n",
       "Studios          object\n",
       "Source           object\n",
       "Duration         object\n",
       "Rating           object\n",
       "Ranked           object\n",
       "Popularity        int64\n",
       "Members           int64\n",
       "Favorites         int64\n",
       "Watching          int64\n",
       "Completed         int64\n",
       "On-Hold           int64\n",
       "Dropped           int64\n",
       "Plan to Watch     int64\n",
       "Score-10         object\n",
       "Score-9          object\n",
       "Score-8          object\n",
       "Score-7          object\n",
       "Score-6          object\n",
       "Score-5          object\n",
       "Score-4          object\n",
       "Score-3          object\n",
       "Score-2          object\n",
       "Score-1          object\n",
       "dtype: object"
      ]
     },
     "metadata": {},
     "execution_count": 3
    }
   ],
   "metadata": {}
  },
  {
   "cell_type": "code",
   "execution_count": 4,
   "source": [
    "df_animelist.dtypes"
   ],
   "outputs": [
    {
     "output_type": "execute_result",
     "data": {
      "text/plain": [
       "user_id             int64\n",
       "anime_id            int64\n",
       "rating              int64\n",
       "watching_status     int64\n",
       "watched_episodes    int64\n",
       "dtype: object"
      ]
     },
     "metadata": {},
     "execution_count": 4
    }
   ],
   "metadata": {}
  },
  {
   "cell_type": "code",
   "execution_count": 5,
   "source": [
    "df_anime.columns"
   ],
   "outputs": [
    {
     "output_type": "execute_result",
     "data": {
      "text/plain": [
       "Index(['MAL_ID', 'Name', 'Score', 'Genres', 'English name', 'Japanese name',\n",
       "       'Type', 'Episodes', 'Aired', 'Premiered', 'Producers', 'Licensors',\n",
       "       'Studios', 'Source', 'Duration', 'Rating', 'Ranked', 'Popularity',\n",
       "       'Members', 'Favorites', 'Watching', 'Completed', 'On-Hold', 'Dropped',\n",
       "       'Plan to Watch', 'Score-10', 'Score-9', 'Score-8', 'Score-7', 'Score-6',\n",
       "       'Score-5', 'Score-4', 'Score-3', 'Score-2', 'Score-1'],\n",
       "      dtype='object')"
      ]
     },
     "metadata": {},
     "execution_count": 5
    }
   ],
   "metadata": {}
  },
  {
   "cell_type": "code",
   "execution_count": 6,
   "source": [
    "df_animelist.head()"
   ],
   "outputs": [
    {
     "output_type": "execute_result",
     "data": {
      "text/plain": [
       "   user_id  anime_id  rating  watching_status  watched_episodes\n",
       "0        0        67       9                1                 1\n",
       "1        0      6702       7                1                 4\n",
       "2        0       242      10                1                 4\n",
       "3        0      4898       0                1                 1\n",
       "4        0        21      10                1                 0"
      ],
      "text/html": [
       "<div>\n",
       "<style scoped>\n",
       "    .dataframe tbody tr th:only-of-type {\n",
       "        vertical-align: middle;\n",
       "    }\n",
       "\n",
       "    .dataframe tbody tr th {\n",
       "        vertical-align: top;\n",
       "    }\n",
       "\n",
       "    .dataframe thead th {\n",
       "        text-align: right;\n",
       "    }\n",
       "</style>\n",
       "<table border=\"1\" class=\"dataframe\">\n",
       "  <thead>\n",
       "    <tr style=\"text-align: right;\">\n",
       "      <th></th>\n",
       "      <th>user_id</th>\n",
       "      <th>anime_id</th>\n",
       "      <th>rating</th>\n",
       "      <th>watching_status</th>\n",
       "      <th>watched_episodes</th>\n",
       "    </tr>\n",
       "  </thead>\n",
       "  <tbody>\n",
       "    <tr>\n",
       "      <th>0</th>\n",
       "      <td>0</td>\n",
       "      <td>67</td>\n",
       "      <td>9</td>\n",
       "      <td>1</td>\n",
       "      <td>1</td>\n",
       "    </tr>\n",
       "    <tr>\n",
       "      <th>1</th>\n",
       "      <td>0</td>\n",
       "      <td>6702</td>\n",
       "      <td>7</td>\n",
       "      <td>1</td>\n",
       "      <td>4</td>\n",
       "    </tr>\n",
       "    <tr>\n",
       "      <th>2</th>\n",
       "      <td>0</td>\n",
       "      <td>242</td>\n",
       "      <td>10</td>\n",
       "      <td>1</td>\n",
       "      <td>4</td>\n",
       "    </tr>\n",
       "    <tr>\n",
       "      <th>3</th>\n",
       "      <td>0</td>\n",
       "      <td>4898</td>\n",
       "      <td>0</td>\n",
       "      <td>1</td>\n",
       "      <td>1</td>\n",
       "    </tr>\n",
       "    <tr>\n",
       "      <th>4</th>\n",
       "      <td>0</td>\n",
       "      <td>21</td>\n",
       "      <td>10</td>\n",
       "      <td>1</td>\n",
       "      <td>0</td>\n",
       "    </tr>\n",
       "  </tbody>\n",
       "</table>\n",
       "</div>"
      ]
     },
     "metadata": {},
     "execution_count": 6
    }
   ],
   "metadata": {}
  },
  {
   "cell_type": "code",
   "execution_count": 7,
   "source": [
    "sum(df_anime.isna().sum()), sum(df_animelist.isna().sum()) # 결측치 없음"
   ],
   "outputs": [
    {
     "output_type": "execute_result",
     "data": {
      "text/plain": [
       "(0, 0)"
      ]
     },
     "metadata": {},
     "execution_count": 7
    }
   ],
   "metadata": {}
  },
  {
   "cell_type": "markdown",
   "source": [
    "### 클리닝"
   ],
   "metadata": {}
  },
  {
   "cell_type": "markdown",
   "source": [
    "#### 중복값 확인"
   ],
   "metadata": {}
  },
  {
   "cell_type": "code",
   "execution_count": 8,
   "source": [
    "# print(sum(df_anime.duplicated()), sum(df_animelist.duplicated())) # df_animelist 중복값 존재\n",
    "df_animelist = df_animelist.drop_duplicates() # 증복값 제거\n",
    "\n",
    "# df_anime[df_anime['Name']=='Youkoso! Ecolo Shima'] 2\n",
    "df_anime = df_anime.drop(15379) # 데이터 상 같은 애니같아서, popularity 가 낮은 로우 삭제\n",
    "\n",
    "# df_anime[df_anime['Name']=='Hinamatsuri'] 2\n",
    "df_anime['Name'][12826] = 'Hinamatsuri OVA' # 소스가 달라서 이름에 소스를 추가함\n",
    "df_anime['Name'][13540] = 'Hinamatsuri TV'\n",
    "\n",
    "# df_anime[df_anime['Name']=='Maou Gakuin no Futekigousha: Shijou Saikyou no Maou no Shiso, Tensei shite Shison-tachi no Gakkou e'] 3\n",
    "df_anime = df_anime.drop([17543, 17544]) # 데이터 상 같은 애니같아서, popularity 가 낮은 로우 삭제"
   ],
   "outputs": [
    {
     "output_type": "stream",
     "name": "stderr",
     "text": [
      "/var/folders/j6/x8y2ymmn6rlcq3qznq3k_nwh0000gn/T/ipykernel_1735/3595752090.py:8: SettingWithCopyWarning: \n",
      "A value is trying to be set on a copy of a slice from a DataFrame\n",
      "\n",
      "See the caveats in the documentation: https://pandas.pydata.org/pandas-docs/stable/user_guide/indexing.html#returning-a-view-versus-a-copy\n",
      "  df_anime['Name'][12826] = 'Hinamatsuri OVA' # 소스가 달라서 이름에 소스를 추가함\n",
      "/var/folders/j6/x8y2ymmn6rlcq3qznq3k_nwh0000gn/T/ipykernel_1735/3595752090.py:9: SettingWithCopyWarning: \n",
      "A value is trying to be set on a copy of a slice from a DataFrame\n",
      "\n",
      "See the caveats in the documentation: https://pandas.pydata.org/pandas-docs/stable/user_guide/indexing.html#returning-a-view-versus-a-copy\n",
      "  df_anime['Name'][13540] = 'Hinamatsuri TV'\n"
     ]
    }
   ],
   "metadata": {}
  },
  {
   "cell_type": "markdown",
   "source": [
    "#### 카디널리티 줄이기"
   ],
   "metadata": {}
  },
  {
   "cell_type": "code",
   "execution_count": 9,
   "source": [
    "#Type: Music(1469)\n",
    "index = df_anime[df_anime['Type']=='Music'].index\n",
    "df_anime = df_anime.drop(index)"
   ],
   "outputs": [],
   "metadata": {}
  },
  {
   "cell_type": "code",
   "execution_count": 10,
   "source": [
    "# df_anime['Aired']의 요소들을 첫 방영 년도로 수정하기\n",
    "def year(i):\n",
    "    if i == 'Unknown' or len(i) == 4:\n",
    "        return i\n",
    "    else:\n",
    "        i = [a for a in i.split('to')][:1]\n",
    "        if len(i[0]) > 5:\n",
    "            i = [a for a in str(i[0]).split(',')][1].strip()\n",
    "            return i\n",
    "        else:\n",
    "            i = i[0].strip()\n",
    "            return i\n",
    "    \n",
    "df_anime['Aired'] = df_anime['Aired'].apply(year)"
   ],
   "outputs": [],
   "metadata": {}
  },
  {
   "cell_type": "markdown",
   "source": [
    "#### 피처 엔지니어링"
   ],
   "metadata": {}
  },
  {
   "cell_type": "code",
   "execution_count": 11,
   "source": [
    "score_col = ['Score-10','Score-9','Score-8','Score-7','Score-6','Score-5','Score-4','Score-3','Score-2','Score-1']\n",
    "df_anime_score = df_anime[score_col] # 점수부분은 8점이상을 준 사용자의 비율로 축소 예정\n",
    "\n",
    "def over8(df):\n",
    "    df = df.replace('Unknown',0)\n",
    "    df = df.astype(float)\n",
    "    over_8 = []\n",
    "    for i in range(0, len(df)):\n",
    "        score = df.iloc[i]\n",
    "        if 'Unknown' in score:\n",
    "            over_8.append('Unknown')\n",
    "        else:\n",
    "            over_8.append(round((score[['Score-10','Score-9','Score-8']].sum()/score.sum())*100,1))\n",
    "    return over_8\n",
    "\n",
    "# 8점이상을 준 사용자들의 비율\n",
    "df_anime['over8'] = over8(df_anime_score)"
   ],
   "outputs": [
    {
     "output_type": "stream",
     "name": "stderr",
     "text": [
      "/var/folders/j6/x8y2ymmn6rlcq3qznq3k_nwh0000gn/T/ipykernel_1735/1064106391.py:13: RuntimeWarning: invalid value encountered in double_scalars\n",
      "  over_8.append(round((score[['Score-10','Score-9','Score-8']].sum()/score.sum())*100,1))\n"
     ]
    }
   ],
   "metadata": {}
  },
  {
   "cell_type": "markdown",
   "source": [
    "#### 피쳐 셀렉션"
   ],
   "metadata": {}
  },
  {
   "cell_type": "code",
   "execution_count": 12,
   "source": [
    "def col_del(df, del_ls):\n",
    "    df1 = df.drop(del_ls, axis=1)\n",
    "    return df1\n",
    "# 불필요하다고 생각드는 피쳐 제거\n",
    "del_col = [\"Premiered\",\"English name\",\"Japanese name\",\"Episodes\"] + score_col\n",
    "df_anime = col_del(df_anime,del_col)"
   ],
   "outputs": [],
   "metadata": {}
  },
  {
   "cell_type": "code",
   "execution_count": 13,
   "source": [
    "df_anime.head()"
   ],
   "outputs": [
    {
     "output_type": "execute_result",
     "data": {
      "text/plain": [
       "   MAL_ID                             Name Score  \\\n",
       "0       1                     Cowboy Bebop  8.78   \n",
       "1       5  Cowboy Bebop: Tengoku no Tobira  8.39   \n",
       "2       6                           Trigun  8.24   \n",
       "3       7               Witch Hunter Robin  7.27   \n",
       "4       8                   Bouken Ou Beet  6.98   \n",
       "\n",
       "                                              Genres   Type Aired  \\\n",
       "0    Action, Adventure, Comedy, Drama, Sci-Fi, Space     TV  1998   \n",
       "1              Action, Drama, Mystery, Sci-Fi, Space  Movie  2001   \n",
       "2  Action, Sci-Fi, Adventure, Comedy, Drama, Shounen     TV  1998   \n",
       "3  Action, Mystery, Police, Supernatural, Drama, ...     TV  2002   \n",
       "4          Adventure, Fantasy, Shounen, Supernatural     TV  2004   \n",
       "\n",
       "                                           Producers  \\\n",
       "0                                      Bandai Visual   \n",
       "1                             Sunrise, Bandai Visual   \n",
       "2                               Victor Entertainment   \n",
       "3  TV Tokyo, Bandai Visual, Dentsu, Victor Entert...   \n",
       "4                                   TV Tokyo, Dentsu   \n",
       "\n",
       "                              Licensors         Studios    Source  ...  \\\n",
       "0      Funimation, Bandai Entertainment         Sunrise  Original  ...   \n",
       "1           Sony Pictures Entertainment           Bones  Original  ...   \n",
       "2  Funimation, Geneon Entertainment USA        Madhouse     Manga  ...   \n",
       "3      Funimation, Bandai Entertainment         Sunrise  Original  ...   \n",
       "4                               Unknown  Toei Animation     Manga  ...   \n",
       "\n",
       "   Ranked Popularity  Members  Favorites  Watching  Completed  On-Hold  \\\n",
       "0    28.0         39  1251960      61971    105808     718161    71513   \n",
       "1   159.0        518   273145       1174      4143     208333     1935   \n",
       "2   266.0        201   558913      12944     29113     343492    25465   \n",
       "3  2481.0       1467    94683        587      4300      46165     5121   \n",
       "4  3710.0       4369    13224         18       642       7314      766   \n",
       "\n",
       "   Dropped  Plan to Watch  over8  \n",
       "0    26678         329800   84.6  \n",
       "1      770          57964   80.3  \n",
       "2    13925         146918   74.1  \n",
       "3     5378          33719   43.8  \n",
       "4     1108           3394   35.2  \n",
       "\n",
       "[5 rows x 22 columns]"
      ],
      "text/html": [
       "<div>\n",
       "<style scoped>\n",
       "    .dataframe tbody tr th:only-of-type {\n",
       "        vertical-align: middle;\n",
       "    }\n",
       "\n",
       "    .dataframe tbody tr th {\n",
       "        vertical-align: top;\n",
       "    }\n",
       "\n",
       "    .dataframe thead th {\n",
       "        text-align: right;\n",
       "    }\n",
       "</style>\n",
       "<table border=\"1\" class=\"dataframe\">\n",
       "  <thead>\n",
       "    <tr style=\"text-align: right;\">\n",
       "      <th></th>\n",
       "      <th>MAL_ID</th>\n",
       "      <th>Name</th>\n",
       "      <th>Score</th>\n",
       "      <th>Genres</th>\n",
       "      <th>Type</th>\n",
       "      <th>Aired</th>\n",
       "      <th>Producers</th>\n",
       "      <th>Licensors</th>\n",
       "      <th>Studios</th>\n",
       "      <th>Source</th>\n",
       "      <th>...</th>\n",
       "      <th>Ranked</th>\n",
       "      <th>Popularity</th>\n",
       "      <th>Members</th>\n",
       "      <th>Favorites</th>\n",
       "      <th>Watching</th>\n",
       "      <th>Completed</th>\n",
       "      <th>On-Hold</th>\n",
       "      <th>Dropped</th>\n",
       "      <th>Plan to Watch</th>\n",
       "      <th>over8</th>\n",
       "    </tr>\n",
       "  </thead>\n",
       "  <tbody>\n",
       "    <tr>\n",
       "      <th>0</th>\n",
       "      <td>1</td>\n",
       "      <td>Cowboy Bebop</td>\n",
       "      <td>8.78</td>\n",
       "      <td>Action, Adventure, Comedy, Drama, Sci-Fi, Space</td>\n",
       "      <td>TV</td>\n",
       "      <td>1998</td>\n",
       "      <td>Bandai Visual</td>\n",
       "      <td>Funimation, Bandai Entertainment</td>\n",
       "      <td>Sunrise</td>\n",
       "      <td>Original</td>\n",
       "      <td>...</td>\n",
       "      <td>28.0</td>\n",
       "      <td>39</td>\n",
       "      <td>1251960</td>\n",
       "      <td>61971</td>\n",
       "      <td>105808</td>\n",
       "      <td>718161</td>\n",
       "      <td>71513</td>\n",
       "      <td>26678</td>\n",
       "      <td>329800</td>\n",
       "      <td>84.6</td>\n",
       "    </tr>\n",
       "    <tr>\n",
       "      <th>1</th>\n",
       "      <td>5</td>\n",
       "      <td>Cowboy Bebop: Tengoku no Tobira</td>\n",
       "      <td>8.39</td>\n",
       "      <td>Action, Drama, Mystery, Sci-Fi, Space</td>\n",
       "      <td>Movie</td>\n",
       "      <td>2001</td>\n",
       "      <td>Sunrise, Bandai Visual</td>\n",
       "      <td>Sony Pictures Entertainment</td>\n",
       "      <td>Bones</td>\n",
       "      <td>Original</td>\n",
       "      <td>...</td>\n",
       "      <td>159.0</td>\n",
       "      <td>518</td>\n",
       "      <td>273145</td>\n",
       "      <td>1174</td>\n",
       "      <td>4143</td>\n",
       "      <td>208333</td>\n",
       "      <td>1935</td>\n",
       "      <td>770</td>\n",
       "      <td>57964</td>\n",
       "      <td>80.3</td>\n",
       "    </tr>\n",
       "    <tr>\n",
       "      <th>2</th>\n",
       "      <td>6</td>\n",
       "      <td>Trigun</td>\n",
       "      <td>8.24</td>\n",
       "      <td>Action, Sci-Fi, Adventure, Comedy, Drama, Shounen</td>\n",
       "      <td>TV</td>\n",
       "      <td>1998</td>\n",
       "      <td>Victor Entertainment</td>\n",
       "      <td>Funimation, Geneon Entertainment USA</td>\n",
       "      <td>Madhouse</td>\n",
       "      <td>Manga</td>\n",
       "      <td>...</td>\n",
       "      <td>266.0</td>\n",
       "      <td>201</td>\n",
       "      <td>558913</td>\n",
       "      <td>12944</td>\n",
       "      <td>29113</td>\n",
       "      <td>343492</td>\n",
       "      <td>25465</td>\n",
       "      <td>13925</td>\n",
       "      <td>146918</td>\n",
       "      <td>74.1</td>\n",
       "    </tr>\n",
       "    <tr>\n",
       "      <th>3</th>\n",
       "      <td>7</td>\n",
       "      <td>Witch Hunter Robin</td>\n",
       "      <td>7.27</td>\n",
       "      <td>Action, Mystery, Police, Supernatural, Drama, ...</td>\n",
       "      <td>TV</td>\n",
       "      <td>2002</td>\n",
       "      <td>TV Tokyo, Bandai Visual, Dentsu, Victor Entert...</td>\n",
       "      <td>Funimation, Bandai Entertainment</td>\n",
       "      <td>Sunrise</td>\n",
       "      <td>Original</td>\n",
       "      <td>...</td>\n",
       "      <td>2481.0</td>\n",
       "      <td>1467</td>\n",
       "      <td>94683</td>\n",
       "      <td>587</td>\n",
       "      <td>4300</td>\n",
       "      <td>46165</td>\n",
       "      <td>5121</td>\n",
       "      <td>5378</td>\n",
       "      <td>33719</td>\n",
       "      <td>43.8</td>\n",
       "    </tr>\n",
       "    <tr>\n",
       "      <th>4</th>\n",
       "      <td>8</td>\n",
       "      <td>Bouken Ou Beet</td>\n",
       "      <td>6.98</td>\n",
       "      <td>Adventure, Fantasy, Shounen, Supernatural</td>\n",
       "      <td>TV</td>\n",
       "      <td>2004</td>\n",
       "      <td>TV Tokyo, Dentsu</td>\n",
       "      <td>Unknown</td>\n",
       "      <td>Toei Animation</td>\n",
       "      <td>Manga</td>\n",
       "      <td>...</td>\n",
       "      <td>3710.0</td>\n",
       "      <td>4369</td>\n",
       "      <td>13224</td>\n",
       "      <td>18</td>\n",
       "      <td>642</td>\n",
       "      <td>7314</td>\n",
       "      <td>766</td>\n",
       "      <td>1108</td>\n",
       "      <td>3394</td>\n",
       "      <td>35.2</td>\n",
       "    </tr>\n",
       "  </tbody>\n",
       "</table>\n",
       "<p>5 rows × 22 columns</p>\n",
       "</div>"
      ]
     },
     "metadata": {},
     "execution_count": 13
    }
   ],
   "metadata": {}
  },
  {
   "cell_type": "markdown",
   "source": [
    "## [상위1000, 상위5000, 전체] 데이터분석(Popularity 기준)"
   ],
   "metadata": {
    "tags": []
   }
  },
  {
   "cell_type": "code",
   "execution_count": 14,
   "source": [
    "# 상위 1000개, 5000개 데이터 분류\n",
    "top1000 = df_anime[(df_anime['Popularity']<1000) & df_anime['Popularity']>0]\n",
    "top5000 = df_anime[(df_anime['Popularity']<5000) & df_anime['Popularity']>0]"
   ],
   "outputs": [],
   "metadata": {}
  },
  {
   "cell_type": "markdown",
   "source": [
    "### Rating"
   ],
   "metadata": {
    "tags": []
   }
  },
  {
   "cell_type": "code",
   "execution_count": 15,
   "source": [
    "def count_rate_dic(df, col):\n",
    "    counting_dict = dict(df[col].value_counts())\n",
    "    return counting_dict"
   ],
   "outputs": [],
   "metadata": {}
  },
  {
   "cell_type": "code",
   "execution_count": 16,
   "source": [
    "# 데이터별 장르 개수 확인\n",
    "Rating1k = count_rate_dic(top1000, 'Rating')\n",
    "Rating5k = count_rate_dic(top5000, 'Rating')\n",
    "Ratingall = count_rate_dic(df_anime, 'Rating')\n",
    "\n",
    "# 데이터 별 상위5개 장르\n",
    "top10Rt_1k = sorted(Rating1k, key=Rating1k.get, reverse=True)[:3]\n",
    "top10Rt_5k = sorted(Rating5k, key=Rating5k.get, reverse=True)[:3]\n",
    "top10Rt_all = sorted(Ratingall, key=Ratingall.get, reverse=True)[:3]\n"
   ],
   "outputs": [],
   "metadata": {}
  },
  {
   "cell_type": "code",
   "execution_count": 17,
   "source": [
    "# import matplotlib.pyplot as plt\n",
    "# fig = plt.pie(ratio, labels=labels, autopct='%.1f%%', startangle=260, counterclock=False, shadow=True)\n",
    "# f = fig.subplots(1, 3, sharey=False, squeeze=False)\n",
    "\n",
    "# plt.suptitle('anime Studios')\n",
    "# f[0,0].pie(top10Rt_1k, [Rating1k[i] for i in top10Rt_1k], autopct='%.1f%%')\n",
    "# f[0,1].pie(top10Rt_5k, [Rating5k[i] for i in top10Rt_5k], autopct='%.1f%%')\n",
    "# f[0,2].pie(top10Rt_all, [Ratingall[i] for i in top10Rt_all], autopct='%.1f%%')\n",
    "# plt.show()\n",
    "\n",
    "# 데이터 별 상위 10개 장르 시각화\n",
    "import matplotlib.pyplot as plt\n",
    "fig = plt.figure(constrained_layout=True)\n",
    "f = fig.subplots(3, 1, sharey=False, squeeze=False)\n",
    "\n",
    "plt.suptitle('anime Rating')\n",
    "f[0,0].bar(top10Rt_1k, [Rating1k[i] for i in top10Rt_1k])\n",
    "f[1,0].bar(top10Rt_5k, [Rating5k[i] for i in top10Rt_5k])\n",
    "f[2,0].bar(top10Rt_all, [Ratingall[i] for i in top10Rt_all])\n",
    "plt.show()"
   ],
   "outputs": [
    {
     "output_type": "display_data",
     "data": {
      "text/plain": [
       "<Figure size 432x288 with 3 Axes>"
      ],
      "image/png": "[encoded data removed]"
     },
     "metadata": {
      "needs_background": "light"
     }
    }
   ],
   "metadata": {}
  },
  {
   "cell_type": "markdown",
   "source": [
    "#### Rating 시각화 분석 \n",
    "Rating의 분류는 아래의 등급으로 분류된다\n",
    "- 등급\n",
    "    - 'PG-13 - Teens 13 or older': 13세 이상 관람가\n",
    "    - 'G - All Ages': 전체관람가\n",
    "    - 'Rx - Hentai': 성인관람가(포르노 애니)\n",
    "    - 'R - 17+ (violence & profanity)': 17세 이상 관람가(폭령성, 비속성)\n",
    "    - 'R+ - Mild Nudity': 17세 이상 관람가(약간의 노출)\n",
    "    - 'PG - Children':  부모지도하 어린이관람가\n",
    "\n",
    "\n",
    "- 첫째,['PG-13 - Teens 13 or older'] 가 상위데이터 뿐만 아니라 전체데이터에서도 가장 많이 보입니다. 총 애니 중 절반이상이 해당 레이팅을 가지고 있는 것으로 보아 레이팅을 중심으로 추천하는 것은 적절하지 않지만, 이 레이팅에 해당하는 애니를 추천하면 높은 확률로 사용자가 선호할 수 있음을 의미합니다.\n",
    "\n",
    "- 둘째, 1k,5k에서는 레이팅의 상위 3개가 동일하지만, 전체데이터에서 나타나는 레이팅에서는 상이한것을 통해 만18세 이상에 해당하는 애니는 연령제한으로 인해 접근이 용이하지 않아서 그런것으로 해석될 여지가 있으며, 연령제한에 걸리지 않는 사용자 중 해당 레이팅을 가진 애니에 좋은 점수 혹은 시청을 완료한것과 같은 정보가 존재한다면 해당 레이팅을 가진 애니를 추천했을때 사용자가 선호할 확률이 긍정적일 수 있다는 것으로 사료된다. "
   ],
   "metadata": {}
  },
  {
   "cell_type": "markdown",
   "source": [
    "### Source"
   ],
   "metadata": {}
  },
  {
   "cell_type": "code",
   "execution_count": 18,
   "source": [
    "# 데이터별 장르 개수 확인\n",
    "Source1k = count_rate_dic(top1000, 'Source')\n",
    "Source5k = count_rate_dic(top5000, 'Source')\n",
    "Sourceall = count_rate_dic(df_anime, 'Source')\n",
    "\n",
    "# 데이터 별 상위5개 장르\n",
    "top10Sr_1k = sorted(Source1k, key=Source1k.get, reverse=True)[:5]\n",
    "top10Sr_5k = sorted(Source5k, key=Source5k.get, reverse=True)[:5]\n",
    "top10Sr_all = sorted(Sourceall, key=Sourceall.get, reverse=True)[:6]"
   ],
   "outputs": [],
   "metadata": {}
  },
  {
   "cell_type": "code",
   "execution_count": 19,
   "source": [
    "fig = plt.figure(constrained_layout=True)\n",
    "f = fig.subplots(3, 1, sharey=False, squeeze=False)\n",
    "\n",
    "plt.suptitle('anime Source')\n",
    "f[0,0].bar(top10Sr_1k, [Source1k[i] for i in top10Sr_1k])\n",
    "f[1,0].bar(top10Sr_5k, [Source5k[i] for i in top10Sr_5k])\n",
    "f[2,0].bar(top10Sr_all, [Sourceall[i] for i in top10Sr_all])\n",
    "plt.show()"
   ],
   "outputs": [
    {
     "output_type": "display_data",
     "data": {
      "text/plain": [
       "<Figure size 432x288 with 3 Axes>"
      ],
      "image/png": "[encoded data removed]"
     },
     "metadata": {
      "needs_background": "light"
     }
    }
   ],
   "metadata": {}
  },
  {
   "cell_type": "markdown",
   "source": [
    "#### Source 시각화 분석\n",
    "Source는 애니의 출처를 의미한다. 그 종류 중 그래프에 나타난 출처들은 다음과 같으며,\n",
    "- 출처종류\n",
    "    - Manga: 만화책\n",
    "    - Light novel: 단편소설\n",
    "    - Original: 애니\n",
    "    - Visual novel:  영상 또는 이미지가 보이는 이야기 또는 일러스트를 내세운 소설\n",
    "    - 4-koma manga: 4컷 만화\n",
    "    - Game: 게임\n",
    "    \n",
    "그래프의 분석은 아래와 같다\n",
    "- 첫째 애니가 원작인 애니가 제작량은 가장 많지만, 만화책을 원작으로 하는 애니가 상위 데이터에서 더 높은 순위를 차지하고 있는것을 확인할 수 있으며, 이를 통해 만화책을 원작으로 하는 애니를 사용자들이 더 선호함을 확인할 수 있다.\n",
    "\n",
    "- 둘째 단편소설을 원작으로 하는 애니는 6번째 제작량에 위치하는것과 상위 데이터에서 2,3번째에 해당하는 것으로보아 제작량 대비 흥행하는 퍼센트가 높아서 사용자들에게 추천하면 긍정적인 반응이 올 것이라 분석할 수 있다."
   ],
   "metadata": {}
  },
  {
   "cell_type": "markdown",
   "source": [
    "### Type"
   ],
   "metadata": {
    "tags": []
   }
  },
  {
   "cell_type": "code",
   "execution_count": 20,
   "source": [
    "# 데이터별 장르 개수 확인\n",
    "Type1k = count_rate_dic(top1000, 'Type')\n",
    "Type5k = count_rate_dic(top5000, 'Type')\n",
    "Typeall = count_rate_dic(df_anime, 'Type')\n",
    "\n",
    "# 데이터 별 상위5개 장르\n",
    "top10Tp_1k = sorted(Type1k, key=Type1k.get, reverse=True)\n",
    "top10Tp_5k = sorted(Type5k, key=Type5k.get, reverse=True)\n",
    "top10Tp_all = sorted(Typeall, key=Typeall.get, reverse=True)"
   ],
   "outputs": [],
   "metadata": {}
  },
  {
   "cell_type": "code",
   "execution_count": 21,
   "source": [
    "import matplotlib.pyplot as plt\n",
    "fig = plt.figure(constrained_layout=True)\n",
    "f = fig.subplots(3, 1, sharey=False, squeeze=False)\n",
    "\n",
    "plt.suptitle('anime Rating')\n",
    "f[0,0].bar(top10Tp_1k, [Type1k[i] for i in top10Tp_1k])\n",
    "f[1,0].bar(top10Tp_5k, [Type5k[i] for i in top10Tp_5k])\n",
    "f[2,0].bar(top10Tp_all, [Typeall[i] for i in top10Tp_all])\n",
    "plt.show()"
   ],
   "outputs": [
    {
     "output_type": "display_data",
     "data": {
      "text/plain": [
       "<Figure size 432x288 with 3 Axes>"
      ],
      "image/png": "[encoded data removed]"
     },
     "metadata": {
      "needs_background": "light"
     }
    }
   ],
   "metadata": {}
  },
  {
   "cell_type": "markdown",
   "source": [
    "#### Type 시각화 분석\n",
    "Type의 종류는 5개로 아래와 같으며,\n",
    "- 종류\n",
    "    - TV: TV방영목적 시리즈형태\n",
    "    - OVA: 오리지널 비디오 애니\n",
    "    - Movie: 영화\n",
    "    - Special: 극장판\n",
    "    - ONA: 인터넷을 통해서만 공개되는 애니\n",
    "    \n",
    "그 순위를 데이터별로 분석하면 다음과 같다.\n",
    "\n",
    "- 첫째 TV가 가장 많으며 상위 데이터셋에서도 가장 많은 비중을 차지하고 있다. 시리즈 형태의 애니로 한 회를 보기 시작하면 이후 회차까지 봐야해서 사용자들이 꾸준하게 이용이 가능하다는 특징을 통해 첫회가 긍정적인 추천이라는 생각이 들면 사용자들이 끝회차 까지 보게되는 장점이 존재한다.\n",
    "\n",
    "- 둘째 1k에서 Movie의 순위와 다른 데이터셋에서 3번째에 존재한다는 점을 통해서 시리즈 형태가 아닌, 영화형태의 애니가 흔히 말하는 well-made인 경우, 적게 제작되더라도 10%이상의 작품들이 흥행에 성공할 수 있다는 분석이 가능하다 따라서 영화형태의 애니 중 사용자들에게 긍정적인 선호도가 존재하는 영화라면 사용자들에게 추천하면 좋을 것이라 판단된다."
   ],
   "metadata": {}
  },
  {
   "cell_type": "markdown",
   "source": [
    "### Studios"
   ],
   "metadata": {}
  },
  {
   "cell_type": "code",
   "execution_count": 22,
   "source": [
    "# 각 데이터의 요소 리스트화 함수\n",
    "def value_ls(df, col):\n",
    "    ls = []\n",
    "    \n",
    "    for i in df[col]:\n",
    "        if ',' in i:\n",
    "            for j in i.split(', '):\n",
    "                ls.append(j)\n",
    "        else:\n",
    "            ls.append(i)\n",
    "    return ls\n",
    "\n",
    "# 각 요소별 개수 확인 함수\n",
    "def value_counting(U_value_ls, val_ls):\n",
    "    counting = {i:0 for i in U_value_ls}\n",
    "    for i in U_value_ls:\n",
    "        counting[i] = val_ls.count(i)\n",
    "#         if i == 'Unknown':\n",
    "#             continue\n",
    "#         else:\n",
    "#             counting[i] = val_ls.count(i)\n",
    "    return counting"
   ],
   "outputs": [],
   "metadata": {}
  },
  {
   "cell_type": "code",
   "execution_count": 23,
   "source": [
    "Studios = list(set(value_ls(df_anime, 'Studios'))) # 장르 목록만들기(중복x)\n",
    "\n",
    "# 데이터별 장르 리스트화\n",
    "Studios1k = value_ls(top1000,'Studios') # 1k가 가진 장르들 리스트\n",
    "Studios5k = value_ls(top5000,'Studios') # 5k가 가진 장르들 리스트\n",
    "Studiosall = value_ls(df_anime,'Studios')\n",
    "\n",
    "# 데이터별 장르 개수 확인\n",
    "Studios1k = value_counting(Studios, Studios1k)\n",
    "Studios5k = value_counting(Studios, Studios5k)\n",
    "Studiosall = value_counting(Studios, Studiosall)\n",
    "\n",
    "# 데이터 별 상위10개 장르\n",
    "top10St_1k = sorted(Studios1k, key=Studios1k.get, reverse=True)[:5]\n",
    "top10St_5k = sorted(Studios5k, key=Studios5k.get, reverse=True)[:5]\n",
    "top10St_all = sorted(Studiosall, key=Studiosall.get, reverse=True)[:5]"
   ],
   "outputs": [],
   "metadata": {}
  },
  {
   "cell_type": "code",
   "execution_count": 24,
   "source": [
    "# 데이터 별 상위 10개 장르 시각화\n",
    "import matplotlib.pyplot as plt\n",
    "fig = plt.figure(constrained_layout=True)\n",
    "f = fig.subplots(3, 1, sharey=False, squeeze=False)\n",
    "\n",
    "plt.suptitle('anime Studios')\n",
    "f[0,0].bar(top10St_1k, [Studios1k[i] for i in top10St_1k])\n",
    "f[1,0].bar(top10St_5k, [Studios5k[i] for i in top10St_5k])\n",
    "f[2,0].bar(top10St_all, [Studiosall[i] for i in top10St_all])\n",
    "plt.show()"
   ],
   "outputs": [
    {
     "output_type": "display_data",
     "data": {
      "text/plain": [
       "<Figure size 432x288 with 3 Axes>"
      ],
      "image/png": "[encoded data removed]"
     },
     "metadata": {
      "needs_background": "light"
     }
    }
   ],
   "metadata": {}
  },
  {
   "cell_type": "markdown",
   "source": [
    "#### Studios 시각화 분석\n",
    "Studios는기획, 제작을 하는 스튜디오를 의미한다. 총 스튜디오의 개수는 608곳 이며, 상위 5곳을 분류해보았다. 해당 시각화를 통해 알 수 있는 것은\n",
    "- 첫째 전체데이터는 해당 스튜디오가 제작한 애니의 숫자를 알 수 있다면, 이를 통해 1k, 5k에서는 제작한 애니 대비 성공적으로 유명해진 애니의 숫자를 알 수 있다. 따라서 전체데이터에서만 보이는 스튜디오를 제외하고 사용자에게 추천한다면 사용자가 해당 애니를 선호하는데 최소한의 제작에 대한 퀄리티를 보장할 수 있을 것이라 사료됩니다.\n",
    "\n",
    "- 둘째 첫째에서 언급한것처럼 모든 데이터셋에서 중복적으로 보여지는 스튜디오 중 제작애니의 수가 적지만, 1k,5k에서 높은 순위를 가지고 있는 스튜디오가 애니의 질을 높게 제작하고 있음을 알 수 있다 따라서, ['J.C.Staff', 'Madhouse']에서 제작된 애니의 경우 타 스튜디오에서 제작된 애니보다 선호할 확률이 높을 것이라 분석된다."
   ],
   "metadata": {
    "tags": []
   }
  },
  {
   "cell_type": "markdown",
   "source": [
    "### Licensors"
   ],
   "metadata": {
    "tags": []
   }
  },
  {
   "cell_type": "code",
   "execution_count": 25,
   "source": [
    "Licensors = list(set(value_ls(df_anime, 'Licensors'))) # 장르 목록만들기(중복x)\n",
    "\n",
    "# 데이터별 장르 리스트화\n",
    "Licensors1k = value_ls(top1000,'Licensors') # 1k가 가진 장르들 리스트\n",
    "Licensors5k = value_ls(top5000,'Licensors') # 5k가 가진 장르들 리스트\n",
    "Licensorsall = value_ls(df_anime,'Licensors')\n",
    "\n",
    "# 데이터별 장르 개수 확인\n",
    "Licensors1k = value_counting(Licensors, Licensors1k)\n",
    "Licensors5k = value_counting(Licensors, Licensors5k)\n",
    "Licensorsall = value_counting(Licensors, Licensorsall)\n",
    "\n",
    "# 데이터 별 상위10개 장르\n",
    "top10Li_1k = sorted(Licensors1k, key=Licensors1k.get, reverse=True)[:5]\n",
    "top10Li_5k = sorted(Licensors5k, key=Licensors5k.get, reverse=True)[:5]\n",
    "top10Li_all = sorted(Licensorsall, key=Licensorsall.get, reverse=True)[:5]"
   ],
   "outputs": [],
   "metadata": {}
  },
  {
   "cell_type": "code",
   "execution_count": 26,
   "source": [
    "# 데이터 별 상위 10개 장르 시각화\n",
    "import matplotlib.pyplot as plt\n",
    "fig = plt.figure(constrained_layout=True)\n",
    "f = fig.subplots(3, 1, sharey=False, squeeze=False)\n",
    "\n",
    "plt.suptitle('anime Licensors')\n",
    "f[0,0].bar(top10Li_1k, [Licensors1k[i] for i in top10Li_1k])\n",
    "f[1,0].bar(top10Li_5k, [Licensors5k[i] for i in top10Li_5k])\n",
    "f[2,0].bar(top10Li_all, [Licensorsall[i] for i in top10Li_all])\n",
    "plt.show()"
   ],
   "outputs": [
    {
     "output_type": "display_data",
     "data": {
      "text/plain": [
       "<Figure size 432x288 with 3 Axes>"
      ],
      "image/png": "[encoded data removed]"
     },
     "metadata": {
      "needs_background": "light"
     }
    }
   ],
   "metadata": {}
  },
  {
   "cell_type": "markdown",
   "source": [
    "#### Licensors 시각화 분석\n",
    "Licensors는 상표 등록된 재산권을 가지고 있는 라이선서(회사체)를 의미한다. 총 라이선서의 수는 78곳 이며, 해당 시각화를 통해 알 수 있는 점은\n",
    "- 첫째 대형 라이선서가 대부분의 애니에 대한 라이선스를 가지고 있으며, 상위 데이터에서도 그러한 모습이 나타난느 것으로 보아 대형 라이선서의 애니 중 쌍위 데이터에 있는 애니를 추천하는 것이 보편적인 선호에 합당한 추천으로 사료된다.\n",
    "\n",
    "- 둘째 전체데이터에서 보여지지 않는 라이선서가 1k,5k에서 중복적으로 나타난다면, 해당 라이선서는 선택적으로 흥행할 수 있는 애니의 라이선스를 가지려고 한다라는 점을 알 수 있다. 따라서, 사용자가 그 라이선스의 애니에 높은 점수를 주었거나 긍정적인 표시를 한경우 해당 라이선서의 애니를 추천하는 것이 대형 라이선서의 애니를 추천하는 것보다, 긍정적인 선호를 끌어낼 수 있음을 의미한다."
   ],
   "metadata": {
    "jp-MarkdownHeadingCollapsed": true,
    "tags": []
   }
  },
  {
   "cell_type": "markdown",
   "source": [
    "### Genres"
   ],
   "metadata": {}
  },
  {
   "cell_type": "code",
   "execution_count": 27,
   "source": [
    "gennres = list(set(value_ls(df_anime, 'Genres'))) # 장르 목록만들기(중복x)\n",
    "\n",
    "# 데이터별 장르 리스트화\n",
    "genres1k = value_ls(top1000,'Genres') # 1k가 가진 장르들 리스트\n",
    "genres5k = value_ls(top5000,'Genres') # 5k가 가진 장르들 리스트\n",
    "genresall = value_ls(df_anime,'Genres')\n",
    "\n",
    "# 데이터별 장르 개수 확인\n",
    "genres1k = value_counting(gennres, genres1k)\n",
    "genres5k = value_counting(gennres, genres5k)\n",
    "genresall = value_counting(gennres, genresall)\n",
    "\n",
    "# 데이터 별 상위10개 장르\n",
    "top10Gr_1k = sorted(genres1k, key=genres1k.get, reverse=True)[:5]\n",
    "top10Gr_5k = sorted(genres5k, key=genres5k.get, reverse=True)[:5]\n",
    "top10Gr_all = sorted(genres5k, key=genres5k.get, reverse=True)[:5]"
   ],
   "outputs": [],
   "metadata": {}
  },
  {
   "cell_type": "code",
   "execution_count": 28,
   "source": [
    "# 데이터 별 상위 10개 장르 시각화\n",
    "import matplotlib.pyplot as plt\n",
    "fig = plt.figure(constrained_layout=True)\n",
    "f = fig.subplots(3, 1, sharey=False, squeeze=False)\n",
    "\n",
    "plt.suptitle('anime genres')\n",
    "f[0,0].bar(top10Gr_1k, [genres1k[i] for i in top10Gr_1k])\n",
    "f[1,0].bar(top10Gr_5k, [genres5k[i] for i in top10Gr_5k])\n",
    "f[2,0].bar(top10Gr_all, [genresall[i] for i in top10Gr_all])\n",
    "plt.show()"
   ],
   "outputs": [
    {
     "output_type": "display_data",
     "data": {
      "text/plain": [
       "<Figure size 432x288 with 3 Axes>"
      ],
      "image/png": "[encoded data removed]"
     },
     "metadata": {
      "needs_background": "light"
     }
    }
   ],
   "metadata": {}
  },
  {
   "cell_type": "markdown",
   "source": [
    "#### 장르에 대한 분석\n",
    "장르의 총 개수는 44개로 각 데이터별 상위 10개의 장르를 살펴본 결과, \n",
    "- 첫째 코미디와 액션을 포함하는 애니가 가장 인기가 많은 장르로 분석된다.\n",
    "- 둘째 상위1000개의 애니에서는 로맨스와 판타지, 슈퍼내츄럴이 다음을 이어가지만 다른 데이터에서 판타지, 드라마, 로맨스가 이어지는 것으로 보아 본편적으로 로맨스와 판타지가 섞여있을 경우 사용자들의 선호도가 높을 수 있음을 알 수 있다."
   ],
   "metadata": {}
  },
  {
   "cell_type": "code",
   "execution_count": 29,
   "source": [
    "df_animelist.head()"
   ],
   "outputs": [
    {
     "output_type": "execute_result",
     "data": {
      "text/plain": [
       "   user_id  anime_id  rating  watching_status  watched_episodes\n",
       "0        0        67       9                1                 1\n",
       "1        0      6702       7                1                 4\n",
       "2        0       242      10                1                 4\n",
       "3        0      4898       0                1                 1\n",
       "4        0        21      10                1                 0"
      ],
      "text/html": [
       "<div>\n",
       "<style scoped>\n",
       "    .dataframe tbody tr th:only-of-type {\n",
       "        vertical-align: middle;\n",
       "    }\n",
       "\n",
       "    .dataframe tbody tr th {\n",
       "        vertical-align: top;\n",
       "    }\n",
       "\n",
       "    .dataframe thead th {\n",
       "        text-align: right;\n",
       "    }\n",
       "</style>\n",
       "<table border=\"1\" class=\"dataframe\">\n",
       "  <thead>\n",
       "    <tr style=\"text-align: right;\">\n",
       "      <th></th>\n",
       "      <th>user_id</th>\n",
       "      <th>anime_id</th>\n",
       "      <th>rating</th>\n",
       "      <th>watching_status</th>\n",
       "      <th>watched_episodes</th>\n",
       "    </tr>\n",
       "  </thead>\n",
       "  <tbody>\n",
       "    <tr>\n",
       "      <th>0</th>\n",
       "      <td>0</td>\n",
       "      <td>67</td>\n",
       "      <td>9</td>\n",
       "      <td>1</td>\n",
       "      <td>1</td>\n",
       "    </tr>\n",
       "    <tr>\n",
       "      <th>1</th>\n",
       "      <td>0</td>\n",
       "      <td>6702</td>\n",
       "      <td>7</td>\n",
       "      <td>1</td>\n",
       "      <td>4</td>\n",
       "    </tr>\n",
       "    <tr>\n",
       "      <th>2</th>\n",
       "      <td>0</td>\n",
       "      <td>242</td>\n",
       "      <td>10</td>\n",
       "      <td>1</td>\n",
       "      <td>4</td>\n",
       "    </tr>\n",
       "    <tr>\n",
       "      <th>3</th>\n",
       "      <td>0</td>\n",
       "      <td>4898</td>\n",
       "      <td>0</td>\n",
       "      <td>1</td>\n",
       "      <td>1</td>\n",
       "    </tr>\n",
       "    <tr>\n",
       "      <th>4</th>\n",
       "      <td>0</td>\n",
       "      <td>21</td>\n",
       "      <td>10</td>\n",
       "      <td>1</td>\n",
       "      <td>0</td>\n",
       "    </tr>\n",
       "  </tbody>\n",
       "</table>\n",
       "</div>"
      ]
     },
     "metadata": {},
     "execution_count": 29
    }
   ],
   "metadata": {}
  },
  {
   "cell_type": "code",
   "execution_count": 30,
   "source": [
    "# table = pd.pivot_table(df_animelist, \n",
    "#                        values='rating', index='anime',columns='user', \n",
    "#                        aggfunc=np.sum, fill_value=0)"
   ],
   "outputs": [],
   "metadata": {}
  },
  {
   "cell_type": "code",
   "execution_count": 31,
   "source": [
    "# cross = pd.crosstab(df_animelist.user, df_animelist.anime, df_animelist.rating, aggfunc=np.sum)"
   ],
   "outputs": [],
   "metadata": {}
  },
  {
   "cell_type": "markdown",
   "source": [
    "# 모델링 - 사용자의 레이팅을 예측하는 모델"
   ],
   "metadata": {}
  },
  {
   "cell_type": "code",
   "execution_count": 32,
   "source": [
    "# k1_anime_ids = top5000['MAL_ID'].unique().tolist()\n",
    "# df_k1_rating_C = df_rating_complete[df_rating_complete[\"anime_id\"] == 1]\n",
    "# for i in k1_anime_ids[1:]:\n",
    "#     df_k1_rating_C.append(df_rating_complete[df_rating_complete[\"anime_id\"] == i])"
   ],
   "outputs": [],
   "metadata": {}
  },
  {
   "cell_type": "code",
   "execution_count": 33,
   "source": [
    "user_ids = df_rating_complete[\"user_id\"].unique().tolist()\n",
    "user2user_encoded = {x: i for i, x in enumerate(user_ids)}\n",
    "user_encoded2user = {i: x for i, x in enumerate(user_ids)}\n",
    "df_rating_complete[\"user\"] = df_rating_complete[\"user_id\"].map(user2user_encoded)\n",
    "n_users = len(user2user_encoded)\n",
    "\n",
    "anime_ids = df_rating_complete[\"anime_id\"].unique().tolist()\n",
    "anime2anime_encoded = {x: i for i, x in enumerate(anime_ids)}\n",
    "anime_encoded2anime = {i: x for i, x in enumerate(anime_ids)}\n",
    "df_rating_complete[\"anime\"] = df_rating_complete[\"anime_id\"].map(anime2anime_encoded)\n",
    "n_animes = len(anime2anime_encoded)"
   ],
   "outputs": [],
   "metadata": {}
  },
  {
   "cell_type": "code",
   "execution_count": 34,
   "source": [
    "# Split\n",
    "from sklearn.model_selection import train_test_split\n",
    "X = df_rating_complete[['user', 'anime']].values\n",
    "y = df_rating_complete[\"rating\"]\n",
    "\n",
    "X_train, X_test, y_train, y_test = train_test_split(X, y, test_size=.2, random_state=1)\n",
    "X_train, X_val, y_train, y_val = train_test_split(X_train, y_train, test_size=.25, random_state=1)\n"
   ],
   "outputs": [],
   "metadata": {}
  },
  {
   "cell_type": "code",
   "execution_count": 35,
   "source": [
    "print(\"train:\", X_train.shape, y_train.shape)\n",
    "print(\"val: \", X_val.shape, y_val.shape)\n",
    "print(\"test:\", X_test.shape, y_test.shape)"
   ],
   "outputs": [
    {
     "output_type": "stream",
     "name": "stdout",
     "text": [
      "train: (34579966, 2) (34579966,)\n",
      "val:  (11526656, 2) (11526656,)\n",
      "test: (11526656, 2) (11526656,)\n"
     ]
    }
   ],
   "metadata": {}
  },
  {
   "cell_type": "markdown",
   "source": [
    "## DL"
   ],
   "metadata": {}
  },
  {
   "cell_type": "code",
   "execution_count": 38,
   "source": [
    "# pip install tensorflow"
   ],
   "outputs": [],
   "metadata": {}
  },
  {
   "cell_type": "code",
   "execution_count": 39,
   "source": [
    "X_train_array = [X_train[:, 0], X_train[:, 1]]\n",
    "X_val_array = [X_val[:, 0], X_val[:, 1]]\n",
    "X_test_array = [X_test[:, 0], X_test[:, 1]]"
   ],
   "outputs": [],
   "metadata": {}
  },
  {
   "cell_type": "code",
   "execution_count": 40,
   "source": [
    "import tensorflow as tf\n",
    "from tensorflow import keras\n",
    "\n",
    "from tensorflow.keras import layers \n",
    "from tensorflow.keras.models import Model\n",
    "from tensorflow.keras.optimizers import Adam\n",
    "from tensorflow.keras.layers import Add, Activation, Lambda, BatchNormalization, Concatenate, Dropout, Input, Embedding, Dot, Reshape, Dense, Flatten"
   ],
   "outputs": [],
   "metadata": {}
  },
  {
   "cell_type": "markdown",
   "source": [
    "### 모델빌드업"
   ],
   "metadata": {}
  },
  {
   "cell_type": "code",
   "execution_count": 254,
   "source": [
    "def RecommenderNet():\n",
    "    embedding_size = 128\n",
    "    \n",
    "    # 양의 정수(인덱스)를 고정 크기의 조밀한 벡터로 바꿉니다\n",
    "    user = Input(name = 'user', shape = [1])\n",
    "    user_embedding = Embedding(name = 'user_embedding', \n",
    "                       input_dim = n_users, \n",
    "                       output_dim = embedding_size)(user)\n",
    "    \n",
    "    anime = Input(name = 'anime', shape = [1])\n",
    "    anime_embedding = Embedding(name = 'anime_embedding',\n",
    "                       input_dim = n_animes, \n",
    "                       output_dim = embedding_size)(anime)\n",
    "    \n",
    "    # 두 텐서의 샘플 간의 내적을 계산하는 레이어\n",
    "    x = Dot(name = 'dot_product', normalize = True, axes = 2)([user_embedding, anime_embedding])\n",
    "    # 입력을 평탄화함\n",
    "    x = Flatten()(x)\n",
    "    \n",
    "    # 조밀하게 연결된 일반 NN 레이어(kernel가중치 행렬에 적용되는 제약 함수\"he_normal\")\n",
    "    x = Dense(1, kernel_initializer='he_normal')(x)\n",
    "    # 입력을 정규화\n",
    "    x = BatchNormalization()(x)\n",
    "    # 시그모이드 활성화 함수를 적용(5보다 작으면 sigmoid0, 크면 1)\n",
    "    x = Activation(\"sigmoid\")(x)\n",
    "    \n",
    "    # 훈련 및 추론 기능을 사용하여 레이어를 개체로 그룹화\n",
    "    model = Model(inputs=[user, anime], outputs=x)\n",
    "    model.compile(loss='binary_crossentropy', metrics=[\"mae\", \"mse\"], optimizer='Adam')\n",
    "    \n",
    "    return model"
   ],
   "outputs": [],
   "metadata": {}
  },
  {
   "cell_type": "code",
   "execution_count": 50,
   "source": [
    "model = RecommenderNet()\n",
    "model.summary()"
   ],
   "outputs": [
    {
     "output_type": "stream",
     "name": "stdout",
     "text": [
      "Model: \"model_2\"\n",
      "__________________________________________________________________________________________________\n",
      "Layer (type)                    Output Shape         Param #     Connected to                     \n",
      "==================================================================================================\n",
      "user (InputLayer)               [(None, 1)]          0                                            \n",
      "__________________________________________________________________________________________________\n",
      "anime (InputLayer)              [(None, 1)]          0                                            \n",
      "__________________________________________________________________________________________________\n",
      "user_embedding (Embedding)      (None, 1, 128)       39687552    user[0][0]                       \n",
      "__________________________________________________________________________________________________\n",
      "anime_embedding (Embedding)     (None, 1, 128)       2159616     anime[0][0]                      \n",
      "__________________________________________________________________________________________________\n",
      "dot_product (Dot)               (None, 1, 1)         0           user_embedding[0][0]             \n",
      "                                                                 anime_embedding[0][0]            \n",
      "__________________________________________________________________________________________________\n",
      "flatten_2 (Flatten)             (None, 1)            0           dot_product[0][0]                \n",
      "__________________________________________________________________________________________________\n",
      "dense_2 (Dense)                 (None, 1)            2           flatten_2[0][0]                  \n",
      "__________________________________________________________________________________________________\n",
      "batch_normalization_2 (BatchNor (None, 1)            4           dense_2[0][0]                    \n",
      "__________________________________________________________________________________________________\n",
      "activation_2 (Activation)       (None, 1)            0           batch_normalization_2[0][0]      \n",
      "==================================================================================================\n",
      "Total params: 41,847,174\n",
      "Trainable params: 41,847,172\n",
      "Non-trainable params: 2\n",
      "__________________________________________________________________________________________________\n"
     ]
    }
   ],
   "metadata": {}
  },
  {
   "cell_type": "code",
   "execution_count": 51,
   "source": [
    "# Callbacks\n",
    "from tensorflow.keras.callbacks import Callback, ModelCheckpoint, LearningRateScheduler, TensorBoard, EarlyStopping, ReduceLROnPlateau\n",
    "\n",
    "start_lr = 0.00001\n",
    "min_lr = 0.00001\n",
    "max_lr = 0.00005\n",
    "batch_size = 10000\n",
    "\n",
    "rampup_epochs = 5\n",
    "sustain_epochs = 0\n",
    "exp_decay = .8\n",
    "\n",
    "def lrfn(epoch):\n",
    "    if epoch < rampup_epochs:\n",
    "        return (max_lr - start_lr)/rampup_epochs * epoch + start_lr\n",
    "    elif epoch < rampup_epochs + sustain_epochs:\n",
    "        return max_lr\n",
    "    else:\n",
    "        return (max_lr - min_lr) * exp_decay**(epoch-rampup_epochs-sustain_epochs) + min_lr\n",
    "\n",
    "# 업데이트된 학습률 값을 가져와 최적화기에 업데이트된 학습률을 적용\n",
    "lr_callback = LearningRateScheduler(lambda epoch: lrfn(epoch), verbose=0)\n",
    "\n",
    "checkpoint_filepath = './weights.h5'\n",
    "\n",
    "# Keras 모델 또는 모델 가중치를 특정 빈도로 저장하기 위한 \n",
    "# 가중치를 일정 간격으로 저장하므로 나중에 모델 또는 가중치를 로드하여 저장된 상태에서 학습을 계속하도록 함\n",
    "model_checkpoints = ModelCheckpoint(filepath=checkpoint_filepath # 모델 파일을 저장할 경로\n",
    "                                        save_weights_only=True   # True이면 모델의 가중치 아니면 전체 모델 저장\n",
    "                                        monitor='val_loss',      # 모니터링할 메트릭 이름\n",
    "                                        mode='min',              # 모니터가 val_loss인 경우 min으로 설정\n",
    "                                        save_best_only=True,     # 모델이 \"최상\"으로 간주될 때만 저장\n",
    "                                        n_jobs=-1)\n",
    "\n",
    "# 학습을 통한 개선이 유의미하지 않으면 학습을 중지함 => 3번동안 val_loss가 min이면 중지하고 베스트를 복원함\n",
    "early_stopping = EarlyStopping(patience = 3, monitor='val_loss', \n",
    "                               mode='min', restore_best_weights=True)\n",
    "\n",
    "my_callbacks = [\n",
    "    model_checkpoints,\n",
    "    lr_callback,\n",
    "    early_stopping,   \n",
    "]"
   ],
   "outputs": [],
   "metadata": {}
  },
  {
   "cell_type": "markdown",
   "source": [
    "### 모델학습"
   ],
   "metadata": {}
  },
  {
   "cell_type": "code",
   "execution_count": 52,
   "source": [
    "# Model training\n",
    "history = model.fit(\n",
    "    x=X_train_array,\n",
    "    y=y_train,\n",
    "    batch_size=batch_size,\n",
    "    epochs=20,\n",
    "    verbose=1,\n",
    "    validation_data=(X_val_array, y_val),\n",
    "    callbacks=my_callbacks\n",
    ")\n",
    "\n",
    "# model.load_weights(checkpoint_filepath)"
   ],
   "outputs": [
    {
     "output_type": "stream",
     "name": "stderr",
     "text": [
      "2021-08-10 23:18:50.760696: I tensorflow/compiler/mlir/mlir_graph_optimization_pass.cc:176] None of the MLIR Optimization Passes are enabled (registered 2)\n"
     ]
    },
    {
     "output_type": "stream",
     "name": "stdout",
     "text": [
      "Epoch 1/20\n",
      "3458/3458 [==============================] - 1831s 529ms/step - loss: 0.6794 - mae: 7.0071 - mse: 52.0233 - val_loss: 0.5567 - val_mae: 7.0039 - val_mse: 51.9765\n",
      "Epoch 2/20\n",
      "3458/3458 [==============================] - 1815s 525ms/step - loss: 0.2996 - mae: 6.9968 - mse: 51.8632 - val_loss: 0.1307 - val_mae: 6.9913 - val_mse: 51.7946\n",
      "Epoch 3/20\n",
      "3458/3458 [==============================] - 1888s 546ms/step - loss: -0.3095 - mae: 6.9802 - mse: 51.5992 - val_loss: -0.5490 - val_mae: 6.9716 - val_mse: 51.4965\n",
      "Epoch 4/20\n",
      "3458/3458 [==============================] - 1855s 536ms/step - loss: -1.2680 - mae: 6.9590 - mse: 51.2033 - val_loss: -1.7882 - val_mae: 6.9480 - val_mse: 51.0132\n",
      "Epoch 5/20\n",
      "3458/3458 [==============================] - 1853s 536ms/step - loss: -2.7679 - mae: 6.9352 - mse: 50.6403 - val_loss: -3.3943 - val_mae: 6.9204 - val_mse: 50.4044\n",
      "Epoch 6/20\n",
      "3458/3458 [==============================] - 1795s 519ms/step - loss: -4.3160 - mae: 6.9053 - mse: 50.0768 - val_loss: -4.8935 - val_mae: 6.8894 - val_mse: 49.8802\n",
      "Epoch 7/20\n",
      "3458/3458 [==============================] - 1778s 514ms/step - loss: -5.6899 - mae: 6.8784 - mse: 49.6402 - val_loss: -6.0758 - val_mae: 6.8665 - val_mse: 49.5301\n",
      "Epoch 8/20\n",
      "3458/3458 [==============================] - 1781s 515ms/step - loss: -6.8113 - mae: 6.8589 - mse: 49.3377 - val_loss: -7.0454 - val_mae: 6.8499 - val_mse: 49.2834\n",
      "Epoch 9/20\n",
      "3458/3458 [==============================] - 1787s 517ms/step - loss: -7.7594 - mae: 6.8444 - mse: 49.1141 - val_loss: -7.8486 - val_mae: 6.8374 - val_mse: 49.1016\n",
      "Epoch 10/20\n",
      "3458/3458 [==============================] - 1789s 517ms/step - loss: -8.5728 - mae: 6.8332 - mse: 48.9424 - val_loss: -8.5500 - val_mae: 6.8273 - val_mse: 48.9562\n",
      "Epoch 11/20\n",
      "3458/3458 [==============================] - 1800s 520ms/step - loss: -9.2799 - mae: 6.8242 - mse: 48.8062 - val_loss: -9.1572 - val_mae: 6.8194 - val_mse: 48.8436\n",
      "Epoch 12/20\n",
      "3458/3458 [==============================] - 1798s 520ms/step - loss: -9.9028 - mae: 6.8169 - mse: 48.6951 - val_loss: -9.7158 - val_mae: 6.8124 - val_mse: 48.7442\n",
      "Epoch 13/20\n",
      "3458/3458 [==============================] - 1805s 522ms/step - loss: -10.4571 - mae: 6.8108 - mse: 48.6028 - val_loss: -10.1773 - val_mae: 6.8072 - val_mse: 48.6711\n",
      "Epoch 14/20\n",
      "3458/3458 [==============================] - 1808s 523ms/step - loss: -10.9567 - mae: 6.8056 - mse: 48.5247 - val_loss: -10.6446 - val_mae: 6.8016 - val_mse: 48.5937\n",
      "Epoch 15/20\n",
      "3458/3458 [==============================] - 1808s 523ms/step - loss: -11.4134 - mae: 6.8011 - mse: 48.4566 - val_loss: -11.0266 - val_mae: 6.7978 - val_mse: 48.5402\n",
      "Epoch 16/20\n",
      "3458/3458 [==============================] - 1805s 522ms/step - loss: -11.8357 - mae: 6.7972 - mse: 48.3968 - val_loss: -11.4025 - val_mae: 6.7941 - val_mse: 48.4881\n",
      "Epoch 17/20\n",
      "3458/3458 [==============================] - 1811s 524ms/step - loss: -12.2305 - mae: 6.7936 - mse: 48.3432 - val_loss: -11.7677 - val_mae: 6.7904 - val_mse: 48.4371\n",
      "Epoch 18/20\n",
      "3458/3458 [==============================] - 1808s 523ms/step - loss: -12.6030 - mae: 6.7903 - mse: 48.2947 - val_loss: -12.0782 - val_mae: 6.7877 - val_mse: 48.3995\n",
      "Epoch 19/20\n",
      "3458/3458 [==============================] - 1900s 549ms/step - loss: -12.9568 - mae: 6.7873 - mse: 48.2503 - val_loss: -12.4040 - val_mae: 6.7845 - val_mse: 48.3567\n",
      "Epoch 20/20\n",
      "3458/3458 [==============================] - 1840s 532ms/step - loss: -13.2967 - mae: 6.7845 - mse: 48.2092 - val_loss: -12.7269 - val_mae: 6.7816 - val_mse: 48.3166\n"
     ]
    }
   ],
   "metadata": {}
  },
  {
   "cell_type": "code",
   "execution_count": null,
   "source": [
    "# Epoch 1/20\n",
    "# 3458/3458 [==============================] - 1831s 529ms/step - loss: 0.6794 - mae: 7.0071 - mse: 52.0233 - val_loss: 0.5567 - val_mae: 7.0039 - val_mse: 51.9765\n",
    "# Epoch 2/20\n",
    "# 3458/3458 [==============================] - 1815s 525ms/step - loss: 0.2996 - mae: 6.9968 - mse: 51.8632 - val_loss: 0.1307 - val_mae: 6.9913 - val_mse: 51.7946\n",
    "# Epoch 3/20\n",
    "# 3458/3458 [==============================] - 1888s 546ms/step - loss: -0.3095 - mae: 6.9802 - mse: 51.5992 - val_loss: -0.5490 - val_mae: 6.9716 - val_mse: 51.4965\n",
    "# Epoch 4/20\n",
    "# 3458/3458 [==============================] - 1855s 536ms/step - loss: -1.2680 - mae: 6.9590 - mse: 51.2033 - val_loss: -1.7882 - val_mae: 6.9480 - val_mse: 51.0132\n",
    "# Epoch 5/20\n",
    "# 3458/3458 [==============================] - 1853s 536ms/step - loss: -2.7679 - mae: 6.9352 - mse: 50.6403 - val_loss: -3.3943 - val_mae: 6.9204 - val_mse: 50.4044\n",
    "# Epoch 6/20\n",
    "# 3458/3458 [==============================] - 1795s 519ms/step - loss: -4.3160 - mae: 6.9053 - mse: 50.0768 - val_loss: -4.8935 - val_mae: 6.8894 - val_mse: 49.8802\n",
    "# Epoch 7/20\n",
    "# 3458/3458 [==============================] - 1778s 514ms/step - loss: -5.6899 - mae: 6.8784 - mse: 49.6402 - val_loss: -6.0758 - val_mae: 6.8665 - val_mse: 49.5301\n",
    "# Epoch 8/20\n",
    "# 3458/3458 [==============================] - 1781s 515ms/step - loss: -6.8113 - mae: 6.8589 - mse: 49.3377 - val_loss: -7.0454 - val_mae: 6.8499 - val_mse: 49.2834\n",
    "# Epoch 9/20\n",
    "# 3458/3458 [==============================] - 1787s 517ms/step - loss: -7.7594 - mae: 6.8444 - mse: 49.1141 - val_loss: -7.8486 - val_mae: 6.8374 - val_mse: 49.1016\n",
    "# Epoch 10/20\n",
    "# 3458/3458 [==============================] - 1789s 517ms/step - loss: -8.5728 - mae: 6.8332 - mse: 48.9424 - val_loss: -8.5500 - val_mae: 6.8273 - val_mse: 48.9562\n",
    "# Epoch 11/20\n",
    "# 3458/3458 [==============================] - 1800s 520ms/step - loss: -9.2799 - mae: 6.8242 - mse: 48.8062 - val_loss: -9.1572 - val_mae: 6.8194 - val_mse: 48.8436\n",
    "# Epoch 12/20\n",
    "# 3458/3458 [==============================] - 1798s 520ms/step - loss: -9.9028 - mae: 6.8169 - mse: 48.6951 - val_loss: -9.7158 - val_mae: 6.8124 - val_mse: 48.7442\n",
    "# Epoch 13/20\n",
    "# 3458/3458 [==============================] - 1805s 522ms/step - loss: -10.4571 - mae: 6.8108 - mse: 48.6028 - val_loss: -10.1773 - val_mae: 6.8072 - val_mse: 48.6711\n",
    "# Epoch 14/20\n",
    "# 3458/3458 [==============================] - 1808s 523ms/step - loss: -10.9567 - mae: 6.8056 - mse: 48.5247 - val_loss: -10.6446 - val_mae: 6.8016 - val_mse: 48.5937\n",
    "# Epoch 15/20\n",
    "# 3458/3458 [==============================] - 1808s 523ms/step - loss: -11.4134 - mae: 6.8011 - mse: 48.4566 - val_loss: -11.0266 - val_mae: 6.7978 - val_mse: 48.5402\n",
    "# Epoch 16/20\n",
    "# 3458/3458 [==============================] - 1805s 522ms/step - loss: -11.8357 - mae: 6.7972 - mse: 48.3968 - val_loss: -11.4025 - val_mae: 6.7941 - val_mse: 48.4881\n",
    "# Epoch 17/20\n",
    "# 3458/3458 [==============================] - 1811s 524ms/step - loss: -12.2305 - mae: 6.7936 - mse: 48.3432 - val_loss: -11.7677 - val_mae: 6.7904 - val_mse: 48.4371\n",
    "# Epoch 18/20\n",
    "# 3458/3458 [==============================] - 1808s 523ms/step - loss: -12.6030 - mae: 6.7903 - mse: 48.2947 - val_loss: -12.0782 - val_mae: 6.7877 - val_mse: 48.3995\n",
    "# Epoch 19/20\n",
    "# 3458/3458 [==============================] - 1900s 549ms/step - loss: -12.9568 - mae: 6.7873 - mse: 48.2503 - val_loss: -12.4040 - val_mae: 6.7845 - val_mse: 48.3567\n",
    "# Epoch 20/20\n",
    "# 3458/3458 [==============================] - 1840s 532ms/step - loss: -13.2967 - mae: 6.7845 - mse: 48.2092 - val_loss: -12.7269 - val_mae: 6.7816 - val_mse: 48.3166"
   ],
   "outputs": [],
   "metadata": {}
  },
  {
   "cell_type": "markdown",
   "source": [
    "### 모델성능"
   ],
   "metadata": {}
  },
  {
   "cell_type": "code",
   "execution_count": null,
   "source": [
    "#Training results\n",
    "import matplotlib.pyplot as plt\n",
    "%matplotlib inline\n",
    "\n",
    "plt.plot(history.history[\"loss\"][0:-2])\n",
    "plt.plot(history.history[\"val_loss\"][0:-2])\n",
    "plt.title(\"model loss\")\n",
    "plt.ylabel(\"loss\")\n",
    "plt.xlabel(\"epoch\")\n",
    "plt.legend([\"train\", \"val\"], loc=\"upper left\")\n",
    "plt.show()"
   ],
   "outputs": [
    {
     "output_type": "display_data",
     "data": {
      "text/plain": [
       "<Figure size 432x288 with 1 Axes>"
      ],
      "image/png": "[encoded data removed]"
     },
     "metadata": {
      "needs_background": "light"
     }
    }
   ],
   "metadata": {}
  },
  {
   "cell_type": "code",
   "execution_count": 256,
   "source": [
    "history_test = model.evaluate(\n",
    "    x=X_test_array,\n",
    "    y=y_test,\n",
    "    batch_size=batch_size,\n",
    "    verbose=1,\n",
    "    callbacks=my_callbacks\n",
    ")"
   ],
   "outputs": [
    {
     "output_type": "stream",
     "name": "stdout",
     "text": [
      "1153/1153 [==============================] - 10s 8ms/step - loss: -12.7224 - mae: 6.7814 - mse: 48.3153\n"
     ]
    }
   ],
   "metadata": {}
  },
  {
   "cell_type": "code",
   "execution_count": 76,
   "source": [
    "# 모델의 가중치를 저장하기\n",
    "def extract_weights(name, model):\n",
    "    weight_layer = model.get_layer(name)\n",
    "    weights = weight_layer.get_weights()[0]\n",
    "    weights = weights / np.linalg.norm(weights, axis = 1).reshape((-1, 1))\n",
    "    return weights\n",
    "\n",
    "anime_weights = extract_weights('anime_embedding', model)\n",
    "user_weights = extract_weights('user_embedding', model)"
   ],
   "outputs": [],
   "metadata": {}
  },
  {
   "cell_type": "markdown",
   "source": [
    "# sypnopsis Base Recommendation"
   ],
   "metadata": {
    "tags": []
   }
  },
  {
   "cell_type": "code",
   "execution_count": 268,
   "source": [
    "df_synopsis = pd.read_csv(data1, low_memory=True).replace(\"Unknown\", np.nan)\n",
    "# df_synopsis = df_synopsis.replace(\"Unknown\", np.nan)\n",
    "df_synopsis.head(2)"
   ],
   "outputs": [
    {
     "output_type": "execute_result",
     "data": {
      "text/plain": [
       "   MAL_ID                             Name Score  \\\n",
       "0       1                     Cowboy Bebop  8.78   \n",
       "1       5  Cowboy Bebop: Tengoku no Tobira  8.39   \n",
       "\n",
       "                                            Genres            English name  \\\n",
       "0  Action, Adventure, Comedy, Drama, Sci-Fi, Space            Cowboy Bebop   \n",
       "1            Action, Drama, Mystery, Sci-Fi, Space  Cowboy Bebop:The Movie   \n",
       "\n",
       "    Japanese name   Type Episodes                        Aired    Premiered  \\\n",
       "0       カウボーイビバップ     TV       26  Apr 3, 1998 to Apr 24, 1999  Spring 1998   \n",
       "1  カウボーイビバップ 天国の扉  Movie        1                  Sep 1, 2001          NaN   \n",
       "\n",
       "   ...  Score-10   Score-9   Score-8  Score-7  Score-6 Score-5 Score-4  \\\n",
       "0  ...  229170.0  182126.0  131625.0  62330.0  20688.0  8904.0  3184.0   \n",
       "1  ...   30043.0   49201.0   49505.0  22632.0   5805.0  1877.0   577.0   \n",
       "\n",
       "   Score-3  Score-2  Score-1  \n",
       "0   1357.0    741.0   1580.0  \n",
       "1    221.0    109.0    379.0  \n",
       "\n",
       "[2 rows x 35 columns]"
      ],
      "text/html": [
       "<div>\n",
       "<style scoped>\n",
       "    .dataframe tbody tr th:only-of-type {\n",
       "        vertical-align: middle;\n",
       "    }\n",
       "\n",
       "    .dataframe tbody tr th {\n",
       "        vertical-align: top;\n",
       "    }\n",
       "\n",
       "    .dataframe thead th {\n",
       "        text-align: right;\n",
       "    }\n",
       "</style>\n",
       "<table border=\"1\" class=\"dataframe\">\n",
       "  <thead>\n",
       "    <tr style=\"text-align: right;\">\n",
       "      <th></th>\n",
       "      <th>MAL_ID</th>\n",
       "      <th>Name</th>\n",
       "      <th>Score</th>\n",
       "      <th>Genres</th>\n",
       "      <th>English name</th>\n",
       "      <th>Japanese name</th>\n",
       "      <th>Type</th>\n",
       "      <th>Episodes</th>\n",
       "      <th>Aired</th>\n",
       "      <th>Premiered</th>\n",
       "      <th>...</th>\n",
       "      <th>Score-10</th>\n",
       "      <th>Score-9</th>\n",
       "      <th>Score-8</th>\n",
       "      <th>Score-7</th>\n",
       "      <th>Score-6</th>\n",
       "      <th>Score-5</th>\n",
       "      <th>Score-4</th>\n",
       "      <th>Score-3</th>\n",
       "      <th>Score-2</th>\n",
       "      <th>Score-1</th>\n",
       "    </tr>\n",
       "  </thead>\n",
       "  <tbody>\n",
       "    <tr>\n",
       "      <th>0</th>\n",
       "      <td>1</td>\n",
       "      <td>Cowboy Bebop</td>\n",
       "      <td>8.78</td>\n",
       "      <td>Action, Adventure, Comedy, Drama, Sci-Fi, Space</td>\n",
       "      <td>Cowboy Bebop</td>\n",
       "      <td>カウボーイビバップ</td>\n",
       "      <td>TV</td>\n",
       "      <td>26</td>\n",
       "      <td>Apr 3, 1998 to Apr 24, 1999</td>\n",
       "      <td>Spring 1998</td>\n",
       "      <td>...</td>\n",
       "      <td>229170.0</td>\n",
       "      <td>182126.0</td>\n",
       "      <td>131625.0</td>\n",
       "      <td>62330.0</td>\n",
       "      <td>20688.0</td>\n",
       "      <td>8904.0</td>\n",
       "      <td>3184.0</td>\n",
       "      <td>1357.0</td>\n",
       "      <td>741.0</td>\n",
       "      <td>1580.0</td>\n",
       "    </tr>\n",
       "    <tr>\n",
       "      <th>1</th>\n",
       "      <td>5</td>\n",
       "      <td>Cowboy Bebop: Tengoku no Tobira</td>\n",
       "      <td>8.39</td>\n",
       "      <td>Action, Drama, Mystery, Sci-Fi, Space</td>\n",
       "      <td>Cowboy Bebop:The Movie</td>\n",
       "      <td>カウボーイビバップ 天国の扉</td>\n",
       "      <td>Movie</td>\n",
       "      <td>1</td>\n",
       "      <td>Sep 1, 2001</td>\n",
       "      <td>NaN</td>\n",
       "      <td>...</td>\n",
       "      <td>30043.0</td>\n",
       "      <td>49201.0</td>\n",
       "      <td>49505.0</td>\n",
       "      <td>22632.0</td>\n",
       "      <td>5805.0</td>\n",
       "      <td>1877.0</td>\n",
       "      <td>577.0</td>\n",
       "      <td>221.0</td>\n",
       "      <td>109.0</td>\n",
       "      <td>379.0</td>\n",
       "    </tr>\n",
       "  </tbody>\n",
       "</table>\n",
       "<p>2 rows × 35 columns</p>\n",
       "</div>"
      ]
     },
     "metadata": {},
     "execution_count": 268
    }
   ],
   "metadata": {}
  },
  {
   "cell_type": "code",
   "execution_count": 271,
   "source": [
    "# 사용하려는 데이터 정리하기\n",
    "def getAnimeName(anime_id):\n",
    "    try:\n",
    "        name = df_synopsis[df_synopsis.anime_id == anime_id].Name.values[0]\n",
    "        if name is np.nan:\n",
    "            name = df_synopsis[df_synopsis.anime_id == anime_id][\"English name\"].values[0]\n",
    "    except:\n",
    "        print('error')\n",
    "    \n",
    "    return name\n",
    "\n",
    "df_synopsis['anime_id'] = df_synopsis['MAL_ID']\n",
    "df_synopsis['Name'] = df_synopsis.anime_id.apply(lambda x: getAnimeName(x))\n",
    "\n",
    "df_synopsis.sort_values(by=['Score'], \n",
    "               inplace=True,\n",
    "               ascending=False, \n",
    "               kind='quicksort',\n",
    "               na_position='last')\n",
    "\n",
    "df_synopsis = df_synopsis[[\"anime_id\", \"Name\", \n",
    "         \"Score\", \"Genres\", \"Episodes\",\n",
    "         \"Type\", \"Premiered\", \"Members\"]]\n",
    "\n",
    "df_synopsis.head(2)"
   ],
   "outputs": [
    {
     "output_type": "execute_result",
     "data": {
      "text/plain": [
       "       anime_id                                  Name Score  \\\n",
       "3971       5114      Fullmetal Alchemist: Brotherhood  9.19   \n",
       "15926     40028  Shingeki no Kyojin: The Final Season  9.17   \n",
       "\n",
       "                                                                    Genres  \\\n",
       "3971   Action, Military, Adventure, Comedy, Drama, Magic, Fantasy, Shounen   \n",
       "15926      Action, Military, Mystery, Super Power, Drama, Fantasy, Shounen   \n",
       "\n",
       "      Episodes Type    Premiered  Members  \n",
       "3971        64   TV  Spring 2009  2248456  \n",
       "15926       16   TV  Winter 2021   733260  "
      ],
      "text/html": [
       "<div>\n",
       "<style scoped>\n",
       "    .dataframe tbody tr th:only-of-type {\n",
       "        vertical-align: middle;\n",
       "    }\n",
       "\n",
       "    .dataframe tbody tr th {\n",
       "        vertical-align: top;\n",
       "    }\n",
       "\n",
       "    .dataframe thead th {\n",
       "        text-align: right;\n",
       "    }\n",
       "</style>\n",
       "<table border=\"1\" class=\"dataframe\">\n",
       "  <thead>\n",
       "    <tr style=\"text-align: right;\">\n",
       "      <th></th>\n",
       "      <th>anime_id</th>\n",
       "      <th>Name</th>\n",
       "      <th>Score</th>\n",
       "      <th>Genres</th>\n",
       "      <th>Episodes</th>\n",
       "      <th>Type</th>\n",
       "      <th>Premiered</th>\n",
       "      <th>Members</th>\n",
       "    </tr>\n",
       "  </thead>\n",
       "  <tbody>\n",
       "    <tr>\n",
       "      <th>3971</th>\n",
       "      <td>5114</td>\n",
       "      <td>Fullmetal Alchemist: Brotherhood</td>\n",
       "      <td>9.19</td>\n",
       "      <td>Action, Military, Adventure, Comedy, Drama, Magic, Fantasy, Shounen</td>\n",
       "      <td>64</td>\n",
       "      <td>TV</td>\n",
       "      <td>Spring 2009</td>\n",
       "      <td>2248456</td>\n",
       "    </tr>\n",
       "    <tr>\n",
       "      <th>15926</th>\n",
       "      <td>40028</td>\n",
       "      <td>Shingeki no Kyojin: The Final Season</td>\n",
       "      <td>9.17</td>\n",
       "      <td>Action, Military, Mystery, Super Power, Drama, Fantasy, Shounen</td>\n",
       "      <td>16</td>\n",
       "      <td>TV</td>\n",
       "      <td>Winter 2021</td>\n",
       "      <td>733260</td>\n",
       "    </tr>\n",
       "  </tbody>\n",
       "</table>\n",
       "</div>"
      ]
     },
     "metadata": {},
     "execution_count": 271
    }
   ],
   "metadata": {}
  },
  {
   "cell_type": "code",
   "execution_count": 274,
   "source": [
    "def getAnimeFrame(anime): # 애니 이름/id 를 받아서 df에서 해당 row 불러오기\n",
    "    if isinstance(anime, int):\n",
    "        return df_synopsis[df_synopsis.anime_id == anime]\n",
    "    if isinstance(anime, str):\n",
    "        return df_synopsis[df_synopsis.Name == anime]"
   ],
   "outputs": [],
   "metadata": {}
  },
  {
   "cell_type": "code",
   "execution_count": 273,
   "source": [
    "# df_anime_with_synopsis = pd.read_csv(data2)"
   ],
   "outputs": [],
   "metadata": {}
  },
  {
   "cell_type": "code",
   "execution_count": 275,
   "source": [
    "def get_sypnopsis(anime): # 애니 이름/id 를 받아서 df에서 해당 애니 sypnopsis 불러오기\n",
    "    if isinstance(anime, str):\n",
    "        return df_anime_with_synopsis[df_anime_with_synopsis['Name'] == anime].sypnopsis.values[0]\n",
    "    elif isinstance(anime, int):\n",
    "        return df_anime_with_synopsis[df_anime_with_synopsis['MAL_ID'] == anime].sypnopsis.values[0]\n",
    "    else:\n",
    "        print(f\"{anime} is not in df_anime_with_synopsis\")\n",
    "        return None"
   ],
   "outputs": [],
   "metadata": {}
  },
  {
   "cell_type": "code",
   "execution_count": 288,
   "source": [
    "np.argsort(np.dot(anime_weights, anime_weights[0]))[:11]"
   ],
   "outputs": [
    {
     "output_type": "execute_result",
     "data": {
      "text/plain": [
       "array([15835, 15737, 11150,  9473, 15198, 14481, 16550, 16015, 14139,\n",
       "       16383, 12729])"
      ]
     },
     "metadata": {},
     "execution_count": 288
    }
   ],
   "metadata": {}
  },
  {
   "cell_type": "code",
   "execution_count": 276,
   "source": [
    "pd.set_option(\"max_colwidth\", None)\n",
    "\n",
    "# 애니명을 인자로 받아 비슷한 애니를 추천하기\n",
    "def find_similar_animes(name, n=10, return_dist=False, neg=False):\n",
    "    try:\n",
    "        index = getAnimeFrame(name).anime_id.values[0] # 애니명에 해당하는 애니를 찾아 애니ID를 반환\n",
    "        encoded_index = anime2anime_encoded.get(index) # 애니ID를 인코딩한 값으로 변환하여 반환\n",
    "        weights = anime_weights                        # 모델의 가중치값\n",
    "        \n",
    "        dists = np.dot(weights, weights[encoded_index])# 모델의 가중치와 가중치 중 해당 애니의 가중치의 내적을 반환 \n",
    "        sorted_dists = np.argsort(dists)               # 배열을 정렬한 인덱스를 반환\n",
    "        \n",
    "        n = n + 1            \n",
    "        \n",
    "        if neg:\n",
    "            closest = sorted_dists[:n]                 # 인접한 가중치들을 찾음\n",
    "        else:\n",
    "            closest = sorted_dists[-n:]\n",
    "\n",
    "        print('animes closest to {}'.format(name))\n",
    "\n",
    "        if return_dist:\n",
    "            return dists, closest\n",
    "\n",
    "        rindex = df_synopsis\n",
    "\n",
    "        SimilarityArr = []\n",
    "\n",
    "        for close in closest:\n",
    "            decoded_id = anime_encoded2anime.get(close) # 인코딩값을 애니ID로 변환\n",
    "            sypnopsis = get_sypnopsis(decoded_id)       # 이후 해당 애니ID의 정보를 모아서 df로 만듬\n",
    "            anime_frame = getAnimeFrame(decoded_id)\n",
    "            anime_name = anime_frame.Name.values[0]\n",
    "            genre = anime_frame.Genres.values[0]\n",
    "            similarity = dists[close]                   # 애니의 가중치를 인접도로 저장\n",
    "            SimilarityArr.append({\"anime_id\": decoded_id, \"name\": anime_name,\n",
    "                                  \"similarity\": similarity,\"genre\": genre,\n",
    "                                  'sypnopsis': sypnopsis})\n",
    "\n",
    "        Frame = pd.DataFrame(SimilarityArr).sort_values(by=\"similarity\", ascending=False) # 인접도를 기준으로 정렬\n",
    "        return Frame[Frame.anime_id != index].drop(['anime_id'], axis=1)\n",
    "\n",
    "    except:\n",
    "        print('{}!, Not Found in Anime list'.format(name))"
   ],
   "outputs": [],
   "metadata": {
    "tags": []
   }
  },
  {
   "cell_type": "code",
   "execution_count": 277,
   "source": [
    "find_similar_animes('Dragon Ball Z', n=5, neg=False)"
   ],
   "outputs": [
    {
     "output_type": "stream",
     "name": "stdout",
     "text": [
      "animes closest to Dragon Ball Z\n"
     ]
    },
    {
     "output_type": "execute_result",
     "data": {
      "text/plain": [
       "                                                               name  \\\n",
       "4                                                       Dragon Ball   \n",
       "3                                            Dragon Ball Kai (2014)   \n",
       "2                                       Kuroko no Basket 3rd Season   \n",
       "1                                                        Death Note   \n",
       "0  Dragon Ball Z Movie 08: Moetsukiro!! Nessen, Ressen, Chougekisen   \n",
       "\n",
       "   similarity  \\\n",
       "4    0.843818   \n",
       "3    0.701445   \n",
       "2    0.669333   \n",
       "1    0.662418   \n",
       "0    0.657377   \n",
       "\n",
       "                                                                    genre  \\\n",
       "4          Adventure, Comedy, Fantasy, Martial Arts, Shounen, Super Power   \n",
       "3  Action, Adventure, Comedy, Super Power, Martial Arts, Fantasy, Shounen   \n",
       "2                                         Comedy, Sports, School, Shounen   \n",
       "1         Mystery, Police, Psychological, Supernatural, Thriller, Shounen   \n",
       "0                     Action, Adventure, Comedy, Fantasy, Sci-Fi, Shounen   \n",
       "\n",
       "                                                                                                                                                                                                                                                                                                                                                                                                                                                                                                                                                                                                                                                                                                                                                                                                                                                                                                                                                                                                                                                                                                                                                                                           sypnopsis  \n",
       "4  Gokuu Son is a young boy who lives in the woods all alone—that is, until a girl named Bulma runs into him in her search for a set of magical objects called the \"Dragon Balls.\" Since the artifacts are said to grant one wish to whoever collects all seven, Bulma hopes to gather them and wish for a perfect boyfriend. Gokuu happens to be in possession of a dragon ball, but unfortunately for Bulma, he refuses to part ways with it, so she makes him a deal: he can tag along on her journey if he lets her borrow the dragon ball's power. With that, the two set off on the journey of a lifetime. They don't go on the journey alone. On the way, they meet the old Muten-Roshi and wannabe disciple Kuririn, with whom Gokuu trains to become a stronger martial artist for the upcoming World Martial Arts Tournament. However, it's not all fun and games; the ability to make any wish come true is a powerful one, and there are others who would do much worse than just wishing for a boyfriend. To stop those who would try to abuse the legendary power, they train to become stronger fighters, using their newfound strength to help the people around them along the way.  \n",
       "3                                                                                                                                                                                                                                                                                                                                                                                                                                                                                                                                                                                                                                                                                                                                                                                                                                                                                                                                                                                                                                                                                                                     mastered version of the Majin Buu saga that adheres more to the manga's story.  \n",
       "2                                                                                                                                                                                                                        Following their triumph against Yousen High, Seirin's basketball team has reached the semifinals of the Winter Cup along with Kaijou, Rakuzan, and Shuutoku. Each of these teams possesses a member of the Generation of Miracles, and Seirin prepares to face the largest obstacles on their path to winning the Winter Cup. In the final season of Kuroko no Basket , Kuroko goes head-to-head with his old teammates once more as he attempts to show them that individual skill is not the only way to play basketball. His firm belief that his form of basketball, team play, is the right way to play the sport will clash with the talents of a perfect copy and an absolute authority. While Kuroko tries to prove that his basketball is \"right,\" he and the rest of Seirin High ultimately have one goal: to win the Winter Cup and overcome the strength of the Generation of Miracles, who have long dominated the scene of middle and high school basketball.  \n",
       "1                                         shinigami, as a god of death, can kill any person—provided they see their victim's face and write their victim's name in a notebook called a Death Note. One day, Ryuk, bored by the shinigami lifestyle and interested in seeing how a human would use a Death Note, drops one into the human realm. High school student and prodigy Light Yagami stumbles upon the Death Note and—since he deplores the state of the world—tests the deadly notebook by writing a criminal's name in it. When the criminal dies immediately following his experiment with the Death Note, Light is greatly surprised and quickly recognizes how devastating the power that has fallen into his hands could be. With this divine capability, Light decides to extinguish all criminals in order to build a new world where crime does not exist and people worship him as a god. Police, however, quickly discover that a serial killer is targeting criminals and, consequently, try to apprehend the culprit. To do this, the Japanese investigators count on the assistance of the best detective in the world: a young and eccentric man known only by the name of L.  \n",
       "0                                                                                                                                                                                                                                                                                                                                                                                                                                                                                                                                                                                                                                                                                                                                                                                                                                                                                                                                                                                                                   s Goku investigates the destruction of the Southern Galaxy, Vegeta is taken to be King of the New Planet Vegeta, and to destroy the Legendary Super Saiyan, Broly. (Source: ANN)  "
      ],
      "text/html": [
       "<div>\n",
       "<style scoped>\n",
       "    .dataframe tbody tr th:only-of-type {\n",
       "        vertical-align: middle;\n",
       "    }\n",
       "\n",
       "    .dataframe tbody tr th {\n",
       "        vertical-align: top;\n",
       "    }\n",
       "\n",
       "    .dataframe thead th {\n",
       "        text-align: right;\n",
       "    }\n",
       "</style>\n",
       "<table border=\"1\" class=\"dataframe\">\n",
       "  <thead>\n",
       "    <tr style=\"text-align: right;\">\n",
       "      <th></th>\n",
       "      <th>name</th>\n",
       "      <th>similarity</th>\n",
       "      <th>genre</th>\n",
       "      <th>sypnopsis</th>\n",
       "    </tr>\n",
       "  </thead>\n",
       "  <tbody>\n",
       "    <tr>\n",
       "      <th>4</th>\n",
       "      <td>Dragon Ball</td>\n",
       "      <td>0.843818</td>\n",
       "      <td>Adventure, Comedy, Fantasy, Martial Arts, Shounen, Super Power</td>\n",
       "      <td>Gokuu Son is a young boy who lives in the woods all alone—that is, until a girl named Bulma runs into him in her search for a set of magical objects called the \"Dragon Balls.\" Since the artifacts are said to grant one wish to whoever collects all seven, Bulma hopes to gather them and wish for a perfect boyfriend. Gokuu happens to be in possession of a dragon ball, but unfortunately for Bulma, he refuses to part ways with it, so she makes him a deal: he can tag along on her journey if he lets her borrow the dragon ball's power. With that, the two set off on the journey of a lifetime. They don't go on the journey alone. On the way, they meet the old Muten-Roshi and wannabe disciple Kuririn, with whom Gokuu trains to become a stronger martial artist for the upcoming World Martial Arts Tournament. However, it's not all fun and games; the ability to make any wish come true is a powerful one, and there are others who would do much worse than just wishing for a boyfriend. To stop those who would try to abuse the legendary power, they train to become stronger fighters, using their newfound strength to help the people around them along the way.</td>\n",
       "    </tr>\n",
       "    <tr>\n",
       "      <th>3</th>\n",
       "      <td>Dragon Ball Kai (2014)</td>\n",
       "      <td>0.701445</td>\n",
       "      <td>Action, Adventure, Comedy, Super Power, Martial Arts, Fantasy, Shounen</td>\n",
       "      <td>mastered version of the Majin Buu saga that adheres more to the manga's story.</td>\n",
       "    </tr>\n",
       "    <tr>\n",
       "      <th>2</th>\n",
       "      <td>Kuroko no Basket 3rd Season</td>\n",
       "      <td>0.669333</td>\n",
       "      <td>Comedy, Sports, School, Shounen</td>\n",
       "      <td>Following their triumph against Yousen High, Seirin's basketball team has reached the semifinals of the Winter Cup along with Kaijou, Rakuzan, and Shuutoku. Each of these teams possesses a member of the Generation of Miracles, and Seirin prepares to face the largest obstacles on their path to winning the Winter Cup. In the final season of Kuroko no Basket , Kuroko goes head-to-head with his old teammates once more as he attempts to show them that individual skill is not the only way to play basketball. His firm belief that his form of basketball, team play, is the right way to play the sport will clash with the talents of a perfect copy and an absolute authority. While Kuroko tries to prove that his basketball is \"right,\" he and the rest of Seirin High ultimately have one goal: to win the Winter Cup and overcome the strength of the Generation of Miracles, who have long dominated the scene of middle and high school basketball.</td>\n",
       "    </tr>\n",
       "    <tr>\n",
       "      <th>1</th>\n",
       "      <td>Death Note</td>\n",
       "      <td>0.662418</td>\n",
       "      <td>Mystery, Police, Psychological, Supernatural, Thriller, Shounen</td>\n",
       "      <td>shinigami, as a god of death, can kill any person—provided they see their victim's face and write their victim's name in a notebook called a Death Note. One day, Ryuk, bored by the shinigami lifestyle and interested in seeing how a human would use a Death Note, drops one into the human realm. High school student and prodigy Light Yagami stumbles upon the Death Note and—since he deplores the state of the world—tests the deadly notebook by writing a criminal's name in it. When the criminal dies immediately following his experiment with the Death Note, Light is greatly surprised and quickly recognizes how devastating the power that has fallen into his hands could be. With this divine capability, Light decides to extinguish all criminals in order to build a new world where crime does not exist and people worship him as a god. Police, however, quickly discover that a serial killer is targeting criminals and, consequently, try to apprehend the culprit. To do this, the Japanese investigators count on the assistance of the best detective in the world: a young and eccentric man known only by the name of L.</td>\n",
       "    </tr>\n",
       "    <tr>\n",
       "      <th>0</th>\n",
       "      <td>Dragon Ball Z Movie 08: Moetsukiro!! Nessen, Ressen, Chougekisen</td>\n",
       "      <td>0.657377</td>\n",
       "      <td>Action, Adventure, Comedy, Fantasy, Sci-Fi, Shounen</td>\n",
       "      <td>s Goku investigates the destruction of the Southern Galaxy, Vegeta is taken to be King of the New Planet Vegeta, and to destroy the Legendary Super Saiyan, Broly. (Source: ANN)</td>\n",
       "    </tr>\n",
       "  </tbody>\n",
       "</table>\n",
       "</div>"
      ]
     },
     "metadata": {},
     "execution_count": 277
    }
   ],
   "metadata": {}
  },
  {
   "cell_type": "markdown",
   "source": [
    "# User Based Recommendation"
   ],
   "metadata": {}
  },
  {
   "cell_type": "code",
   "execution_count": 310,
   "source": [
    "ratings_per_user[ratings_per_user>500]"
   ],
   "outputs": [
    {
     "output_type": "execute_result",
     "data": {
      "text/plain": [
       "user_id\n",
       "17        709\n",
       "19        679\n",
       "42        674\n",
       "111       584\n",
       "112       522\n",
       "         ... \n",
       "353326    953\n",
       "353328    574\n",
       "353365    566\n",
       "353395    738\n",
       "353398    759\n",
       "Length: 22903, dtype: int64"
      ]
     },
     "metadata": {},
     "execution_count": 310
    }
   ],
   "metadata": {}
  },
  {
   "cell_type": "code",
   "execution_count": 308,
   "source": [
    "ratings_per_user = df_rating_complete.groupby('user_id').size # user_id 요소별 갯수를 값으로 시리즈 반환\n",
    "random_user = ratings_per_user.sample(1, random_state=None).index[0] # user_id 임의적 선택(\n",
    "print('> user_id:', random_user)"
   ],
   "outputs": [
    {
     "output_type": "stream",
     "name": "stdout",
     "text": [
      "> user_id: 338080\n"
     ]
    }
   ],
   "metadata": {}
  },
  {
   "cell_type": "code",
   "execution_count": 314,
   "source": [
    "pd.set_option(\"max_colwidth\", None) # 내용이 다보이도록 지정된 옵션의 값을 설정\n",
    "\n",
    "# user_id를 입력받아서 비슷한 취향을 가진 유저를 반환함\n",
    "def find_similar_users(item_input, n=10,return_dist=False, neg=False):\n",
    "    try:\n",
    "        index = item_input\n",
    "        encoded_index = user2user_encoded.get(index) # user_id 인코딩값으로 변환\n",
    "        weights = user_weights                       # 모델 가중치 가져옴\n",
    "    \n",
    "        dists = np.dot(weights, weights[encoded_index]) # 백터들의 내적 구함\n",
    "        sorted_dists = np.argsort(dists)                # 내적(배열)을 나열함\n",
    "        \n",
    "        n = n + 1\n",
    "        \n",
    "        if neg:\n",
    "            closest = sorted_dists[:n]                # 인접한 값 슬라이싱\n",
    "        else:\n",
    "            closest = sorted_dists[-n:]\n",
    "\n",
    "        print('> users similar to #{}'.format(item_input))\n",
    "\n",
    "        if return_dist:\n",
    "            return dists, closest\n",
    "        \n",
    "        rindex = df_synopsis\n",
    "        SimilarityArr = []\n",
    "        for close in closest:\n",
    "            similarity = dists[close]\n",
    "\n",
    "            if isinstance(item_input, int):\n",
    "                decoded_id = user_encoded2user.get(close) # 원래 user_id로 변환\n",
    "                SimilarityArr.append({\"similar_users\": decoded_id, \n",
    "                                      \"similarity\": similarity})\n",
    "        \n",
    "        Frame = pd.DataFrame(SimilarityArr).sort_values(by=\"similarity\", \n",
    "                                                        ascending=False)\n",
    "        \n",
    "        return Frame\n",
    "    \n",
    "    except:\n",
    "        print('{}!, Not Found in User list'.format(name))"
   ],
   "outputs": [],
   "metadata": {}
  },
  {
   "cell_type": "code",
   "execution_count": 316,
   "source": [
    "similar_users = find_similar_users(int(random_user), \n",
    "                                   n=5, \n",
    "                                   neg=False)\n",
    "\n",
    "similar_users = similar_users[similar_users.similarity > 0.4]\n",
    "similar_users = similar_users[similar_users.similar_users != random_user]\n",
    "similar_users.head(5)"
   ],
   "outputs": [
    {
     "output_type": "stream",
     "name": "stdout",
     "text": [
      "> users similar to #338080\n"
     ]
    },
    {
     "output_type": "execute_result",
     "data": {
      "text/plain": [
       "   similar_users  similarity\n",
       "4           4193    0.447090\n",
       "3         213257    0.414890\n",
       "2         162147    0.414154\n",
       "1         121880    0.414115\n",
       "0         222653    0.410995"
      ],
      "text/html": [
       "<div>\n",
       "<style scoped>\n",
       "    .dataframe tbody tr th:only-of-type {\n",
       "        vertical-align: middle;\n",
       "    }\n",
       "\n",
       "    .dataframe tbody tr th {\n",
       "        vertical-align: top;\n",
       "    }\n",
       "\n",
       "    .dataframe thead th {\n",
       "        text-align: right;\n",
       "    }\n",
       "</style>\n",
       "<table border=\"1\" class=\"dataframe\">\n",
       "  <thead>\n",
       "    <tr style=\"text-align: right;\">\n",
       "      <th></th>\n",
       "      <th>similar_users</th>\n",
       "      <th>similarity</th>\n",
       "    </tr>\n",
       "  </thead>\n",
       "  <tbody>\n",
       "    <tr>\n",
       "      <th>4</th>\n",
       "      <td>4193</td>\n",
       "      <td>0.447090</td>\n",
       "    </tr>\n",
       "    <tr>\n",
       "      <th>3</th>\n",
       "      <td>213257</td>\n",
       "      <td>0.414890</td>\n",
       "    </tr>\n",
       "    <tr>\n",
       "      <th>2</th>\n",
       "      <td>162147</td>\n",
       "      <td>0.414154</td>\n",
       "    </tr>\n",
       "    <tr>\n",
       "      <th>1</th>\n",
       "      <td>121880</td>\n",
       "      <td>0.414115</td>\n",
       "    </tr>\n",
       "    <tr>\n",
       "      <th>0</th>\n",
       "      <td>222653</td>\n",
       "      <td>0.410995</td>\n",
       "    </tr>\n",
       "  </tbody>\n",
       "</table>\n",
       "</div>"
      ]
     },
     "metadata": {},
     "execution_count": 316
    }
   ],
   "metadata": {}
  },
  {
   "cell_type": "markdown",
   "source": [
    "# User preferences"
   ],
   "metadata": {}
  },
  {
   "cell_type": "code",
   "execution_count": 167,
   "source": [
    "# pip install wordcloud"
   ],
   "outputs": [
    {
     "output_type": "stream",
     "name": "stdout",
     "text": [
      "Collecting wordcloud\n",
      "  Downloading wordcloud-1.8.1.tar.gz (220 kB)\n",
      "\u001b[K     |████████████████████████████████| 220 kB 2.2 MB/s eta 0:00:01\n",
      "\u001b[?25hRequirement already satisfied: numpy>=1.6.1 in /Users/daenymac/opt/miniconda3/envs/proj4/lib/python3.8/site-packages (from wordcloud) (1.19.5)\n",
      "Requirement already satisfied: pillow in /Users/daenymac/opt/miniconda3/envs/proj4/lib/python3.8/site-packages (from wordcloud) (8.3.1)\n",
      "Requirement already satisfied: matplotlib in /Users/daenymac/opt/miniconda3/envs/proj4/lib/python3.8/site-packages (from wordcloud) (3.4.2)\n",
      "Requirement already satisfied: pyparsing>=2.2.1 in /Users/daenymac/opt/miniconda3/envs/proj4/lib/python3.8/site-packages (from matplotlib->wordcloud) (2.4.7)\n",
      "Requirement already satisfied: cycler>=0.10 in /Users/daenymac/opt/miniconda3/envs/proj4/lib/python3.8/site-packages (from matplotlib->wordcloud) (0.10.0)\n",
      "Requirement already satisfied: python-dateutil>=2.7 in /Users/daenymac/opt/miniconda3/envs/proj4/lib/python3.8/site-packages (from matplotlib->wordcloud) (2.8.2)\n",
      "Requirement already satisfied: kiwisolver>=1.0.1 in /Users/daenymac/opt/miniconda3/envs/proj4/lib/python3.8/site-packages (from matplotlib->wordcloud) (1.3.1)\n",
      "Requirement already satisfied: six in /Users/daenymac/opt/miniconda3/envs/proj4/lib/python3.8/site-packages (from cycler>=0.10->matplotlib->wordcloud) (1.15.0)\n",
      "Building wheels for collected packages: wordcloud\n",
      "  Building wheel for wordcloud (setup.py) ... \u001b[?25ldone\n",
      "\u001b[?25h  Created wheel for wordcloud: filename=wordcloud-1.8.1-cp38-cp38-macosx_10_9_x86_64.whl size=158055 sha256=a74667dc7bed95055bac39867858c2449fd7a1f25e356b940e15c43806c97150\n",
      "  Stored in directory: /Users/daenymac/Library/Caches/pip/wheels/4d/3f/0d/a2ba9b7895c9f1be89018b3141c3df3d4f9c786c882ccfbc3b\n",
      "Successfully built wordcloud\n",
      "Installing collected packages: wordcloud\n",
      "Successfully installed wordcloud-1.8.1\n",
      "Note: you may need to restart the kernel to use updated packages.\n"
     ]
    }
   ],
   "metadata": {}
  },
  {
   "cell_type": "code",
   "execution_count": 333,
   "source": [
    "from wordcloud import WordCloud # 말풍선\n",
    "from collections import defaultdict # 누락된 값을 제공하기 위해 팩토리 함수를 호출하는 딕셔너리 서브 클래스\n",
    "import matplotlib.pyplot as plt\n",
    "\n",
    "# 장르들을 받아서 빈도값을 기준으로 말풍선그리는 함수\n",
    "def showWordCloud(all_genres):\n",
    "    genres_cloud = WordCloud(width=700, height=400, \n",
    "                             background_color='white', \n",
    "                             colormap='gnuplot').generate_from_frequencies(all_genres)\n",
    "    \n",
    "    plt.figure(figsize=(10,8)) \n",
    "    plt.imshow(genres_cloud, interpolation='bilinear') # 2D 일반 래스터와 같은 이미지로 표시\n",
    "    plt.axis('off')\n",
    "    plt.show()\n",
    "\n",
    "# 프레임을 받아서 장르별 최다빈도 장르를 리스트로 반환하는 함수\n",
    "def getFavGenre(frame, plot=False):\n",
    "        frame.dropna(inplace=False)\n",
    "        all_genres = defaultdict(int)\n",
    "        \n",
    "        genres_list = []\n",
    "        for genres in frame['Genres']:\n",
    "            if isinstance(genres, str):\n",
    "                for genre in genres.split(','):\n",
    "                    genres_list.append(genre)\n",
    "                    all_genres[genre.strip()] += 1    \n",
    "        if plot:\n",
    "            showWordCloud(all_genres)\n",
    "        \n",
    "        return genres_list\n",
    "\n",
    "# user_id를 매개변수로 받아서 해당 유저의 기록 중 일정 등급이상의 기록을 가져와 시청한 애니의 장르들을 말풍선화 하고, 목록화 하는 함수\n",
    "def get_user_preferences(user_id, plot=False, verbose=0):\n",
    "    animes_watched_by_user = df_rating_complete[df_rating_complete.user_id==user_id]\n",
    "    user_rating_percentile = np.percentile(animes_watched_by_user.rating, 75) # 배열 요소 의 75번째 백분위수를 반환\n",
    "    animes_watched_by_user = animes_watched_by_user[animes_watched_by_user.rating >= user_rating_percentile]\n",
    "    top_animes_user = (\n",
    "        animes_watched_by_user.sort_values(by=\"rating\", ascending=False)#.head(10)\n",
    "        .anime_id.values\n",
    "    )\n",
    "    \n",
    "    anime_df_rows = df_synopsis[df_synopsis[\"anime_id\"].isin(top_animes_user)]\n",
    "    anime_df_rows = anime_df_rows[[\"Name\", \"Genres\"]]\n",
    "    \n",
    "    if verbose != 0:\n",
    "        print(\"> User #{} has rated {} movies (avg. rating = {:.1f})\".format(\n",
    "          user_id, len(animes_watched_by_user),\n",
    "          animes_watched_by_user['rating'].mean(),\n",
    "        ))\n",
    "    \n",
    "        print('> preferred genres')\n",
    "    \n",
    "    if plot:\n",
    "        getFavGenre(anime_df_rows, plot)\n",
    "        \n",
    "    return anime_df_rows#.eng_version.values\n"
   ],
   "outputs": [],
   "metadata": {}
  },
  {
   "cell_type": "code",
   "execution_count": 334,
   "source": [
    "user_pref = get_user_preferences(random_user, plot=True, verbose=1)\n",
    "print('> animes highly rated by this user')\n",
    "\n",
    "pd.DataFrame(user_pref).head(5)"
   ],
   "outputs": [
    {
     "output_type": "stream",
     "name": "stdout",
     "text": [
      "> User #338080 has rated 104 movies (avg. rating = 8.5)\n",
      "> preferred genres\n"
     ]
    },
    {
     "output_type": "display_data",
     "data": {
      "text/plain": [
       "<Figure size 720x576 with 1 Axes>"
      ],
      "image/png": "[encoded data removed]"
     },
     "metadata": {
      "needs_background": "light"
     }
    },
    {
     "output_type": "stream",
     "name": "stdout",
     "text": [
      "> animes highly rated by this user\n"
     ]
    },
    {
     "output_type": "execute_result",
     "data": {
      "text/plain": [
       "                                    Name  \\\n",
       "3971    Fullmetal Alchemist: Brotherhood   \n",
       "5683                         Steins;Gate   \n",
       "3537                Clannad: After Story   \n",
       "2656  Code Geass: Hangyaku no Lelouch R2   \n",
       "176        Sen to Chihiro no Kamikakushi   \n",
       "\n",
       "                                                                   Genres  \n",
       "3971  Action, Military, Adventure, Comedy, Drama, Magic, Fantasy, Shounen  \n",
       "5683                                                     Thriller, Sci-Fi  \n",
       "3537                  Slice of Life, Comedy, Supernatural, Drama, Romance  \n",
       "2656                  Action, Military, Sci-Fi, Super Power, Drama, Mecha  \n",
       "176                                        Adventure, Supernatural, Drama  "
      ],
      "text/html": [
       "<div>\n",
       "<style scoped>\n",
       "    .dataframe tbody tr th:only-of-type {\n",
       "        vertical-align: middle;\n",
       "    }\n",
       "\n",
       "    .dataframe tbody tr th {\n",
       "        vertical-align: top;\n",
       "    }\n",
       "\n",
       "    .dataframe thead th {\n",
       "        text-align: right;\n",
       "    }\n",
       "</style>\n",
       "<table border=\"1\" class=\"dataframe\">\n",
       "  <thead>\n",
       "    <tr style=\"text-align: right;\">\n",
       "      <th></th>\n",
       "      <th>Name</th>\n",
       "      <th>Genres</th>\n",
       "    </tr>\n",
       "  </thead>\n",
       "  <tbody>\n",
       "    <tr>\n",
       "      <th>3971</th>\n",
       "      <td>Fullmetal Alchemist: Brotherhood</td>\n",
       "      <td>Action, Military, Adventure, Comedy, Drama, Magic, Fantasy, Shounen</td>\n",
       "    </tr>\n",
       "    <tr>\n",
       "      <th>5683</th>\n",
       "      <td>Steins;Gate</td>\n",
       "      <td>Thriller, Sci-Fi</td>\n",
       "    </tr>\n",
       "    <tr>\n",
       "      <th>3537</th>\n",
       "      <td>Clannad: After Story</td>\n",
       "      <td>Slice of Life, Comedy, Supernatural, Drama, Romance</td>\n",
       "    </tr>\n",
       "    <tr>\n",
       "      <th>2656</th>\n",
       "      <td>Code Geass: Hangyaku no Lelouch R2</td>\n",
       "      <td>Action, Military, Sci-Fi, Super Power, Drama, Mecha</td>\n",
       "    </tr>\n",
       "    <tr>\n",
       "      <th>176</th>\n",
       "      <td>Sen to Chihiro no Kamikakushi</td>\n",
       "      <td>Adventure, Supernatural, Drama</td>\n",
       "    </tr>\n",
       "  </tbody>\n",
       "</table>\n",
       "</div>"
      ]
     },
     "metadata": {},
     "execution_count": 334
    }
   ],
   "metadata": {}
  },
  {
   "cell_type": "code",
   "execution_count": 335,
   "source": [
    "# 비슷한 취향의 유저들을 매개변수로 받아 해당 유저들의 정보를 기반으로 장르말풍선, 선호애니 리스트를 반환하는 함수\n",
    "def get_recommended_animes(similar_users, n=10):\n",
    "    recommended_animes = []\n",
    "    anime_list = []\n",
    "    \n",
    "    for user_id in similar_users.similar_users.values:\n",
    "        pref_list = get_user_preferences(int(user_id), verbose=0)\n",
    "        pref_list = pref_list[~ pref_list.Name.isin(user_pref.Name.values)]\n",
    "        anime_list.append(pref_list.Name.values)\n",
    "        \n",
    "    anime_list = pd.DataFrame(anime_list)\n",
    "    sorted_list = pd.DataFrame(pd.Series(anime_list.values.ravel()).value_counts()).head(n)\n",
    "    \n",
    "    for i, anime_name in enumerate(sorted_list.index):        \n",
    "        n_user_pref = sorted_list[sorted_list.index == anime_name].values[0][0]\n",
    "        if isinstance(anime_name, str):\n",
    "            try:\n",
    "                frame = getAnimeFrame(anime_name)\n",
    "                anime_id = frame.anime_id.values[0]\n",
    "                genre = frame.Genres.values[0]\n",
    "                sypnopsis = get_sypnopsis(int(anime_id))\n",
    "                recommended_animes.append({#\"anime_id\": anime_id ,\n",
    "                                            \"n\": n_user_pref,\n",
    "                                            \"anime_name\": anime_name, \n",
    "                                            \"Genres\": genre, \n",
    "                                            \"sypnopsis\": sypnopsis})\n",
    "            except:\n",
    "                pass\n",
    "    \n",
    "    return pd.DataFrame(recommended_animes)"
   ],
   "outputs": [],
   "metadata": {}
  },
  {
   "cell_type": "code",
   "execution_count": 336,
   "source": [
    "recommended_animes = get_recommended_animes(similar_users, n=10)\n",
    "getFavGenre(recommended_animes, plot=True)\n",
    "\n",
    "print('\\n> Top recommendations for user: {}'.format(random_user))\n",
    "recommended_animes"
   ],
   "outputs": [
    {
     "output_type": "display_data",
     "data": {
      "text/plain": [
       "<Figure size 720x576 with 1 Axes>"
      ],
      "image/png": "[encoded data removed]"
     },
     "metadata": {
      "needs_background": "light"
     }
    },
    {
     "output_type": "stream",
     "name": "stdout",
     "text": [
      "\n",
      "> Top recommendations for user: 338080\n"
     ]
    },
    {
     "output_type": "execute_result",
     "data": {
      "text/plain": [
       "   n                                                      anime_name  \\\n",
       "0  3                                               Devilman: Crybaby   \n",
       "1  3                                Monogatari Series: Second Season   \n",
       "2  3                                                  Kimi no Na wa.   \n",
       "3  3                                                  Koe no Katachi   \n",
       "4  3                        Kono Subarashii Sekai ni Shukufuku wo! 2   \n",
       "5  3  JoJo no Kimyou na Bouken Part 3: Stardust Crusaders 2nd Season   \n",
       "6  3                                                     Tokyo Ghoul   \n",
       "7  2                                                    Angel Beats!   \n",
       "8  2                          Kono Subarashii Sekai ni Shukufuku wo!   \n",
       "9  2                                                  Nisemonogatari   \n",
       "\n",
       "                                                                Genres  \\\n",
       "0                       Action, Dementia, Demons, Horror, Supernatural   \n",
       "1                      Mystery, Comedy, Supernatural, Romance, Vampire   \n",
       "2                                 Romance, Supernatural, School, Drama   \n",
       "3                                               Drama, School, Shounen   \n",
       "4              Adventure, Comedy, Parody, Supernatural, Magic, Fantasy   \n",
       "5                      Action, Adventure, Supernatural, Drama, Shounen   \n",
       "6  Action, Mystery, Horror, Psychological, Supernatural, Drama, Seinen   \n",
       "7                          Action, Comedy, Drama, School, Supernatural   \n",
       "8              Adventure, Comedy, Fantasy, Magic, Parody, Supernatural   \n",
       "9                                 Mystery, Comedy, Supernatural, Ecchi   \n",
       "\n",
       "                                                                                                                                                                                                                                                                                                                                                                                                                                                                                                                                                                                                                                                                                                                                                                                                                                                                                                                                                                                                                                                                                                                                                                                                            sypnopsis  \n",
       "0                                                                                                                                                                  Devils cannot take form without a living host. However, if the will of an individual is strong enough, they can overcome the demon and make its power their own, becoming a Devilman. Weak and unassuming, Akira Fudou has always had a bleeding heart. So when his childhood friend Ryou Asuka asks for his help in uncovering devils, Akira accepts without hesitation. However, to Akira's surprise, the place they go to is Sabbath: an immoral party of debauchery and degeneracy. Amidst bloodshed and death, demons possess the partiers, turning their bodies into grotesque monsters, and begin wreaking havoc. In a reckless attempt to save his best friend, Akira unwittingly merges with the devil Amon and becomes a Devilman, gaining the power to defeat the remaining demons. Though it grants him great power, this new partnership awakens an insatiable and primeval part of Akira. Having the body of a devil but the same crybaby heart, Akira works alongside Ryou, destroying those that harm humanity and his loved ones.  \n",
       "1                                                                                                                                                                                                                                           pparitions, oddities, and gods continue to manifest around Koyomi Araragi and his close-knit group of friends: Tsubasa Hanekawa, the group's modest genius; Shinobu Oshino, the resident doughnut-loving vampire; athletic deviant Suruga Kanbaru; bite-happy spirit Mayoi Hachikuji; Koyomi's cutesy stalker Nadeko Sengoku; and Hitagi Senjogahara, the poignant tsundere. Monogatari Series: Second Season revolves around these individuals and their struggle to overcome the darkness that is rapidly approaching. A new semester has begun and with graduation looming over Araragi, he must quickly decide the paths he will walk, as well as the relationships and friends that he'll save. But as strange events begin to unfold, Araragi is nowhere to be found, and a vicious tiger apparition has appeared in his absence. Hanekawa has become its target, and she must fend for herself—or bow to the creature's perspective on the feebleness of humanity.  \n",
       "2                                                                                                                                                                                                                                                                                                                                                                  suha Miyamizu, a high school girl, yearns to live the life of a boy in the bustling city of Tokyo—a dream that stands in stark contrast to her present life in the countryside. Meanwhile in the city, Taki Tachibana lives a busy life as a high school student while juggling his part-time job and hopes for a future in architecture. One day, Mitsuha awakens in a room that is not her own and suddenly finds herself living the dream life in Tokyo—but in Taki's body! Elsewhere, Taki finds himself living Mitsuha's life in the humble countryside. In pursuit of an answer to this strange phenomenon, they begin to search for one another. Kimi no Na wa. revolves around Mitsuha and Taki's actions, which begin to have a dramatic impact on each other's lives, weaving them into a fabric held together by fate and circumstance.  \n",
       "3                                                                                                                                                                                                                                                        s a wild youth, elementary school student Shouya Ishida sought to beat boredom in the cruelest ways. When the deaf Shouko Nishimiya transfers into his class, Shouya and the rest of his class thoughtlessly bully her for fun. However, when her mother notifies the school, he is singled out and blamed for everything done to her. With Shouko transferring out of the school, Shouya is left at the mercy of his classmates. He is heartlessly ostracized all throughout elementary and middle school, while teachers turn a blind eye. Now in his third year of high school, Shouya is still plagued by his wrongdoings as a young boy. Sincerely regretting his past actions, he sets out on a journey of redemption: to meet Shouko once more and make amends. Koe no Katachi tells the heartwarming tale of Shouya's reunion with Shouko and his honest attempts to redeem himself, all while being continually haunted by the shadows of his past.  \n",
       "4  hen Kazuma Satou died, he was given two choices: pass on to heaven or be revived in a fantasy world. After choosing the new world, the goddess Aqua tasked him with defeating the Demon King, and let him choose any weapon to aid him. Unfortunately, Kazuma chose to bring Aqua herself and has regretted the decision ever since then. Not only is he stuck with a useless deity turned party archpriest, the pair also has to make enough money for living expenses. To add to their problems, their group continued to grow as more problematic adventurers joined their ranks. Their token spellcaster, Megumin, is an explosion magic specialist who can only cast one spell once per day and refuses to learn anything else. There is also their stalwart crusader, Lalatina \"Darkness\" Dustiness Ford, a helpless masochist who makes Kazuma look pure in comparison. Kono Subarashii Sekai ni Shukufuku wo! 2 continues to follow Kazuma and the rest of his party through countless more adventures as they struggle to earn money and have to deal with one another's problematic personalities. However, things rarely go as planned, and they are often sidetracked by their own idiotic tendencies.  \n",
       "5                                                                                                                                                                                                                                                                                                                                                                                                                                                                                                                                                                                                                                                                Joutarou Kuujou and his allies have finally made it to Egypt, where the immortal Dio awaits. Upon their arrival, the group gains a new comrade: Iggy, a mutt who wields the Stand \"The Fool.\" It's not all good news however, as standing in their path is a new group of Stand users who serve Dio, each with a Stand representative of an ancient Egyptian god. As their final battle approaches, it is a race against time to break Joutarou's mother free from her curse and end Dio's reign of terror over the Joestar family once and for all.  \n",
       "6                                                                                                                                                                                                                                                                          Tokyo has become a cruel and merciless city—a place where vicious creatures called \"ghouls\" exist alongside humans. The citizens of this once great metropolis live in constant fear of these bloodthirsty savages and their thirst for human flesh. However, the greatest threat these ghouls pose is their dangerous ability to masquerade as humans and blend in with society. Based on the best-selling supernatural horror manga by Sui Ishida, Tokyo Ghoul follows Ken Kaneki, a shy, bookish college student, who is instantly drawn to Rize Kamishiro, an avid reader like himself. However, Rize is not exactly who she seems, and this unfortunate meeting pushes Kaneki into the dark depths of the ghouls' inhuman world. In a twist of fate, Kaneki is saved by the enigmatic waitress Touka Kirishima, and thus begins his new, secret life as a half-ghoul/half-human who must find a way to integrate into both societies.  \n",
       "7                                                                                                                                                                                                                                                                                                                                                                                                                                                                                                                                    Otonashi awakens only to learn he is dead. A rifle-toting girl named Yuri explains that they are in the afterlife, and Otonashi realizes the only thing he can remember about himself is his name. Yuri tells him that she leads the Shinda Sekai Sensen (Afterlife Battlefront) and wages war against a girl named Tenshi. Unable to believe Yuri's claims that Tenshi is evil, Otonashi attempts to speak with her, but the encounter doesn't go as he intended. Otonashi decides to join the SSS and battle Tenshi, but he finds himself oddly drawn to her. While trying to regain his memories and understand Tenshi, he gradually unravels the mysteries of the afterlife.  \n",
       "8                                                                                                                                                                                                                                                                                     fter dying a laughable and pathetic death on his way back from buying a game, high school student and recluse Kazuma Satou finds himself sitting before a beautiful but obnoxious goddess named Aqua. She provides the NEET with two options: continue on to heaven or reincarnate in every gamer's dream—a real fantasy world! Choosing to start a new life, Kazuma is quickly tasked with defeating a Demon King who is terrorizing villages. But before he goes, he can choose one item of any kind to aid him in his quest, and the future hero selects Aqua. But Kazuma has made a grave mistake—Aqua is completely useless! Unfortunately, their troubles don't end here; it turns out that living in such a world is far different from how it plays out in a game. Instead of going on a thrilling adventure, the duo must first work to pay for their living expenses. Indeed, their misfortunes have only just begun!  \n",
       "9                                                                                                                                                                                                                                                     Surviving a vampire attack, meeting several girls plagued by supernatural entities, and just trying to get through life are some of the things high school student Koyomi Araragi has had to deal with lately. On top of all this, he wakes up one morning to find himself kidnapped and tied up by his girlfriend Hitagi Senjougahara. Having run afoul of Deishuu Kaiki, a swindler who conned Senjougahara's family, she has taken it upon herself to imprison Araragi to keep him safe from the con man. But when Araragi gets a frantic message from his sister Karen, he learns that the fraud has set his sights on her. Along with Karen's troubles, his other sister, Tsukihi, is having issues of her own. And when two mysterious women who seem to know more than they should about Araragi and his special group of friends step into their lives, not even he could anticipate their true goals, nor the catastrophic truths soon to be revealed.  "
      ],
      "text/html": [
       "<div>\n",
       "<style scoped>\n",
       "    .dataframe tbody tr th:only-of-type {\n",
       "        vertical-align: middle;\n",
       "    }\n",
       "\n",
       "    .dataframe tbody tr th {\n",
       "        vertical-align: top;\n",
       "    }\n",
       "\n",
       "    .dataframe thead th {\n",
       "        text-align: right;\n",
       "    }\n",
       "</style>\n",
       "<table border=\"1\" class=\"dataframe\">\n",
       "  <thead>\n",
       "    <tr style=\"text-align: right;\">\n",
       "      <th></th>\n",
       "      <th>n</th>\n",
       "      <th>anime_name</th>\n",
       "      <th>Genres</th>\n",
       "      <th>sypnopsis</th>\n",
       "    </tr>\n",
       "  </thead>\n",
       "  <tbody>\n",
       "    <tr>\n",
       "      <th>0</th>\n",
       "      <td>3</td>\n",
       "      <td>Devilman: Crybaby</td>\n",
       "      <td>Action, Dementia, Demons, Horror, Supernatural</td>\n",
       "      <td>Devils cannot take form without a living host. However, if the will of an individual is strong enough, they can overcome the demon and make its power their own, becoming a Devilman. Weak and unassuming, Akira Fudou has always had a bleeding heart. So when his childhood friend Ryou Asuka asks for his help in uncovering devils, Akira accepts without hesitation. However, to Akira's surprise, the place they go to is Sabbath: an immoral party of debauchery and degeneracy. Amidst bloodshed and death, demons possess the partiers, turning their bodies into grotesque monsters, and begin wreaking havoc. In a reckless attempt to save his best friend, Akira unwittingly merges with the devil Amon and becomes a Devilman, gaining the power to defeat the remaining demons. Though it grants him great power, this new partnership awakens an insatiable and primeval part of Akira. Having the body of a devil but the same crybaby heart, Akira works alongside Ryou, destroying those that harm humanity and his loved ones.</td>\n",
       "    </tr>\n",
       "    <tr>\n",
       "      <th>1</th>\n",
       "      <td>3</td>\n",
       "      <td>Monogatari Series: Second Season</td>\n",
       "      <td>Mystery, Comedy, Supernatural, Romance, Vampire</td>\n",
       "      <td>pparitions, oddities, and gods continue to manifest around Koyomi Araragi and his close-knit group of friends: Tsubasa Hanekawa, the group's modest genius; Shinobu Oshino, the resident doughnut-loving vampire; athletic deviant Suruga Kanbaru; bite-happy spirit Mayoi Hachikuji; Koyomi's cutesy stalker Nadeko Sengoku; and Hitagi Senjogahara, the poignant tsundere. Monogatari Series: Second Season revolves around these individuals and their struggle to overcome the darkness that is rapidly approaching. A new semester has begun and with graduation looming over Araragi, he must quickly decide the paths he will walk, as well as the relationships and friends that he'll save. But as strange events begin to unfold, Araragi is nowhere to be found, and a vicious tiger apparition has appeared in his absence. Hanekawa has become its target, and she must fend for herself—or bow to the creature's perspective on the feebleness of humanity.</td>\n",
       "    </tr>\n",
       "    <tr>\n",
       "      <th>2</th>\n",
       "      <td>3</td>\n",
       "      <td>Kimi no Na wa.</td>\n",
       "      <td>Romance, Supernatural, School, Drama</td>\n",
       "      <td>suha Miyamizu, a high school girl, yearns to live the life of a boy in the bustling city of Tokyo—a dream that stands in stark contrast to her present life in the countryside. Meanwhile in the city, Taki Tachibana lives a busy life as a high school student while juggling his part-time job and hopes for a future in architecture. One day, Mitsuha awakens in a room that is not her own and suddenly finds herself living the dream life in Tokyo—but in Taki's body! Elsewhere, Taki finds himself living Mitsuha's life in the humble countryside. In pursuit of an answer to this strange phenomenon, they begin to search for one another. Kimi no Na wa. revolves around Mitsuha and Taki's actions, which begin to have a dramatic impact on each other's lives, weaving them into a fabric held together by fate and circumstance.</td>\n",
       "    </tr>\n",
       "    <tr>\n",
       "      <th>3</th>\n",
       "      <td>3</td>\n",
       "      <td>Koe no Katachi</td>\n",
       "      <td>Drama, School, Shounen</td>\n",
       "      <td>s a wild youth, elementary school student Shouya Ishida sought to beat boredom in the cruelest ways. When the deaf Shouko Nishimiya transfers into his class, Shouya and the rest of his class thoughtlessly bully her for fun. However, when her mother notifies the school, he is singled out and blamed for everything done to her. With Shouko transferring out of the school, Shouya is left at the mercy of his classmates. He is heartlessly ostracized all throughout elementary and middle school, while teachers turn a blind eye. Now in his third year of high school, Shouya is still plagued by his wrongdoings as a young boy. Sincerely regretting his past actions, he sets out on a journey of redemption: to meet Shouko once more and make amends. Koe no Katachi tells the heartwarming tale of Shouya's reunion with Shouko and his honest attempts to redeem himself, all while being continually haunted by the shadows of his past.</td>\n",
       "    </tr>\n",
       "    <tr>\n",
       "      <th>4</th>\n",
       "      <td>3</td>\n",
       "      <td>Kono Subarashii Sekai ni Shukufuku wo! 2</td>\n",
       "      <td>Adventure, Comedy, Parody, Supernatural, Magic, Fantasy</td>\n",
       "      <td>hen Kazuma Satou died, he was given two choices: pass on to heaven or be revived in a fantasy world. After choosing the new world, the goddess Aqua tasked him with defeating the Demon King, and let him choose any weapon to aid him. Unfortunately, Kazuma chose to bring Aqua herself and has regretted the decision ever since then. Not only is he stuck with a useless deity turned party archpriest, the pair also has to make enough money for living expenses. To add to their problems, their group continued to grow as more problematic adventurers joined their ranks. Their token spellcaster, Megumin, is an explosion magic specialist who can only cast one spell once per day and refuses to learn anything else. There is also their stalwart crusader, Lalatina \"Darkness\" Dustiness Ford, a helpless masochist who makes Kazuma look pure in comparison. Kono Subarashii Sekai ni Shukufuku wo! 2 continues to follow Kazuma and the rest of his party through countless more adventures as they struggle to earn money and have to deal with one another's problematic personalities. However, things rarely go as planned, and they are often sidetracked by their own idiotic tendencies.</td>\n",
       "    </tr>\n",
       "    <tr>\n",
       "      <th>5</th>\n",
       "      <td>3</td>\n",
       "      <td>JoJo no Kimyou na Bouken Part 3: Stardust Crusaders 2nd Season</td>\n",
       "      <td>Action, Adventure, Supernatural, Drama, Shounen</td>\n",
       "      <td>Joutarou Kuujou and his allies have finally made it to Egypt, where the immortal Dio awaits. Upon their arrival, the group gains a new comrade: Iggy, a mutt who wields the Stand \"The Fool.\" It's not all good news however, as standing in their path is a new group of Stand users who serve Dio, each with a Stand representative of an ancient Egyptian god. As their final battle approaches, it is a race against time to break Joutarou's mother free from her curse and end Dio's reign of terror over the Joestar family once and for all.</td>\n",
       "    </tr>\n",
       "    <tr>\n",
       "      <th>6</th>\n",
       "      <td>3</td>\n",
       "      <td>Tokyo Ghoul</td>\n",
       "      <td>Action, Mystery, Horror, Psychological, Supernatural, Drama, Seinen</td>\n",
       "      <td>Tokyo has become a cruel and merciless city—a place where vicious creatures called \"ghouls\" exist alongside humans. The citizens of this once great metropolis live in constant fear of these bloodthirsty savages and their thirst for human flesh. However, the greatest threat these ghouls pose is their dangerous ability to masquerade as humans and blend in with society. Based on the best-selling supernatural horror manga by Sui Ishida, Tokyo Ghoul follows Ken Kaneki, a shy, bookish college student, who is instantly drawn to Rize Kamishiro, an avid reader like himself. However, Rize is not exactly who she seems, and this unfortunate meeting pushes Kaneki into the dark depths of the ghouls' inhuman world. In a twist of fate, Kaneki is saved by the enigmatic waitress Touka Kirishima, and thus begins his new, secret life as a half-ghoul/half-human who must find a way to integrate into both societies.</td>\n",
       "    </tr>\n",
       "    <tr>\n",
       "      <th>7</th>\n",
       "      <td>2</td>\n",
       "      <td>Angel Beats!</td>\n",
       "      <td>Action, Comedy, Drama, School, Supernatural</td>\n",
       "      <td>Otonashi awakens only to learn he is dead. A rifle-toting girl named Yuri explains that they are in the afterlife, and Otonashi realizes the only thing he can remember about himself is his name. Yuri tells him that she leads the Shinda Sekai Sensen (Afterlife Battlefront) and wages war against a girl named Tenshi. Unable to believe Yuri's claims that Tenshi is evil, Otonashi attempts to speak with her, but the encounter doesn't go as he intended. Otonashi decides to join the SSS and battle Tenshi, but he finds himself oddly drawn to her. While trying to regain his memories and understand Tenshi, he gradually unravels the mysteries of the afterlife.</td>\n",
       "    </tr>\n",
       "    <tr>\n",
       "      <th>8</th>\n",
       "      <td>2</td>\n",
       "      <td>Kono Subarashii Sekai ni Shukufuku wo!</td>\n",
       "      <td>Adventure, Comedy, Fantasy, Magic, Parody, Supernatural</td>\n",
       "      <td>fter dying a laughable and pathetic death on his way back from buying a game, high school student and recluse Kazuma Satou finds himself sitting before a beautiful but obnoxious goddess named Aqua. She provides the NEET with two options: continue on to heaven or reincarnate in every gamer's dream—a real fantasy world! Choosing to start a new life, Kazuma is quickly tasked with defeating a Demon King who is terrorizing villages. But before he goes, he can choose one item of any kind to aid him in his quest, and the future hero selects Aqua. But Kazuma has made a grave mistake—Aqua is completely useless! Unfortunately, their troubles don't end here; it turns out that living in such a world is far different from how it plays out in a game. Instead of going on a thrilling adventure, the duo must first work to pay for their living expenses. Indeed, their misfortunes have only just begun!</td>\n",
       "    </tr>\n",
       "    <tr>\n",
       "      <th>9</th>\n",
       "      <td>2</td>\n",
       "      <td>Nisemonogatari</td>\n",
       "      <td>Mystery, Comedy, Supernatural, Ecchi</td>\n",
       "      <td>Surviving a vampire attack, meeting several girls plagued by supernatural entities, and just trying to get through life are some of the things high school student Koyomi Araragi has had to deal with lately. On top of all this, he wakes up one morning to find himself kidnapped and tied up by his girlfriend Hitagi Senjougahara. Having run afoul of Deishuu Kaiki, a swindler who conned Senjougahara's family, she has taken it upon herself to imprison Araragi to keep him safe from the con man. But when Araragi gets a frantic message from his sister Karen, he learns that the fraud has set his sights on her. Along with Karen's troubles, his other sister, Tsukihi, is having issues of her own. And when two mysterious women who seem to know more than they should about Araragi and his special group of friends step into their lives, not even he could anticipate their true goals, nor the catastrophic truths soon to be revealed.</td>\n",
       "    </tr>\n",
       "  </tbody>\n",
       "</table>\n",
       "</div>"
      ]
     },
     "metadata": {},
     "execution_count": 336
    }
   ],
   "metadata": {}
  },
  {
   "cell_type": "markdown",
   "source": [
    "# Ranking based Recommendation"
   ],
   "metadata": {}
  },
  {
   "cell_type": "code",
   "execution_count": 339,
   "source": [
    "print(\"Showing recommendations for user: {}\".format(random_user))\n",
    "print(\"===\" * 25)\n",
    "\n",
    "animes_watched_by_user = df_rating_complete[df_rating_complete.user_id==random_user]\n",
    "anime_not_watched_df = df_synopsis[\n",
    "    ~df_synopsis[\"anime_id\"].isin(animes_watched_by_user.anime_id.values)\n",
    "]\n",
    "\n",
    "# 앞의 set과 뒤의 set모두 존재하는 값을 리스트로 반환\n",
    "anime_not_watched = list(\n",
    "    set(anime_not_watched_df['anime_id']).intersection(set(anime2anime_encoded.keys()))\n",
    ")\n",
    "\n",
    "# user_id 인코딩\n",
    "anime_not_watched = [[anime2anime_encoded.get(x)] for x in anime_not_watched] \n",
    "user_encoder = user2user_encoded.get(random_user)\n",
    "\n",
    "\n",
    "user_anime_array = np.hstack( # 배열을 수평으로 순서대로 쌓음\n",
    "    ([[user_encoder]] * len(anime_not_watched), anime_not_watched)\n",
    ")\n",
    "\n",
    "user_anime_array = [user_anime_array[:, 0], user_anime_array[:, 1]]\n",
    "\n",
    "ratings = model.predict(user_anime_array).flatten() # 모델을 통해 안본 애니들 추천예상\n",
    "\n",
    "top_ratings_indices = (-ratings).argsort()[:10] #배열을 정렬할 인덱스를 슬라이싱해서 반환\n",
    "\n",
    "recommended_anime_ids = [ # 상위 레이팅 안본 애니들 애니ID 리스트로 반환함\n",
    "    anime_encoded2anime.get(anime_not_watched[x][0]) for x in top_ratings_indices\n",
    "]\n",
    "\n",
    "Results = []\n",
    "top_rated_ids = []\n",
    "\n",
    "for index, anime_id in enumerate(anime_not_watched):\n",
    "    rating = ratings[index]\n",
    "    id_ = anime_encoded2anime.get(anime_id[0])\n",
    "    \n",
    "    if id_ in recommended_anime_ids:\n",
    "        top_rated_ids.append(id_)\n",
    "        try:\n",
    "            condition = (df_synopsis.anime_id == id_)\n",
    "            name = df_synopsis[condition]['Name'].values[0]\n",
    "            genre = df_synopsis[condition].Genres.values[0]\n",
    "            score = df_synopsis[condition].Score.values[0]\n",
    "            sypnopsis = get_sypnopsis(int(id_))\n",
    "            \n",
    "        except:\n",
    "            continue\n",
    "        Results.append({#\"anime_id\": id_, \n",
    "                        \"name\": name, \n",
    "                        \"pred_rating\": rating,\n",
    "                        \"genre\": genre, \n",
    "                        'sypnopsis': sypnopsis})\n",
    "\n",
    "print(\"---\" * 25)\n",
    "print(\"> Top 10 anime recommendations\")\n",
    "print(\"---\" * 25)\n",
    "\n",
    "Results = pd.DataFrame(Results).sort_values(by='pred_rating', ascending=False)\n",
    "Results"
   ],
   "outputs": [
    {
     "output_type": "stream",
     "name": "stdout",
     "text": [
      "Showing recommendations for user: 338080\n",
      "===========================================================================\n",
      "[array([296691, 296691, 296691, ..., 296691, 296691, 296691]), array([ 2562, 10917,  1508, ...,  7775,  8203,  8040])]\n",
      "---------------------------------------------------------------------------\n",
      "> Top 10 anime recommendations\n",
      "---------------------------------------------------------------------------\n"
     ]
    },
    {
     "output_type": "execute_result",
     "data": {
      "text/plain": [
       "                                             name  pred_rating  \\\n",
       "6                          Natsume Yuujinchou Shi     0.996235   \n",
       "2                            Ginga Eiyuu Densetsu     0.995975   \n",
       "1                                        Mushishi     0.995853   \n",
       "0                           Natsume Yuujinchou Go     0.995846   \n",
       "8                                        Gintama°     0.995635   \n",
       "9                                         Ma Shen     0.995574   \n",
       "4                                        Gintama'     0.995559   \n",
       "3                         Natsume Yuujinchou Roku     0.995530   \n",
       "5  Mahou Shoujo Lyrical Nanoha: The Movie 2nd A's     0.995438   \n",
       "7        Natsume Yuujinchou: Itsuka Yuki no Hi ni     0.995349   \n",
       "\n",
       "                                                                          genre  \\\n",
       "6                            Slice of Life, Demons, Supernatural, Drama, Shoujo   \n",
       "2                                                Military, Sci-Fi, Space, Drama   \n",
       "1  Adventure, Slice of Life, Mystery, Historical, Supernatural, Fantasy, Seinen   \n",
       "0                            Slice of Life, Demons, Supernatural, Drama, Shoujo   \n",
       "8                  Action, Comedy, Historical, Parody, Samurai, Sci-Fi, Shounen   \n",
       "9                                                                   Game, Drama   \n",
       "4                  Action, Sci-Fi, Comedy, Historical, Parody, Samurai, Shounen   \n",
       "3                            Slice of Life, Demons, Supernatural, Drama, Shoujo   \n",
       "5                                          Action, Magic, Comedy, Sci-Fi, Drama   \n",
       "7                            Slice of Life, Demons, Supernatural, Drama, Shoujo   \n",
       "\n",
       "                                                                                                                                                                                                                                                                                                                                                                                                                                                                                                                                                                                                                                                                                                                                                                                                                                                                                                                                                                                                                                                                                                                                                                                                              sypnopsis  \n",
       "6            Takashi Natsume, the timid youkai expert and master of the Book of Friends, continues his journey towards self-understanding and acceptance with the help of friends both new and old. His most important ally is still his gluttonous and sake-loving bodyguard, the arrogant but fiercely protective wolf spirit Madara—or Nyanko-sensei, as Madara is called when in his usual disguise of an unassuming, pudgy cat. Natsume, while briefly separated from Nyanko-sensei, is ambushed and kidnapped by a strange group of masked, monkey-like youkai, who have spirited him away to their forest as they desperately search for the Book of Friends. Realizing that his \"servant\" has been taken out from right under his nose, Nyanko-sensei enlists the help of Natsume's youkai friends and mounts a rescue operation. However, the forest of the monkey spirits holds many dangerous enemies, including the Matoba Clan, Natsume's old nemesis. Stretching from the formidable hideout of the Matoba to Natsume's own childhood home, Natsume Yuujinchou Shi is a sweeping but familiar return to a world of danger and friendship, where Natsume will finally confront the demons of his own past.  \n",
       "2                                                                                                                                                                                                                                             The 150-year-long stalemate between the two interstellar superpowers, the Galactic Empire and the Free Planets Alliance, comes to an end when a new generation of leaders arises: the idealistic military genius Reinhard von Lohengramm, and the FPA's reserved historian, Yang Wenli. While Reinhard climbs the ranks of the Empire with the aid of his childhood friend, Siegfried Kircheis, he must fight not only the war, but also the remnants of the crumbling Goldenbaum Dynasty in order to free his sister from the Kaiser and unify humanity under one genuine ruler. Meanwhile, on the other side of the galaxy, Yang—a strong supporter of democratic ideals—has to stand firm in his beliefs, despite the struggles of the FPA, and show his pupil, Julian Mintz, that autocracy is not the solution. As ideologies clash amidst the war's many casualties, the two strategic masterminds must ask themselves what the real reason behind their battle is.  \n",
       "1                                                                                                                                                                                           \"Mushi\": the most basic forms of life in the world. They exist without any goals or purposes aside from simply \"being.\" They are beyond the shackles of the words \"good\" and \"evil.\" Mushi can exist in countless forms and are capable of mimicking things from the natural world such as plants, diseases, and even phenomena like rainbows. This is, however, just a vague definition of these entities that inhabit the vibrant world of Mushishi, as to even call them a form of life would be an oversimplification. Detailed information on Mushi is scarce because the majority of humans are unaware of their existence. So what are Mushi and why do they exist? This is the question that a \"Mushishi,\" Ginko, ponders constantly. Mushishi are those who research Mushi in hopes of understanding their place in the world's hierarchy of life. Ginko chases rumors of occurrences that could be tied to Mushi, all for the sake of finding an answer. It could, after all, lead to the meaning of life itself.  \n",
       "0                                                                                                                                                                                                                                                                                                                                                                                                                                                                                                                                                                                                                                                                                                                                                                                                                                                                                                                                                                                                                                                                                                                                                                                      Season 5 of Natsume Yuujinchou .  \n",
       "8  Gintoki, Shinpachi, and Kagura return as the fun-loving but broke members of the Yorozuya team! Living in an alternate-reality Edo, where swords are prohibited and alien overlords have conquered Japan, they try to thrive on doing whatever work they can get their hands on. However, Shinpachi and Kagura still haven't been paid... Does Gin-chan really spend all that cash playing pachinko? Meanwhile, when Gintoki drunkenly staggers home one night, an alien spaceship crashes nearby. A fatally injured crew member emerges from the ship and gives Gintoki a strange, clock-shaped device, warning him that it is incredibly powerful and must be safeguarded. Mistaking it for his alarm clock, Gintoki proceeds to smash the device the next morning and suddenly discovers that the world outside his apartment has come to a standstill. With Kagura and Shinpachi at his side, he sets off to get the device fixed; though, as usual, nothing is ever that simple for the Yorozuya team. Filled with tongue-in-cheek humor and moments of heartfelt emotion, Gintama 's fourth season finds Gintoki and his friends facing both their most hilarious misadventures and most dangerous crises yet.  \n",
       "9                                                                                                                                                                                                                                                                                                                                                                                                                                                                                                                                                                                                                                                                                                                                                                                                                                                                                                                                                                                       ahjong holds a major influence over the world. Mahjong masters are highly respected, and these players compete to become the leading player: the Mahjong King! Players from across the world come together to duel one another.  \n",
       "4                                                                                                fter a one-year hiatus, Shinpachi Shimura returns to Edo, only to stumble upon a shocking surprise: Gintoki and Kagura, his fellow Yorozuya members, have become completely different characters! Fleeing from the Yorozuya headquarters in confusion, Shinpachi finds that all the denizens of Edo have undergone impossibly extreme changes, in both appearance and personality. Most unbelievably, his sister Otae has married the Shinsengumi chief and shameless stalker Isao Kondou and is pregnant with their first child. Bewildered, Shinpachi agrees to join the Shinsengumi at Otae and Kondou's request and finds even more startling transformations afoot both in and out of the ranks of the the organization. However, discovering that Vice Chief Toushirou Hijikata has remained unchanged, Shinpachi and his unlikely Shinsengumi ally set out to return the city of Edo to how they remember it. With even more dirty jokes, tongue-in-cheek parodies, and shameless references, Gintama' follows the Yorozuya team through more of their misadventures in the vibrant, alien-filled world of Edo.  \n",
       "3                                                                                                                                                                                                                                                                                                                                                                                                                                                                                                                       Takashi Natsume has grown accustomed to his encounters with youkai through the Book of Friends, which contains the names of youkai whom his grandmother, Reiko Natsume, has sealed in contracts. These encounters allow Natsume to better understand the youkai, Reiko, and himself. The Book of Friends is a powerful tool that can be used to control youkai; it is sought after by both youkai and exorcists alike. Natsume just wants to live out his daily life in peace but is constantly disrupted by these experiences. If he is to end this torment, Natsume must explore more about the book and the world of exorcism, as well as begin to open his heart to those who can help him.  \n",
       "5                                                                                                                                                                                                                                                                                                                                                                                                                                                                                                                                                                                   Six months have passed since the events in the previous movie. Fate has returned to Uminari City with Lindy as her legal guardian and is living the life of a normal elementary schoolgirl along with Nanoha and her friends. The reunion between the two new-found friends is cut short, however, when they are assaulted by four ancient magic users who identify themselves as the Wolkenritter. As the motives behind the actions of the Wolkenritter become clear, Nanoha and Fate find themselves in a race against time to stop the reactivation of a highly dangerous artifact known as The Book of Darkness. (Source: ANN)  \n",
       "7                                                                                                                                                                                                                                                                                                                                                                                                                                                                                                                                                                                                                                                                                                                                                                                                                                                                                                                                                                                                                   During a winter walk, Natsume meets a snowman youkai who is searching for something she's lost and can't seem to recall and decides to help her despite not knowing what exactly she's looking for.  "
      ],
      "text/html": [
       "<div>\n",
       "<style scoped>\n",
       "    .dataframe tbody tr th:only-of-type {\n",
       "        vertical-align: middle;\n",
       "    }\n",
       "\n",
       "    .dataframe tbody tr th {\n",
       "        vertical-align: top;\n",
       "    }\n",
       "\n",
       "    .dataframe thead th {\n",
       "        text-align: right;\n",
       "    }\n",
       "</style>\n",
       "<table border=\"1\" class=\"dataframe\">\n",
       "  <thead>\n",
       "    <tr style=\"text-align: right;\">\n",
       "      <th></th>\n",
       "      <th>name</th>\n",
       "      <th>pred_rating</th>\n",
       "      <th>genre</th>\n",
       "      <th>sypnopsis</th>\n",
       "    </tr>\n",
       "  </thead>\n",
       "  <tbody>\n",
       "    <tr>\n",
       "      <th>6</th>\n",
       "      <td>Natsume Yuujinchou Shi</td>\n",
       "      <td>0.996235</td>\n",
       "      <td>Slice of Life, Demons, Supernatural, Drama, Shoujo</td>\n",
       "      <td>Takashi Natsume, the timid youkai expert and master of the Book of Friends, continues his journey towards self-understanding and acceptance with the help of friends both new and old. His most important ally is still his gluttonous and sake-loving bodyguard, the arrogant but fiercely protective wolf spirit Madara—or Nyanko-sensei, as Madara is called when in his usual disguise of an unassuming, pudgy cat. Natsume, while briefly separated from Nyanko-sensei, is ambushed and kidnapped by a strange group of masked, monkey-like youkai, who have spirited him away to their forest as they desperately search for the Book of Friends. Realizing that his \"servant\" has been taken out from right under his nose, Nyanko-sensei enlists the help of Natsume's youkai friends and mounts a rescue operation. However, the forest of the monkey spirits holds many dangerous enemies, including the Matoba Clan, Natsume's old nemesis. Stretching from the formidable hideout of the Matoba to Natsume's own childhood home, Natsume Yuujinchou Shi is a sweeping but familiar return to a world of danger and friendship, where Natsume will finally confront the demons of his own past.</td>\n",
       "    </tr>\n",
       "    <tr>\n",
       "      <th>2</th>\n",
       "      <td>Ginga Eiyuu Densetsu</td>\n",
       "      <td>0.995975</td>\n",
       "      <td>Military, Sci-Fi, Space, Drama</td>\n",
       "      <td>The 150-year-long stalemate between the two interstellar superpowers, the Galactic Empire and the Free Planets Alliance, comes to an end when a new generation of leaders arises: the idealistic military genius Reinhard von Lohengramm, and the FPA's reserved historian, Yang Wenli. While Reinhard climbs the ranks of the Empire with the aid of his childhood friend, Siegfried Kircheis, he must fight not only the war, but also the remnants of the crumbling Goldenbaum Dynasty in order to free his sister from the Kaiser and unify humanity under one genuine ruler. Meanwhile, on the other side of the galaxy, Yang—a strong supporter of democratic ideals—has to stand firm in his beliefs, despite the struggles of the FPA, and show his pupil, Julian Mintz, that autocracy is not the solution. As ideologies clash amidst the war's many casualties, the two strategic masterminds must ask themselves what the real reason behind their battle is.</td>\n",
       "    </tr>\n",
       "    <tr>\n",
       "      <th>1</th>\n",
       "      <td>Mushishi</td>\n",
       "      <td>0.995853</td>\n",
       "      <td>Adventure, Slice of Life, Mystery, Historical, Supernatural, Fantasy, Seinen</td>\n",
       "      <td>\"Mushi\": the most basic forms of life in the world. They exist without any goals or purposes aside from simply \"being.\" They are beyond the shackles of the words \"good\" and \"evil.\" Mushi can exist in countless forms and are capable of mimicking things from the natural world such as plants, diseases, and even phenomena like rainbows. This is, however, just a vague definition of these entities that inhabit the vibrant world of Mushishi, as to even call them a form of life would be an oversimplification. Detailed information on Mushi is scarce because the majority of humans are unaware of their existence. So what are Mushi and why do they exist? This is the question that a \"Mushishi,\" Ginko, ponders constantly. Mushishi are those who research Mushi in hopes of understanding their place in the world's hierarchy of life. Ginko chases rumors of occurrences that could be tied to Mushi, all for the sake of finding an answer. It could, after all, lead to the meaning of life itself.</td>\n",
       "    </tr>\n",
       "    <tr>\n",
       "      <th>0</th>\n",
       "      <td>Natsume Yuujinchou Go</td>\n",
       "      <td>0.995846</td>\n",
       "      <td>Slice of Life, Demons, Supernatural, Drama, Shoujo</td>\n",
       "      <td>Season 5 of Natsume Yuujinchou .</td>\n",
       "    </tr>\n",
       "    <tr>\n",
       "      <th>8</th>\n",
       "      <td>Gintama°</td>\n",
       "      <td>0.995635</td>\n",
       "      <td>Action, Comedy, Historical, Parody, Samurai, Sci-Fi, Shounen</td>\n",
       "      <td>Gintoki, Shinpachi, and Kagura return as the fun-loving but broke members of the Yorozuya team! Living in an alternate-reality Edo, where swords are prohibited and alien overlords have conquered Japan, they try to thrive on doing whatever work they can get their hands on. However, Shinpachi and Kagura still haven't been paid... Does Gin-chan really spend all that cash playing pachinko? Meanwhile, when Gintoki drunkenly staggers home one night, an alien spaceship crashes nearby. A fatally injured crew member emerges from the ship and gives Gintoki a strange, clock-shaped device, warning him that it is incredibly powerful and must be safeguarded. Mistaking it for his alarm clock, Gintoki proceeds to smash the device the next morning and suddenly discovers that the world outside his apartment has come to a standstill. With Kagura and Shinpachi at his side, he sets off to get the device fixed; though, as usual, nothing is ever that simple for the Yorozuya team. Filled with tongue-in-cheek humor and moments of heartfelt emotion, Gintama 's fourth season finds Gintoki and his friends facing both their most hilarious misadventures and most dangerous crises yet.</td>\n",
       "    </tr>\n",
       "    <tr>\n",
       "      <th>9</th>\n",
       "      <td>Ma Shen</td>\n",
       "      <td>0.995574</td>\n",
       "      <td>Game, Drama</td>\n",
       "      <td>ahjong holds a major influence over the world. Mahjong masters are highly respected, and these players compete to become the leading player: the Mahjong King! Players from across the world come together to duel one another.</td>\n",
       "    </tr>\n",
       "    <tr>\n",
       "      <th>4</th>\n",
       "      <td>Gintama'</td>\n",
       "      <td>0.995559</td>\n",
       "      <td>Action, Sci-Fi, Comedy, Historical, Parody, Samurai, Shounen</td>\n",
       "      <td>fter a one-year hiatus, Shinpachi Shimura returns to Edo, only to stumble upon a shocking surprise: Gintoki and Kagura, his fellow Yorozuya members, have become completely different characters! Fleeing from the Yorozuya headquarters in confusion, Shinpachi finds that all the denizens of Edo have undergone impossibly extreme changes, in both appearance and personality. Most unbelievably, his sister Otae has married the Shinsengumi chief and shameless stalker Isao Kondou and is pregnant with their first child. Bewildered, Shinpachi agrees to join the Shinsengumi at Otae and Kondou's request and finds even more startling transformations afoot both in and out of the ranks of the the organization. However, discovering that Vice Chief Toushirou Hijikata has remained unchanged, Shinpachi and his unlikely Shinsengumi ally set out to return the city of Edo to how they remember it. With even more dirty jokes, tongue-in-cheek parodies, and shameless references, Gintama' follows the Yorozuya team through more of their misadventures in the vibrant, alien-filled world of Edo.</td>\n",
       "    </tr>\n",
       "    <tr>\n",
       "      <th>3</th>\n",
       "      <td>Natsume Yuujinchou Roku</td>\n",
       "      <td>0.995530</td>\n",
       "      <td>Slice of Life, Demons, Supernatural, Drama, Shoujo</td>\n",
       "      <td>Takashi Natsume has grown accustomed to his encounters with youkai through the Book of Friends, which contains the names of youkai whom his grandmother, Reiko Natsume, has sealed in contracts. These encounters allow Natsume to better understand the youkai, Reiko, and himself. The Book of Friends is a powerful tool that can be used to control youkai; it is sought after by both youkai and exorcists alike. Natsume just wants to live out his daily life in peace but is constantly disrupted by these experiences. If he is to end this torment, Natsume must explore more about the book and the world of exorcism, as well as begin to open his heart to those who can help him.</td>\n",
       "    </tr>\n",
       "    <tr>\n",
       "      <th>5</th>\n",
       "      <td>Mahou Shoujo Lyrical Nanoha: The Movie 2nd A's</td>\n",
       "      <td>0.995438</td>\n",
       "      <td>Action, Magic, Comedy, Sci-Fi, Drama</td>\n",
       "      <td>Six months have passed since the events in the previous movie. Fate has returned to Uminari City with Lindy as her legal guardian and is living the life of a normal elementary schoolgirl along with Nanoha and her friends. The reunion between the two new-found friends is cut short, however, when they are assaulted by four ancient magic users who identify themselves as the Wolkenritter. As the motives behind the actions of the Wolkenritter become clear, Nanoha and Fate find themselves in a race against time to stop the reactivation of a highly dangerous artifact known as The Book of Darkness. (Source: ANN)</td>\n",
       "    </tr>\n",
       "    <tr>\n",
       "      <th>7</th>\n",
       "      <td>Natsume Yuujinchou: Itsuka Yuki no Hi ni</td>\n",
       "      <td>0.995349</td>\n",
       "      <td>Slice of Life, Demons, Supernatural, Drama, Shoujo</td>\n",
       "      <td>During a winter walk, Natsume meets a snowman youkai who is searching for something she's lost and can't seem to recall and decides to help her despite not knowing what exactly she's looking for.</td>\n",
       "    </tr>\n",
       "  </tbody>\n",
       "</table>\n",
       "</div>"
      ]
     },
     "metadata": {},
     "execution_count": 339
    }
   ],
   "metadata": {}
  },
  {
   "cell_type": "code",
   "execution_count": null,
   "source": [],
   "outputs": [],
   "metadata": {}
  }
 ],
 "metadata": {
  "kernelspec": {
   "name": "python3",
   "display_name": "Python 3.8.10 64-bit ('sec5': conda)"
  },
  "language_info": {
   "codemirror_mode": {
    "name": "ipython",
    "version": 3
   },
   "file_extension": ".py",
   "mimetype": "text/x-python",
   "name": "python",
   "nbconvert_exporter": "python",
   "pygments_lexer": "ipython3",
   "version": "3.8.10"
  },
  "interpreter": {
   "hash": "30fb44b654abf8819e1603e2d332843107d8945fd43608039d26692b9489886b"
  }
 },
 "nbformat": 4,
 "nbformat_minor": 4
}